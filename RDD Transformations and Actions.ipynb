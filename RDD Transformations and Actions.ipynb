{
 "cells": [
  {
   "cell_type": "code",
   "execution_count": 211,
   "id": "2267fd32",
   "metadata": {},
   "outputs": [],
   "source": [
    "import findspark\n",
    "from pyspark.sql import SparkSession"
   ]
  },
  {
   "cell_type": "code",
   "execution_count": 57,
   "id": "0fa73082",
   "metadata": {},
   "outputs": [],
   "source": [
    "findspark.init()"
   ]
  },
  {
   "cell_type": "code",
   "execution_count": 58,
   "id": "91d0bc75",
   "metadata": {},
   "outputs": [],
   "source": [
    "spark=SparkSession.builder.getOrCreate()"
   ]
  },
  {
   "cell_type": "markdown",
   "id": "b348496b",
   "metadata": {},
   "source": [
    "# Primarily used for working with RDDs and performing low-level distributed data operations. It is the foundational object that connects Spark to the cluster."
   ]
  },
  {
   "cell_type": "code",
   "execution_count": 59,
   "id": "1a9f0bfd",
   "metadata": {},
   "outputs": [
    {
     "data": {
      "text/html": [
       "\n",
       "            <div>\n",
       "                <p><b>SparkSession - in-memory</b></p>\n",
       "                \n",
       "        <div>\n",
       "            <p><b>SparkContext</b></p>\n",
       "\n",
       "            <p><a href=\"http://Pradeep:4041\">Spark UI</a></p>\n",
       "\n",
       "            <dl>\n",
       "              <dt>Version</dt>\n",
       "                <dd><code>v3.5.2</code></dd>\n",
       "              <dt>Master</dt>\n",
       "                <dd><code>local[*]</code></dd>\n",
       "              <dt>AppName</dt>\n",
       "                <dd><code>pyspark-shell</code></dd>\n",
       "            </dl>\n",
       "        </div>\n",
       "        \n",
       "            </div>\n",
       "        "
      ],
      "text/plain": [
       "<pyspark.sql.session.SparkSession at 0x1eb7eff4850>"
      ]
     },
     "execution_count": 59,
     "metadata": {},
     "output_type": "execute_result"
    }
   ],
   "source": [
    "spark"
   ]
  },
  {
   "cell_type": "code",
   "execution_count": 61,
   "id": "6cbbb3c8",
   "metadata": {},
   "outputs": [],
   "source": [
    "sc=spark.sparkContext"
   ]
  },
  {
   "cell_type": "markdown",
   "id": "2aed5e58",
   "metadata": {},
   "source": [
    "# The modern entry point for working with structured data (DataFrames, SQL, Datasets) and more user-friendly APIs introduced in Spark 2.0. It also internally creates a SparkContext (spark.sparkContext)."
   ]
  },
  {
   "cell_type": "code",
   "execution_count": 62,
   "id": "65c99e73",
   "metadata": {},
   "outputs": [
    {
     "data": {
      "text/html": [
       "\n",
       "        <div>\n",
       "            <p><b>SparkContext</b></p>\n",
       "\n",
       "            <p><a href=\"http://Pradeep:4041\">Spark UI</a></p>\n",
       "\n",
       "            <dl>\n",
       "              <dt>Version</dt>\n",
       "                <dd><code>v3.5.2</code></dd>\n",
       "              <dt>Master</dt>\n",
       "                <dd><code>local[*]</code></dd>\n",
       "              <dt>AppName</dt>\n",
       "                <dd><code>pyspark-shell</code></dd>\n",
       "            </dl>\n",
       "        </div>\n",
       "        "
      ],
      "text/plain": [
       "<SparkContext master=local[*] appName=pyspark-shell>"
      ]
     },
     "execution_count": 62,
     "metadata": {},
     "output_type": "execute_result"
    }
   ],
   "source": [
    "sc"
   ]
  },
  {
   "cell_type": "markdown",
   "id": "853587c6",
   "metadata": {},
   "source": [
    "first will work on sparkcontext transformations:(sc)"
   ]
  },
  {
   "cell_type": "code",
   "execution_count": 64,
   "id": "ca6f7268",
   "metadata": {},
   "outputs": [
    {
     "name": "stdout",
     "output_type": "stream",
     "text": [
      "Overwriting example2.txt\n"
     ]
    }
   ],
   "source": [
    "%%writefile example2.txt\n",
    "first \n",
    "second line\n",
    "the third line\n",
    "then a fourth line"
   ]
  },
  {
   "cell_type": "code",
   "execution_count": 68,
   "id": "3fd812f6",
   "metadata": {},
   "outputs": [],
   "source": [
    "text_file=sc.textFile('example2.txt')"
   ]
  },
  {
   "cell_type": "code",
   "execution_count": 69,
   "id": "ab0e3cf7",
   "metadata": {},
   "outputs": [
    {
     "data": {
      "text/plain": [
       "['first ', 'second line', 'the third line', 'then a fourth line']"
      ]
     },
     "execution_count": 69,
     "metadata": {},
     "output_type": "execute_result"
    }
   ],
   "source": [
    "text_file.collect()"
   ]
  },
  {
   "cell_type": "code",
   "execution_count": 70,
   "id": "40b445ad",
   "metadata": {},
   "outputs": [
    {
     "data": {
      "text/plain": [
       "[['first'],\n",
       " ['second', 'line'],\n",
       " ['the', 'third', 'line'],\n",
       " ['then', 'a', 'fourth', 'line']]"
      ]
     },
     "execution_count": 70,
     "metadata": {},
     "output_type": "execute_result"
    }
   ],
   "source": [
    "text_file.map(lambda line : line.split()).collect()"
   ]
  },
  {
   "cell_type": "code",
   "execution_count": 72,
   "id": "fc187f0a",
   "metadata": {},
   "outputs": [
    {
     "data": {
      "text/plain": [
       "['first',\n",
       " 'second',\n",
       " 'line',\n",
       " 'the',\n",
       " 'third',\n",
       " 'line',\n",
       " 'then',\n",
       " 'a',\n",
       " 'fourth',\n",
       " 'line']"
      ]
     },
     "execution_count": 72,
     "metadata": {},
     "output_type": "execute_result"
    }
   ],
   "source": [
    "text_file.flatMap(lambda line : line.split()).collect()"
   ]
  },
  {
   "cell_type": "code",
   "execution_count": 73,
   "id": "84f77c8d",
   "metadata": {},
   "outputs": [
    {
     "name": "stdout",
     "output_type": "stream",
     "text": [
      "Writing services.txt\n"
     ]
    }
   ],
   "source": [
    "%%writefile services.txt\n",
    "#EventId    Timestamp    Customer   State    ServiceID    Amount\n",
    "201       10/13/2017      100       NY       131          100.00\n",
    "204       10/18/2017      700       TX       129          450.00\n",
    "202       10/15/2017      203       CA       121          200.00\n",
    "206       10/19/2017      202       CA       131          500.00\n",
    "203       10/17/2017      101       NY       173          750.00\n",
    "205       10/19/2017      202       TX       121          200.00"
   ]
  },
  {
   "cell_type": "code",
   "execution_count": 81,
   "id": "deaf3091",
   "metadata": {},
   "outputs": [],
   "source": [
    "services=sc.textFile('services.txt')"
   ]
  },
  {
   "cell_type": "code",
   "execution_count": 82,
   "id": "284c35d0",
   "metadata": {},
   "outputs": [
    {
     "data": {
      "text/plain": [
       "['#EventId    Timestamp    Customer   State    ServiceID    Amount',\n",
       " '201       10/13/2017      100       NY       131          100.00',\n",
       " '204       10/18/2017      700       TX       129          450.00',\n",
       " '202       10/15/2017      203       CA       121          200.00',\n",
       " '206       10/19/2017      202       CA       131          500.00',\n",
       " '203       10/17/2017      101       NY       173          750.00',\n",
       " '205       10/19/2017      202       TX       121          200.00']"
      ]
     },
     "execution_count": 82,
     "metadata": {},
     "output_type": "execute_result"
    }
   ],
   "source": [
    "services.collect()"
   ]
  },
  {
   "cell_type": "code",
   "execution_count": 83,
   "id": "7f72d65c",
   "metadata": {},
   "outputs": [
    {
     "data": {
      "text/plain": [
       "['#EventId    Timestamp    Customer   State    ServiceID    Amount']"
      ]
     },
     "execution_count": 83,
     "metadata": {},
     "output_type": "execute_result"
    }
   ],
   "source": [
    "services.take(1)"
   ]
  },
  {
   "cell_type": "code",
   "execution_count": 84,
   "id": "c0423e4c",
   "metadata": {},
   "outputs": [
    {
     "data": {
      "text/plain": [
       "[['#EventId', 'Timestamp', 'Customer', 'State', 'ServiceID', 'Amount'],\n",
       " ['201', '10/13/2017', '100', 'NY', '131', '100.00'],\n",
       " ['204', '10/18/2017', '700', 'TX', '129', '450.00'],\n",
       " ['202', '10/15/2017', '203', 'CA', '121', '200.00'],\n",
       " ['206', '10/19/2017', '202', 'CA', '131', '500.00'],\n",
       " ['203', '10/17/2017', '101', 'NY', '173', '750.00'],\n",
       " ['205', '10/19/2017', '202', 'TX', '121', '200.00']]"
      ]
     },
     "execution_count": 84,
     "metadata": {},
     "output_type": "execute_result"
    }
   ],
   "source": [
    "services.map(lambda x: x.split()).collect()"
   ]
  },
  {
   "cell_type": "code",
   "execution_count": 86,
   "id": "f9aecf13",
   "metadata": {},
   "outputs": [],
   "source": [
    "# we need to remove the hashtag \n",
    "\n",
    "clean=services.map(lambda x:x[1:] if x[0]=='#' else x)"
   ]
  },
  {
   "cell_type": "code",
   "execution_count": 104,
   "id": "c0099da6",
   "metadata": {},
   "outputs": [],
   "source": [
    "clean_serv=clean.map(lambda x:x.split())"
   ]
  },
  {
   "cell_type": "code",
   "execution_count": 105,
   "id": "900522df",
   "metadata": {},
   "outputs": [
    {
     "data": {
      "text/plain": [
       "[['EventId', 'Timestamp', 'Customer', 'State', 'ServiceID', 'Amount'],\n",
       " ['201', '10/13/2017', '100', 'NY', '131', '100.00'],\n",
       " ['204', '10/18/2017', '700', 'TX', '129', '450.00'],\n",
       " ['202', '10/15/2017', '203', 'CA', '121', '200.00'],\n",
       " ['206', '10/19/2017', '202', 'CA', '131', '500.00'],\n",
       " ['203', '10/17/2017', '101', 'NY', '173', '750.00'],\n",
       " ['205', '10/19/2017', '202', 'TX', '121', '200.00']]"
      ]
     },
     "execution_count": 105,
     "metadata": {},
     "output_type": "execute_result"
    }
   ],
   "source": [
    "clean_serv.collect()"
   ]
  },
  {
   "cell_type": "code",
   "execution_count": 108,
   "id": "1b53656e",
   "metadata": {},
   "outputs": [
    {
     "data": {
      "text/plain": [
       "[('State', 'Amount'),\n",
       " ('NY', '100.00'),\n",
       " ('TX', '450.00'),\n",
       " ('CA', '200.00'),\n",
       " ('CA', '500.00'),\n",
       " ('NY', '750.00'),\n",
       " ('TX', '200.00')]"
      ]
     },
     "execution_count": 108,
     "metadata": {},
     "output_type": "execute_result"
    }
   ],
   "source": [
    "#grabbing feilds\n",
    "clean_serv.map(lambda x: (x[3],x[-1] )).collect()"
   ]
  },
  {
   "cell_type": "code",
   "execution_count": 107,
   "id": "937d6f82",
   "metadata": {},
   "outputs": [
    {
     "data": {
      "text/plain": [
       "[('E', 't'),\n",
       " ('2', '0'),\n",
       " ('2', '0'),\n",
       " ('2', '0'),\n",
       " ('2', '0'),\n",
       " ('2', '0'),\n",
       " ('2', '0')]"
      ]
     },
     "execution_count": 107,
     "metadata": {},
     "output_type": "execute_result"
    }
   ],
   "source": [
    "clean.map(lambda x: (x[0],x[-1] )).collect()"
   ]
  },
  {
   "cell_type": "code",
   "execution_count": 112,
   "id": "af796dcd",
   "metadata": {},
   "outputs": [
    {
     "data": {
      "text/plain": [
       "[('NY', 850.0), ('CA', 700.0), ('State', 'Amount'), ('TX', 650.0)]"
      ]
     },
     "execution_count": 112,
     "metadata": {},
     "output_type": "execute_result"
    }
   ],
   "source": [
    "# Grab state and amounts\n",
    "# Add them\n",
    "clean_serv.map(lambda x: (x[3],x[-1]) ).reduceByKey(lambda a1,a2: float(a1) + float(a2)).collect()"
   ]
  },
  {
   "cell_type": "code",
   "execution_count": 119,
   "id": "af0c8f6c",
   "metadata": {},
   "outputs": [
    {
     "data": {
      "text/plain": [
       "[('NY', 850.0), ('CA', 700.0), ('TX', 650.0)]"
      ]
     },
     "execution_count": 119,
     "metadata": {},
     "output_type": "execute_result"
    }
   ],
   "source": [
    "# Grab state and amounts\n",
    "# Add them\n",
    "# Get rid of ('State','Amount')\n",
    "# Sort them by the amount value\n",
    "clean_serv.map(lambda x: (x[3],x[-1]) )\\\n",
    ".reduceByKey(lambda a1,a2: float(a1) + float(a2))\\\n",
    ".filter(lambda x : not x[0]=='State')\\\n",
    ".sortBy(lambda amount:amount[1],ascending=False).collect()"
   ]
  },
  {
   "cell_type": "code",
   "execution_count": 128,
   "id": "8f9bd68f",
   "metadata": {},
   "outputs": [
    {
     "data": {
      "text/plain": [
       "[('EventId', 'Timestamp'),\n",
       " ('201', '10/13/2017'),\n",
       " ('204', '10/18/2017'),\n",
       " ('202', '10/15/2017'),\n",
       " ('206', '10/19/2017'),\n",
       " ('203', '10/17/2017'),\n",
       " ('205', '10/19/2017')]"
      ]
     },
     "execution_count": 128,
     "metadata": {},
     "output_type": "execute_result"
    }
   ],
   "source": [
    "clean_serv.map(lambda x:(x[0],x[1])).collect()"
   ]
  },
  {
   "cell_type": "code",
   "execution_count": 129,
   "id": "0ff7be3d",
   "metadata": {},
   "outputs": [],
   "source": [
    "array=sc.parallelize([1,2,4,4,5,6,7])"
   ]
  },
  {
   "cell_type": "code",
   "execution_count": 130,
   "id": "87d2f2ef",
   "metadata": {},
   "outputs": [
    {
     "data": {
      "text/plain": [
       "[1, 2, 4, 4, 5, 6, 7]"
      ]
     },
     "execution_count": 130,
     "metadata": {},
     "output_type": "execute_result"
    }
   ],
   "source": [
    "array.collect()"
   ]
  },
  {
   "cell_type": "code",
   "execution_count": 132,
   "id": "5207938d",
   "metadata": {},
   "outputs": [
    {
     "data": {
      "text/plain": [
       "[2, 4, 4, 6]"
      ]
     },
     "execution_count": 132,
     "metadata": {},
     "output_type": "execute_result"
    }
   ],
   "source": [
    "array.filter(lambda x: x%2==0).collect()"
   ]
  },
  {
   "cell_type": "code",
   "execution_count": 146,
   "id": "1777ed1b",
   "metadata": {},
   "outputs": [
    {
     "data": {
      "text/plain": [
       "[1, 2, 4, 4, 5, 6, 7]"
      ]
     },
     "execution_count": 146,
     "metadata": {},
     "output_type": "execute_result"
    }
   ],
   "source": [
    "array.map(lambda x: x).collect()"
   ]
  },
  {
   "cell_type": "code",
   "execution_count": 137,
   "id": "c915103a",
   "metadata": {},
   "outputs": [],
   "source": [
    "array1=sc.parallelize([[1,2],[3,4],[5,6],[6,7]])"
   ]
  },
  {
   "cell_type": "code",
   "execution_count": 154,
   "id": "4898f517",
   "metadata": {},
   "outputs": [
    {
     "data": {
      "text/plain": [
       "[1, 2, 3, 4, 5, 6, 6, 7]"
      ]
     },
     "execution_count": 154,
     "metadata": {},
     "output_type": "execute_result"
    }
   ],
   "source": [
    "array1.flatMap(lambda x: x).collect()"
   ]
  },
  {
   "cell_type": "code",
   "execution_count": 152,
   "id": "8b0accdb",
   "metadata": {},
   "outputs": [
    {
     "data": {
      "text/plain": [
       "[[1, 2], [3, 4], [5, 6], [6, 7]]"
      ]
     },
     "execution_count": 152,
     "metadata": {},
     "output_type": "execute_result"
    }
   ],
   "source": [
    "array1.map(lambda x: x).collect()"
   ]
  },
  {
   "cell_type": "code",
   "execution_count": 156,
   "id": "54486f59",
   "metadata": {},
   "outputs": [],
   "source": [
    "string=sc.parallelize(['hello','world','pradeep','divya'])"
   ]
  },
  {
   "cell_type": "code",
   "execution_count": 157,
   "id": "1058b234",
   "metadata": {},
   "outputs": [
    {
     "data": {
      "text/plain": [
       "['hello', 'world', 'pradeep', 'divya']"
      ]
     },
     "execution_count": 157,
     "metadata": {},
     "output_type": "execute_result"
    }
   ],
   "source": [
    "string.collect()"
   ]
  },
  {
   "cell_type": "code",
   "execution_count": 168,
   "id": "bad83c98",
   "metadata": {},
   "outputs": [
    {
     "data": {
      "text/plain": [
       "['Hello', 'World', 'Pradeep', 'Divya']"
      ]
     },
     "execution_count": 168,
     "metadata": {},
     "output_type": "execute_result"
    }
   ],
   "source": [
    "string.map(lambda x: x.upper()).collect()\n",
    "string.map(lambda x: x.capitalize()).collect()"
   ]
  },
  {
   "cell_type": "code",
   "execution_count": 166,
   "id": "d9d56dad",
   "metadata": {},
   "outputs": [
    {
     "data": {
      "text/plain": [
       "['Hello', 'World', 'Pradeep', 'Divya']"
      ]
     },
     "execution_count": 166,
     "metadata": {},
     "output_type": "execute_result"
    }
   ],
   "source": [
    "string.flatMap(lambda x: [word.capitalize() for word in x.split()] ).collect()"
   ]
  },
  {
   "cell_type": "code",
   "execution_count": 176,
   "id": "533cbe70",
   "metadata": {},
   "outputs": [
    {
     "data": {
      "text/plain": [
       "['hello', 'world', 'pradeep', 'divya']"
      ]
     },
     "execution_count": 176,
     "metadata": {},
     "output_type": "execute_result"
    }
   ],
   "source": [
    "string.flatMap(lambda x: x.split() ).collect()"
   ]
  },
  {
   "cell_type": "code",
   "execution_count": 179,
   "id": "dc23c6e1",
   "metadata": {},
   "outputs": [
    {
     "data": {
      "text/plain": [
       "[1, 2, 4, 4, 5, 6, 7, 'hello', 'world', 'pradeep', 'divya']"
      ]
     },
     "execution_count": 179,
     "metadata": {},
     "output_type": "execute_result"
    }
   ],
   "source": [
    "array.union(string).collect()"
   ]
  },
  {
   "cell_type": "code",
   "execution_count": 182,
   "id": "85eb7c00",
   "metadata": {},
   "outputs": [
    {
     "data": {
      "text/plain": [
       "[1, 2, 4, 5, 6, 7]"
      ]
     },
     "execution_count": 182,
     "metadata": {},
     "output_type": "execute_result"
    }
   ],
   "source": [
    "array.distinct().collect()"
   ]
  },
  {
   "cell_type": "code",
   "execution_count": 183,
   "id": "cfebd99b",
   "metadata": {},
   "outputs": [
    {
     "data": {
      "text/plain": [
       "[1, 2, 4, 4, 5, 6, 7]"
      ]
     },
     "execution_count": 183,
     "metadata": {},
     "output_type": "execute_result"
    }
   ],
   "source": [
    "array.collect()"
   ]
  },
  {
   "cell_type": "code",
   "execution_count": 184,
   "id": "5f7fd74c",
   "metadata": {},
   "outputs": [
    {
     "data": {
      "text/plain": [
       "[[1, 2], [3, 4], [5, 6], [6, 7]]"
      ]
     },
     "execution_count": 184,
     "metadata": {},
     "output_type": "execute_result"
    }
   ],
   "source": [
    "array1.collect()"
   ]
  },
  {
   "cell_type": "code",
   "execution_count": 190,
   "id": "bfd780c8",
   "metadata": {},
   "outputs": [
    {
     "data": {
      "text/plain": [
       "[1, 2, 4]"
      ]
     },
     "execution_count": 190,
     "metadata": {},
     "output_type": "execute_result"
    }
   ],
   "source": [
    "array.take(3)"
   ]
  },
  {
   "cell_type": "code",
   "execution_count": 191,
   "id": "69aff4b3",
   "metadata": {},
   "outputs": [
    {
     "data": {
      "text/plain": [
       "[7, 6, 5]"
      ]
     },
     "execution_count": 191,
     "metadata": {},
     "output_type": "execute_result"
    }
   ],
   "source": [
    "array.top(3)\n"
   ]
  },
  {
   "cell_type": "markdown",
   "id": "19c3713b",
   "metadata": {},
   "source": [
    "# now will see the sparksession transformations and actions \n"
   ]
  },
  {
   "cell_type": "code",
   "execution_count": 224,
   "id": "32f8d04f",
   "metadata": {},
   "outputs": [],
   "source": [
    "df=spark.read.csv(\"amazon.csv\",header=True)\n",
    "spark.conf.set('spark.sql.repl.eagerEval.enabled', True)"
   ]
  },
  {
   "cell_type": "code",
   "execution_count": 225,
   "id": "770f7ca7",
   "metadata": {},
   "outputs": [
    {
     "data": {
      "text/html": [
       "<table border='1'>\n",
       "<tr><th>product_id</th><th>product_name</th><th>category</th><th>discounted_price</th><th>actual_price</th><th>discount_percentage</th><th>rating</th><th>rating_count</th><th>about_product</th><th>user_id</th><th>user_name</th><th>review_id</th><th>review_title</th><th>review_content</th><th>img_link</th><th>product_link</th></tr>\n",
       "<tr><td>B07JW9H4J1</td><td>Wayona Nylon Brai...</td><td>Computers&amp;Accesso...</td><td>₹399</td><td>₹1,099</td><td>64%</td><td>4.2</td><td>24,269</td><td>High Compatibilit...</td><td>AG3D6O4STAQKAY2UV...</td><td>Manav,Adarsh gupt...</td><td>R3HXWT0LRP0NMF,R2...</td><td>Satisfied,Chargin...</td><td>Looks durable Cha...</td><td>https://m.media-a...</td><td>https://www.amazo...</td></tr>\n",
       "<tr><td>B098NS6PVG</td><td>Ambrane Unbreakab...</td><td>Computers&amp;Accesso...</td><td>₹199</td><td>₹349</td><td>43%</td><td>4.0</td><td>43,994</td><td>Compatible with a...</td><td>AECPFYFQVRUWC3KGN...</td><td>ArdKn,Nirbhay kum...</td><td>RGIQEG07R9HS2,R1S...</td><td>A Good Braided Ca...</td><td>I ordered this ca...</td><td>https://m.media-a...</td><td>https://www.amazo...</td></tr>\n",
       "<tr><td>B096MSW6CT</td><td>Sounce Fast Phone...</td><td>Computers&amp;Accesso...</td><td>₹199</td><td>₹1,899</td><td>90%</td><td>3.9</td><td>7,928</td><td>【 Fast Charger&amp; D...</td><td>AGU3BBQ2V2DDAMOAK...</td><td>Kunal,Himanshu,vi...</td><td>R3J3EQQ9TZI5ZJ,R3...</td><td>Good speed for ea...</td><td>Not quite durable...</td><td>https://m.media-a...</td><td>https://www.amazo...</td></tr>\n",
       "<tr><td>B08HDJ86NZ</td><td>boAt Deuce USB 30...</td><td>Computers&amp;Accesso...</td><td>₹329</td><td>₹699</td><td>53%</td><td>4.2</td><td>94,363</td><td>The boAt Deuce US...</td><td>AEWAZDZZJLQUYVOVG...</td><td>Omkar dhale,JD,HE...</td><td>R3EEUZKKK9J36I,R3...</td><td>Good product,Good...</td><td>Good product,long...</td><td>https://m.media-a...</td><td>https://www.amazo...</td></tr>\n",
       "<tr><td>B08CF3B7N1</td><td>Portronics Konnec...</td><td>Computers&amp;Accesso...</td><td>₹154</td><td>₹399</td><td>61%</td><td>4.2</td><td>16,905</td><td>[CHARGE &amp; SYNC FU...</td><td>AE3Q6KSUK5P75D5HF...</td><td>rahuls6099,Swasat...</td><td>R1BP4L2HH9TFUP,R1...</td><td>As good as origin...</td><td>Bought this inste...</td><td>https://m.media-a...</td><td>https://www.amazo...</td></tr>\n",
       "<tr><td>B08Y1TFSP6</td><td>pTron Solero TB30...</td><td>Computers&amp;Accesso...</td><td>₹149</td><td>₹1,000</td><td>85%</td><td>3.9</td><td>24,871</td><td>Fast Charging &amp; D...</td><td>AEQ2YMXSZWEOHK2EH...</td><td>Jayesh,Rajesh k.,...</td><td>R7S8ANNSDPR40,R3C...</td><td>It&#x27;s pretty good,...</td><td>It&#x27;s a good produ...</td><td>https://m.media-a...</td><td>https://www.amazo...</td></tr>\n",
       "<tr><td>B08WRWPM22</td><td>boAt Micro USB 55...</td><td>Computers&amp;Accesso...</td><td>₹176.63</td><td>₹499</td><td>65%</td><td>4.1</td><td>15,188</td><td>It Ensures High S...</td><td>AG7C6DAADCTRQJG2B...</td><td>Vivek kumar,Amazo...</td><td>R8E73K2KWJRDS,RSD...</td><td>Long durable.,goo...</td><td>Build quality is ...</td><td>https://m.media-a...</td><td>https://www.amazo...</td></tr>\n",
       "<tr><td>B08DDRGWTJ</td><td>MI Usb Type-C Cab...</td><td>Computers&amp;Accesso...</td><td>₹229</td><td>₹299</td><td>23%</td><td>4.3</td><td>30,411</td><td>1m long Type-C US...</td><td>AHW6E5LQ2BDYOIVLA...</td><td>Pavan A H,Jayesh ...</td><td>R2X090D1YHACKR,R3...</td><td>Worth for money -...</td><td>Worth for money -...</td><td>https://m.media-a...</td><td>https://www.amazo...</td></tr>\n",
       "<tr><td>B008IFXQFU</td><td>TP-Link USB WiFi ...</td><td>Computers&amp;Accesso...</td><td>₹499</td><td>₹999</td><td>50%</td><td>4.2</td><td>1,79,691</td><td>USB WiFi Adapter ...</td><td>AGV3IEFANZCKECFGU...</td><td>Azhar JuMan,Aniru...</td><td>R1LW6NWSVTVZ2H,R3...</td><td>Works on linux fo...</td><td>I use this to con...</td><td>https://m.media-a...</td><td>https://www.amazo...</td></tr>\n",
       "<tr><td>B082LZGK39</td><td>Ambrane Unbreakab...</td><td>Computers&amp;Accesso...</td><td>₹199</td><td>₹299</td><td>33%</td><td>4.0</td><td>43,994</td><td>Universal Compati...</td><td>AECPFYFQVRUWC3KGN...</td><td>ArdKn,Nirbhay kum...</td><td>RGIQEG07R9HS2,R1S...</td><td>A Good Braided Ca...</td><td>I ordered this ca...</td><td>https://m.media-a...</td><td>https://www.amazo...</td></tr>\n",
       "<tr><td>B08CF3D7QR</td><td>Portronics Konnec...</td><td>Computers&amp;Accesso...</td><td>₹154</td><td>₹339</td><td>55%</td><td>4.3</td><td>13,391</td><td>[CHARGE &amp; SYNC FU...</td><td>AGYLPKPZHVYKKZHOT...</td><td>Tanya,Anu,Akshay,...</td><td>R11MQS7WD9C3I0,R2...</td><td>Good for fast cha...</td><td>The cable is effi...</td><td>https://m.media-a...</td><td>https://www.amazo...</td></tr>\n",
       "<tr><td>B0789LZTCJ</td><td>boAt Rugged v3 Ex...</td><td>Computers&amp;Accesso...</td><td>₹299</td><td>₹799</td><td>63%</td><td>4.2</td><td>94,363</td><td>The boAt rugged c...</td><td>AEWAZDZZJLQUYVOVG...</td><td>Omkar dhale,JD,HE...</td><td>R3EEUZKKK9J36I,R3...</td><td>Good product,Good...</td><td>Good product,long...</td><td>https://m.media-a...</td><td>https://www.amazo...</td></tr>\n",
       "<tr><td>B07KSMBL2H</td><td>AmazonBasics Flex...</td><td>Electronics|HomeT...</td><td>₹219</td><td>₹700</td><td>69%</td><td>4.4</td><td>4,26,973</td><td>Flexible, lightwe...</td><td>AEYJ5I6JZZPOJB6MG...</td><td>Rishav Gossain,Sh...</td><td>R1FKOKZ3HHKJBZ,R2...</td><td>It&#x27;s quite good a...</td><td>I am using it for...</td><td>https://m.media-a...</td><td>https://www.amazo...</td></tr>\n",
       "<tr><td>B085DTN6R2</td><td>Portronics Konnec...</td><td>Computers&amp;Accesso...</td><td>₹350</td><td>₹899</td><td>61%</td><td>4.2</td><td>2,262</td><td>[20W PD FAST CHAR...</td><td>AGUAYQHARAKR2VZTR...</td><td>Priya,Mansi,Plaba...</td><td>R1QETDIPRCX4S0,RA...</td><td>Works,Nice Produc...</td><td>Definitely isn’t ...</td><td>https://m.media-a...</td><td>https://www.amazo...</td></tr>\n",
       "<tr><td>B09KLVMZ3B</td><td>Portronics Konnec...</td><td>Computers&amp;Accesso...</td><td>₹159</td><td>₹399</td><td>60%</td><td>4.1</td><td>4,768</td><td>[CHARGE &amp; SYNC FU...</td><td>AF2XXVO7JUBUVAOBT...</td><td>Deepaak Singh,siv...</td><td>R20XIOU25HEX80,R2...</td><td>Great but,Worked ...</td><td>Loosing charging ...</td><td>https://m.media-a...</td><td>https://www.amazo...</td></tr>\n",
       "<tr><td>B083342NKJ</td><td>MI Braided USB Ty...</td><td>Computers&amp;Accesso...</td><td>₹349</td><td>₹399</td><td>13%</td><td>4.4</td><td>18,757</td><td>1M Long Cable. Us...</td><td>AGSGSRTEZBQY64WO2...</td><td>Birendra ku Dash,...</td><td>R2JPQNKCOE10UK,RQ...</td><td>Good product,usin...</td><td>I like it 👍👍,Be...</td><td>https://m.media-a...</td><td>https://www.amazo...</td></tr>\n",
       "<tr><td>B0B6F7LX4C</td><td>MI 80 cm (32 inch...</td><td>Electronics|HomeT...</td><td>₹13,999</td><td>₹24,999</td><td>44%</td><td>4.2</td><td>32,840</td><td>Note : The brands...</td><td>AHEVOQADJSSRX7DS3...</td><td>Manoj maddheshiya...</td><td>R13UTIA6KOF6QV,R2...</td><td>It is the best tv...</td><td>Pros- xiomi 5a is...</td><td>https://m.media-a...</td><td>https://www.amazo...</td></tr>\n",
       "<tr><td>B082LSVT4B</td><td>Ambrane Unbreakab...</td><td>Computers&amp;Accesso...</td><td>₹249</td><td>₹399</td><td>38%</td><td>4.0</td><td>43,994</td><td>Compatible with a...</td><td>AECPFYFQVRUWC3KGN...</td><td>ArdKn,Nirbhay kum...</td><td>RGIQEG07R9HS2,R1S...</td><td>A Good Braided Ca...</td><td>I ordered this ca...</td><td>https://m.media-a...</td><td>https://www.amazo...</td></tr>\n",
       "<tr><td>B08WRBG3XW</td><td>boAt Type C A325 ...</td><td>Computers&amp;Accesso...</td><td>₹199</td><td>₹499</td><td>60%</td><td>4.1</td><td>13,045</td><td>Type C A 325 Cabl...</td><td>AFB5KJR4Q5FICAHBO...</td><td>Rohan Narkar,JAGW...</td><td>R2BP8Y5OJXKJLF,R2...</td><td>Good for charging...</td><td>Check for offera ...</td><td>https://m.media-a...</td><td>https://www.amazo...</td></tr>\n",
       "<tr><td>B08DPLCM6T</td><td>LG 80 cm (32 inch...</td><td>Electronics|HomeT...</td><td>₹13,490</td><td>₹21,990</td><td>39%</td><td>4.3</td><td>11,976</td><td>Resolution: HD Re...</td><td>AHBNKB74LGTYUOKPA...</td><td>NIRMAL.N,Manoj ku...</td><td>R2PNR69G0BQG2F,R3...</td><td>Sound quality,Ver...</td><td>LG was always Goo...</td><td>https://m.media-a...</td><td>https://www.amazo...</td></tr>\n",
       "</table>\n",
       "only showing top 20 rows\n"
      ],
      "text/plain": [
       "+----------+--------------------+--------------------+----------------+------------+-------------------+------+------------+---------------------+--------------------+--------------------+--------------------+--------------------+--------------------+--------------------+--------------------+\n",
       "|product_id|        product_name|            category|discounted_price|actual_price|discount_percentage|rating|rating_count|        about_product|             user_id|           user_name|           review_id|        review_title|      review_content|            img_link|        product_link|\n",
       "+----------+--------------------+--------------------+----------------+------------+-------------------+------+------------+---------------------+--------------------+--------------------+--------------------+--------------------+--------------------+--------------------+--------------------+\n",
       "|B07JW9H4J1|Wayona Nylon Brai...|Computers&Accesso...|            ₹399|      ₹1,099|                64%|   4.2|      24,269| High Compatibilit...|AG3D6O4STAQKAY2UV...|Manav,Adarsh gupt...|R3HXWT0LRP0NMF,R2...|Satisfied,Chargin...|Looks durable Cha...|https://m.media-a...|https://www.amazo...|\n",
       "|B098NS6PVG|Ambrane Unbreakab...|Computers&Accesso...|            ₹199|        ₹349|                43%|   4.0|      43,994| Compatible with a...|AECPFYFQVRUWC3KGN...|ArdKn,Nirbhay kum...|RGIQEG07R9HS2,R1S...|A Good Braided Ca...|I ordered this ca...|https://m.media-a...|https://www.amazo...|\n",
       "|B096MSW6CT|Sounce Fast Phone...|Computers&Accesso...|            ₹199|      ₹1,899|                90%|   3.9|       7,928|【 Fast Charger& D...|AGU3BBQ2V2DDAMOAK...|Kunal,Himanshu,vi...|R3J3EQQ9TZI5ZJ,R3...|Good speed for ea...|Not quite durable...|https://m.media-a...|https://www.amazo...|\n",
       "|B08HDJ86NZ|boAt Deuce USB 30...|Computers&Accesso...|            ₹329|        ₹699|                53%|   4.2|      94,363| The boAt Deuce US...|AEWAZDZZJLQUYVOVG...|Omkar dhale,JD,HE...|R3EEUZKKK9J36I,R3...|Good product,Good...|Good product,long...|https://m.media-a...|https://www.amazo...|\n",
       "|B08CF3B7N1|Portronics Konnec...|Computers&Accesso...|            ₹154|        ₹399|                61%|   4.2|      16,905| [CHARGE & SYNC FU...|AE3Q6KSUK5P75D5HF...|rahuls6099,Swasat...|R1BP4L2HH9TFUP,R1...|As good as origin...|Bought this inste...|https://m.media-a...|https://www.amazo...|\n",
       "|B08Y1TFSP6|pTron Solero TB30...|Computers&Accesso...|            ₹149|      ₹1,000|                85%|   3.9|      24,871| Fast Charging & D...|AEQ2YMXSZWEOHK2EH...|Jayesh,Rajesh k.,...|R7S8ANNSDPR40,R3C...|It's pretty good,...|It's a good produ...|https://m.media-a...|https://www.amazo...|\n",
       "|B08WRWPM22|boAt Micro USB 55...|Computers&Accesso...|         ₹176.63|        ₹499|                65%|   4.1|      15,188| It Ensures High S...|AG7C6DAADCTRQJG2B...|Vivek kumar,Amazo...|R8E73K2KWJRDS,RSD...|Long durable.,goo...|Build quality is ...|https://m.media-a...|https://www.amazo...|\n",
       "|B08DDRGWTJ|MI Usb Type-C Cab...|Computers&Accesso...|            ₹229|        ₹299|                23%|   4.3|      30,411| 1m long Type-C US...|AHW6E5LQ2BDYOIVLA...|Pavan A H,Jayesh ...|R2X090D1YHACKR,R3...|Worth for money -...|Worth for money -...|https://m.media-a...|https://www.amazo...|\n",
       "|B008IFXQFU|TP-Link USB WiFi ...|Computers&Accesso...|            ₹499|        ₹999|                50%|   4.2|    1,79,691| USB WiFi Adapter ...|AGV3IEFANZCKECFGU...|Azhar JuMan,Aniru...|R1LW6NWSVTVZ2H,R3...|Works on linux fo...|I use this to con...|https://m.media-a...|https://www.amazo...|\n",
       "|B082LZGK39|Ambrane Unbreakab...|Computers&Accesso...|            ₹199|        ₹299|                33%|   4.0|      43,994| Universal Compati...|AECPFYFQVRUWC3KGN...|ArdKn,Nirbhay kum...|RGIQEG07R9HS2,R1S...|A Good Braided Ca...|I ordered this ca...|https://m.media-a...|https://www.amazo...|\n",
       "|B08CF3D7QR|Portronics Konnec...|Computers&Accesso...|            ₹154|        ₹339|                55%|   4.3|      13,391| [CHARGE & SYNC FU...|AGYLPKPZHVYKKZHOT...|Tanya,Anu,Akshay,...|R11MQS7WD9C3I0,R2...|Good for fast cha...|The cable is effi...|https://m.media-a...|https://www.amazo...|\n",
       "|B0789LZTCJ|boAt Rugged v3 Ex...|Computers&Accesso...|            ₹299|        ₹799|                63%|   4.2|      94,363| The boAt rugged c...|AEWAZDZZJLQUYVOVG...|Omkar dhale,JD,HE...|R3EEUZKKK9J36I,R3...|Good product,Good...|Good product,long...|https://m.media-a...|https://www.amazo...|\n",
       "|B07KSMBL2H|AmazonBasics Flex...|Electronics|HomeT...|            ₹219|        ₹700|                69%|   4.4|    4,26,973| Flexible, lightwe...|AEYJ5I6JZZPOJB6MG...|Rishav Gossain,Sh...|R1FKOKZ3HHKJBZ,R2...|It's quite good a...|I am using it for...|https://m.media-a...|https://www.amazo...|\n",
       "|B085DTN6R2|Portronics Konnec...|Computers&Accesso...|            ₹350|        ₹899|                61%|   4.2|       2,262| [20W PD FAST CHAR...|AGUAYQHARAKR2VZTR...|Priya,Mansi,Plaba...|R1QETDIPRCX4S0,RA...|Works,Nice Produc...|Definitely isn’t ...|https://m.media-a...|https://www.amazo...|\n",
       "|B09KLVMZ3B|Portronics Konnec...|Computers&Accesso...|            ₹159|        ₹399|                60%|   4.1|       4,768| [CHARGE & SYNC FU...|AF2XXVO7JUBUVAOBT...|Deepaak Singh,siv...|R20XIOU25HEX80,R2...|Great but,Worked ...|Loosing charging ...|https://m.media-a...|https://www.amazo...|\n",
       "|B083342NKJ|MI Braided USB Ty...|Computers&Accesso...|            ₹349|        ₹399|                13%|   4.4|      18,757| 1M Long Cable. Us...|AGSGSRTEZBQY64WO2...|Birendra ku Dash,...|R2JPQNKCOE10UK,RQ...|Good product,usin...|I like it 👍👍,Be...|https://m.media-a...|https://www.amazo...|\n",
       "|B0B6F7LX4C|MI 80 cm (32 inch...|Electronics|HomeT...|         ₹13,999|     ₹24,999|                44%|   4.2|      32,840| Note : The brands...|AHEVOQADJSSRX7DS3...|Manoj maddheshiya...|R13UTIA6KOF6QV,R2...|It is the best tv...|Pros- xiomi 5a is...|https://m.media-a...|https://www.amazo...|\n",
       "|B082LSVT4B|Ambrane Unbreakab...|Computers&Accesso...|            ₹249|        ₹399|                38%|   4.0|      43,994| Compatible with a...|AECPFYFQVRUWC3KGN...|ArdKn,Nirbhay kum...|RGIQEG07R9HS2,R1S...|A Good Braided Ca...|I ordered this ca...|https://m.media-a...|https://www.amazo...|\n",
       "|B08WRBG3XW|boAt Type C A325 ...|Computers&Accesso...|            ₹199|        ₹499|                60%|   4.1|      13,045| Type C A 325 Cabl...|AFB5KJR4Q5FICAHBO...|Rohan Narkar,JAGW...|R2BP8Y5OJXKJLF,R2...|Good for charging...|Check for offera ...|https://m.media-a...|https://www.amazo...|\n",
       "|B08DPLCM6T|LG 80 cm (32 inch...|Electronics|HomeT...|         ₹13,490|     ₹21,990|                39%|   4.3|      11,976| Resolution: HD Re...|AHBNKB74LGTYUOKPA...|NIRMAL.N,Manoj ku...|R2PNR69G0BQG2F,R3...|Sound quality,Ver...|LG was always Goo...|https://m.media-a...|https://www.amazo...|\n",
       "+----------+--------------------+--------------------+----------------+------------+-------------------+------+------------+---------------------+--------------------+--------------------+--------------------+--------------------+--------------------+--------------------+--------------------+\n",
       "only showing top 20 rows"
      ]
     },
     "execution_count": 225,
     "metadata": {},
     "output_type": "execute_result"
    }
   ],
   "source": [
    "df"
   ]
  },
  {
   "cell_type": "code",
   "execution_count": 208,
   "id": "2e871934",
   "metadata": {},
   "outputs": [
    {
     "data": {
      "text/plain": [
       "pyspark.sql.dataframe.DataFrame"
      ]
     },
     "execution_count": 208,
     "metadata": {},
     "output_type": "execute_result"
    }
   ],
   "source": [
    "type(df)"
   ]
  },
  {
   "cell_type": "code",
   "execution_count": 214,
   "id": "24e8352c",
   "metadata": {},
   "outputs": [],
   "source": [
    "from pyspark.sql import *\n",
    "\n",
    "from datetime import datetime, date\n",
    "import pandas as pd\n",
    "df2 = spark.createDataFrame([\n",
    "    Row(a=1, b=2., c='string1', d=date(2000, 1, 1), e=datetime(2000, 1, 1, 12, 0)),\n",
    "    Row(a=2, b=3., c='string2', d=date(2000, 2, 1), e=datetime(2000, 1, 2, 12, 0)),\n",
    "    Row(a=4, b=5., c='string3', d=date(2000, 3, 1), e=datetime(2000, 1, 3, 12, 0))\n",
    "])"
   ]
  },
  {
   "cell_type": "code",
   "execution_count": 218,
   "id": "be466fd0",
   "metadata": {},
   "outputs": [
    {
     "name": "stdout",
     "output_type": "stream",
     "text": [
      "+---+---+-------+----------+-------------------+\n",
      "|  a|  b|      c|         d|                  e|\n",
      "+---+---+-------+----------+-------------------+\n",
      "|  1|2.0|string1|2000-01-01|2000-01-01 12:00:00|\n",
      "|  2|3.0|string2|2000-02-01|2000-01-02 12:00:00|\n",
      "|  4|5.0|string3|2000-03-01|2000-01-03 12:00:00|\n",
      "+---+---+-------+----------+-------------------+\n",
      "\n"
     ]
    }
   ],
   "source": [
    "df2.show()"
   ]
  },
  {
   "cell_type": "code",
   "execution_count": 222,
   "id": "84f6bb4f",
   "metadata": {},
   "outputs": [
    {
     "data": {
      "text/html": [
       "<table border='1'>\n",
       "<tr><th>a</th></tr>\n",
       "<tr><td>1</td></tr>\n",
       "<tr><td>2</td></tr>\n",
       "<tr><td>4</td></tr>\n",
       "</table>\n"
      ],
      "text/plain": [
       "+---+\n",
       "|  a|\n",
       "+---+\n",
       "|  1|\n",
       "|  2|\n",
       "|  4|\n",
       "+---+"
      ]
     },
     "execution_count": 222,
     "metadata": {},
     "output_type": "execute_result"
    }
   ],
   "source": [
    "df2.select(df2.a)"
   ]
  },
  {
   "cell_type": "code",
   "execution_count": 231,
   "id": "de369fbf",
   "metadata": {},
   "outputs": [
    {
     "name": "stdout",
     "output_type": "stream",
     "text": [
      "+------+\n",
      "|rating|\n",
      "+------+\n",
      "|   4.2|\n",
      "|   4.0|\n",
      "|   3.9|\n",
      "|   4.2|\n",
      "|   4.2|\n",
      "|   3.9|\n",
      "|   4.1|\n",
      "|   4.3|\n",
      "|   4.2|\n",
      "|   4.0|\n",
      "|   4.3|\n",
      "|   4.2|\n",
      "|   4.4|\n",
      "|   4.2|\n",
      "|   4.1|\n",
      "|   4.4|\n",
      "|   4.2|\n",
      "|   4.0|\n",
      "|   4.1|\n",
      "|   4.3|\n",
      "|   4.5|\n",
      "|   3.7|\n",
      "|   4.3|\n",
      "|   4.0|\n",
      "|   4.3|\n",
      "|   4.2|\n",
      "|   4.2|\n",
      "|   4.0|\n",
      "|   4.4|\n",
      "|   4.3|\n",
      "|   4.5|\n",
      "|   4.0|\n",
      "|   4.3|\n",
      "|   4.3|\n",
      "|   3.9|\n",
      "|   3.9|\n",
      "|   4.4|\n",
      "|   4.0|\n",
      "|   4.2|\n",
      "|   4.2|\n",
      "|   4.5|\n",
      "|   4.3|\n",
      "|   4.2|\n",
      "|   4.3|\n",
      "|   4.0|\n",
      "|   3.3|\n",
      "|   4.1|\n",
      "|   4.4|\n",
      "|   3.6|\n",
      "|   4.2|\n",
      "|   4.4|\n",
      "|   4.2|\n",
      "|   4.3|\n",
      "|   4.2|\n",
      "|   4.1|\n",
      "|   3.7|\n",
      "|   4.2|\n",
      "|   4.2|\n",
      "|   4.2|\n",
      "|   4.3|\n",
      "|   3.7|\n",
      "|   4.3|\n",
      "|   4.0|\n",
      "|   4.2|\n",
      "|   4.2|\n",
      "|   4.4|\n",
      "|   4.1|\n",
      "|   4.3|\n",
      "|   4.2|\n",
      "|   4.3|\n",
      "|   4.5|\n",
      "|   4.1|\n",
      "|   4.2|\n",
      "|   4.0|\n",
      "|   4.1|\n",
      "|   4.1|\n",
      "|   4.0|\n",
      "|   4.1|\n",
      "|   3.9|\n",
      "|   4.0|\n",
      "|   4.2|\n",
      "|   4.0|\n",
      "|   3.4|\n",
      "|   4.4|\n",
      "|   4.2|\n",
      "|   4.2|\n",
      "|   4.3|\n",
      "|   4.3|\n",
      "|   4.5|\n",
      "|   4.2|\n",
      "|   3.6|\n",
      "|   4.2|\n",
      "|   4.2|\n",
      "|   4.1|\n",
      "|   4.2|\n",
      "|   3.7|\n",
      "|   3.8|\n",
      "|   3.7|\n",
      "|   4.5|\n",
      "|   4.1|\n",
      "+------+\n",
      "only showing top 100 rows\n",
      "\n"
     ]
    }
   ],
   "source": [
    "df.select(df.rating).show(100)"
   ]
  },
  {
   "cell_type": "code",
   "execution_count": 241,
   "id": "b35382bd",
   "metadata": {},
   "outputs": [
    {
     "data": {
      "text/plain": [
       "1465"
      ]
     },
     "execution_count": 241,
     "metadata": {},
     "output_type": "execute_result"
    }
   ],
   "source": [
    "df.count()"
   ]
  },
  {
   "cell_type": "code",
   "execution_count": 242,
   "id": "e60cafaf",
   "metadata": {},
   "outputs": [
    {
     "data": {
      "text/html": [
       "<table border='1'>\n",
       "<tr><th>summary</th><th>product_id</th><th>product_name</th><th>category</th><th>discounted_price</th><th>actual_price</th><th>discount_percentage</th><th>rating</th><th>rating_count</th><th>about_product</th><th>user_id</th><th>user_name</th><th>review_id</th><th>review_title</th><th>review_content</th><th>img_link</th><th>product_link</th></tr>\n",
       "<tr><td>count</td><td>1465</td><td>1465</td><td>1465</td><td>1465</td><td>1465</td><td>1465</td><td>1465</td><td>1463</td><td>1465</td><td>1465</td><td>1465</td><td>1465</td><td>1465</td><td>1465</td><td>1465</td><td>1465</td></tr>\n",
       "<tr><td>mean</td><td>null</td><td>null</td><td>null</td><td>null</td><td>null</td><td>null</td><td>4.097299218194752</td><td>345.4575</td><td>67.88</td><td>5.564705882352941</td><td>4.111111111111111</td><td>59.446666666666665</td><td>63.53333333333334</td><td>216.0</td><td>2.5</td><td>null</td></tr>\n",
       "<tr><td>stddev</td><td>null</td><td>null</td><td>null</td><td>null</td><td>null</td><td>null</td><td>0.29334696955004685</td><td>268.659731195697</td><td>142.61645066401</td><td>5.524823659682563</td><td>0.19649710204252682</td><td>196.8218805587089</td><td>125.72179483673344</td><td>357.05461767074235</td><td>null</td><td>null</td></tr>\n",
       "<tr><td>min</td><td>B002PD61Y4</td><td>!!1000 Watt/2000-...</td><td> 123 Sports Mode</td><td> 100 Sports Modes</td><td> 100 + Sports Modes</td><td> 150+ Watch Faces</td><td> 100 Sports Mode ...</td><td> 100 Watch Faces-...</td><td> Heart Rate Monit...</td><td> 2 Analog sticks</td><td> 1-step pairing</td><td> 1.7 meter USB ca...</td><td> (B) Covers Full ...</td><td> (3rd Gen); iPad ...</td><td>  I would say tha...</td><td> 1 Magnetic Charger</td></tr>\n",
       "<tr><td>max</td><td>B0BR4F878Q</td><td>tizum HDMI to VGA...</td><td>Toys&amp;Games|Arts&amp;C...</td><td>₹999</td><td>₹999</td><td>₹6,490</td><td>₹90</td><td>₹9,999</td><td>🥇【Kindly NOTE be...</td><td>₹999</td><td>🤘🏻🤘🏻,Kabi,Man...</td><td>₹3,999</td><td>💥,Considering th...</td><td>🔸Everything is n...</td><td>https://m.media-a...</td><td>🌟🌟🌟🌟,Good pro...</td></tr>\n",
       "</table>\n"
      ],
      "text/plain": [
       "+-------+----------+--------------------+--------------------+-----------------+-------------------+-------------------+--------------------+--------------------+---------------------+-----------------+--------------------+--------------------+--------------------+--------------------+--------------------+--------------------+\n",
       "|summary|product_id|        product_name|            category| discounted_price|       actual_price|discount_percentage|              rating|        rating_count|        about_product|          user_id|           user_name|           review_id|        review_title|      review_content|            img_link|        product_link|\n",
       "+-------+----------+--------------------+--------------------+-----------------+-------------------+-------------------+--------------------+--------------------+---------------------+-----------------+--------------------+--------------------+--------------------+--------------------+--------------------+--------------------+\n",
       "|  count|      1465|                1465|                1465|             1465|               1465|               1465|                1465|                1463|                 1465|             1465|                1465|                1465|                1465|                1465|                1465|                1465|\n",
       "|   mean|      null|                null|                null|             null|               null|               null|   4.097299218194752|            345.4575|                67.88|5.564705882352941|   4.111111111111111|  59.446666666666665|   63.53333333333334|               216.0|                 2.5|                null|\n",
       "| stddev|      null|                null|                null|             null|               null|               null| 0.29334696955004685|    268.659731195697|      142.61645066401|5.524823659682563| 0.19649710204252682|   196.8218805587089|  125.72179483673344|  357.05461767074235|                null|                null|\n",
       "|    min|B002PD61Y4|!!1000 Watt/2000-...|     123 Sports Mode| 100 Sports Modes| 100 + Sports Modes|   150+ Watch Faces| 100 Sports Mode ...| 100 Watch Faces-...|  Heart Rate Monit...|  2 Analog sticks|      1-step pairing| 1.7 meter USB ca...| (B) Covers Full ...| (3rd Gen); iPad ...|  I would say tha...|  1 Magnetic Charger|\n",
       "|    max|B0BR4F878Q|tizum HDMI to VGA...|Toys&Games|Arts&C...|             ₹999|               ₹999|             ₹6,490|                 ₹90|              ₹9,999|🥇【Kindly NOTE be...|             ₹999|🤘🏻🤘🏻,Kabi,Man...|              ₹3,999|💥,Considering th...|🔸Everything is n...|https://m.media-a...|🌟🌟🌟🌟,Good pro...|\n",
       "+-------+----------+--------------------+--------------------+-----------------+-------------------+-------------------+--------------------+--------------------+---------------------+-----------------+--------------------+--------------------+--------------------+--------------------+--------------------+--------------------+"
      ]
     },
     "execution_count": 242,
     "metadata": {},
     "output_type": "execute_result"
    }
   ],
   "source": [
    "df.describe()"
   ]
  },
  {
   "cell_type": "code",
   "execution_count": 247,
   "id": "37b5a68a",
   "metadata": {},
   "outputs": [
    {
     "data": {
      "text/plain": [
       "1459"
      ]
     },
     "execution_count": 247,
     "metadata": {},
     "output_type": "execute_result"
    }
   ],
   "source": [
    "df.dropDuplicates().count()"
   ]
  },
  {
   "cell_type": "code",
   "execution_count": 249,
   "id": "1c5264a0",
   "metadata": {},
   "outputs": [],
   "source": [
    "df=df.dropna()"
   ]
  },
  {
   "cell_type": "code",
   "execution_count": 250,
   "id": "211ac7b4",
   "metadata": {},
   "outputs": [
    {
     "data": {
      "text/plain": [
       "1463"
      ]
     },
     "execution_count": 250,
     "metadata": {},
     "output_type": "execute_result"
    }
   ],
   "source": [
    "df.count()"
   ]
  },
  {
   "cell_type": "code",
   "execution_count": 258,
   "id": "f3888506",
   "metadata": {},
   "outputs": [
    {
     "name": "stdout",
     "output_type": "stream",
     "text": [
      "root\n",
      " |-- product_id: string (nullable = true)\n",
      " |-- product_name: string (nullable = true)\n",
      " |-- category: string (nullable = true)\n",
      " |-- discounted_price: string (nullable = true)\n",
      " |-- actual_price: string (nullable = true)\n",
      " |-- discount_percentage: string (nullable = true)\n",
      " |-- rating: string (nullable = true)\n",
      " |-- rating_count: string (nullable = true)\n",
      " |-- about_product: string (nullable = true)\n",
      " |-- user_id: string (nullable = true)\n",
      " |-- user_name: string (nullable = true)\n",
      " |-- review_id: string (nullable = true)\n",
      " |-- review_title: string (nullable = true)\n",
      " |-- review_content: string (nullable = true)\n",
      " |-- img_link: string (nullable = true)\n",
      " |-- product_link: string (nullable = true)\n",
      "\n"
     ]
    }
   ],
   "source": [
    "df.printSchema()"
   ]
  },
  {
   "cell_type": "code",
   "execution_count": 259,
   "id": "3213905c",
   "metadata": {},
   "outputs": [
    {
     "data": {
      "text/html": [
       "<table border='1'>\n",
       "<tr><th>product_id</th><th>product_name</th><th>category</th><th>discounted_price</th><th>actual_price</th><th>discount_percentage</th><th>rating</th><th>rating_count</th><th>about_product</th><th>user_id</th><th>user_name</th><th>review_id</th><th>review_title</th><th>review_content</th><th>img_link</th><th>product_link</th></tr>\n",
       "<tr><td>B07JW9H4J1</td><td>Wayona Nylon Brai...</td><td>Computers&amp;Accesso...</td><td>₹399</td><td>₹1,099</td><td>64%</td><td>4.2</td><td>24,269</td><td>High Compatibilit...</td><td>AG3D6O4STAQKAY2UV...</td><td>Manav,Adarsh gupt...</td><td>R3HXWT0LRP0NMF,R2...</td><td>Satisfied,Chargin...</td><td>Looks durable Cha...</td><td>https://m.media-a...</td><td>https://www.amazo...</td></tr>\n",
       "<tr><td>B098NS6PVG</td><td>Ambrane Unbreakab...</td><td>Computers&amp;Accesso...</td><td>₹199</td><td>₹349</td><td>43%</td><td>4.0</td><td>43,994</td><td>Compatible with a...</td><td>AECPFYFQVRUWC3KGN...</td><td>ArdKn,Nirbhay kum...</td><td>RGIQEG07R9HS2,R1S...</td><td>A Good Braided Ca...</td><td>I ordered this ca...</td><td>https://m.media-a...</td><td>https://www.amazo...</td></tr>\n",
       "<tr><td>B096MSW6CT</td><td>Sounce Fast Phone...</td><td>Computers&amp;Accesso...</td><td>₹199</td><td>₹1,899</td><td>90%</td><td>3.9</td><td>7,928</td><td>【 Fast Charger&amp; D...</td><td>AGU3BBQ2V2DDAMOAK...</td><td>Kunal,Himanshu,vi...</td><td>R3J3EQQ9TZI5ZJ,R3...</td><td>Good speed for ea...</td><td>Not quite durable...</td><td>https://m.media-a...</td><td>https://www.amazo...</td></tr>\n",
       "<tr><td>B08HDJ86NZ</td><td>boAt Deuce USB 30...</td><td>Computers&amp;Accesso...</td><td>₹329</td><td>₹699</td><td>53%</td><td>4.2</td><td>94,363</td><td>The boAt Deuce US...</td><td>AEWAZDZZJLQUYVOVG...</td><td>Omkar dhale,JD,HE...</td><td>R3EEUZKKK9J36I,R3...</td><td>Good product,Good...</td><td>Good product,long...</td><td>https://m.media-a...</td><td>https://www.amazo...</td></tr>\n",
       "<tr><td>B08CF3B7N1</td><td>Portronics Konnec...</td><td>Computers&amp;Accesso...</td><td>₹154</td><td>₹399</td><td>61%</td><td>4.2</td><td>16,905</td><td>[CHARGE &amp; SYNC FU...</td><td>AE3Q6KSUK5P75D5HF...</td><td>rahuls6099,Swasat...</td><td>R1BP4L2HH9TFUP,R1...</td><td>As good as origin...</td><td>Bought this inste...</td><td>https://m.media-a...</td><td>https://www.amazo...</td></tr>\n",
       "<tr><td>B08Y1TFSP6</td><td>pTron Solero TB30...</td><td>Computers&amp;Accesso...</td><td>₹149</td><td>₹1,000</td><td>85%</td><td>3.9</td><td>24,871</td><td>Fast Charging &amp; D...</td><td>AEQ2YMXSZWEOHK2EH...</td><td>Jayesh,Rajesh k.,...</td><td>R7S8ANNSDPR40,R3C...</td><td>It&#x27;s pretty good,...</td><td>It&#x27;s a good produ...</td><td>https://m.media-a...</td><td>https://www.amazo...</td></tr>\n",
       "<tr><td>B08WRWPM22</td><td>boAt Micro USB 55...</td><td>Computers&amp;Accesso...</td><td>₹176.63</td><td>₹499</td><td>65%</td><td>4.1</td><td>15,188</td><td>It Ensures High S...</td><td>AG7C6DAADCTRQJG2B...</td><td>Vivek kumar,Amazo...</td><td>R8E73K2KWJRDS,RSD...</td><td>Long durable.,goo...</td><td>Build quality is ...</td><td>https://m.media-a...</td><td>https://www.amazo...</td></tr>\n",
       "<tr><td>B08DDRGWTJ</td><td>MI Usb Type-C Cab...</td><td>Computers&amp;Accesso...</td><td>₹229</td><td>₹299</td><td>23%</td><td>4.3</td><td>30,411</td><td>1m long Type-C US...</td><td>AHW6E5LQ2BDYOIVLA...</td><td>Pavan A H,Jayesh ...</td><td>R2X090D1YHACKR,R3...</td><td>Worth for money -...</td><td>Worth for money -...</td><td>https://m.media-a...</td><td>https://www.amazo...</td></tr>\n",
       "<tr><td>B008IFXQFU</td><td>TP-Link USB WiFi ...</td><td>Computers&amp;Accesso...</td><td>₹499</td><td>₹999</td><td>50%</td><td>4.2</td><td>1,79,691</td><td>USB WiFi Adapter ...</td><td>AGV3IEFANZCKECFGU...</td><td>Azhar JuMan,Aniru...</td><td>R1LW6NWSVTVZ2H,R3...</td><td>Works on linux fo...</td><td>I use this to con...</td><td>https://m.media-a...</td><td>https://www.amazo...</td></tr>\n",
       "<tr><td>B082LZGK39</td><td>Ambrane Unbreakab...</td><td>Computers&amp;Accesso...</td><td>₹199</td><td>₹299</td><td>33%</td><td>4.0</td><td>43,994</td><td>Universal Compati...</td><td>AECPFYFQVRUWC3KGN...</td><td>ArdKn,Nirbhay kum...</td><td>RGIQEG07R9HS2,R1S...</td><td>A Good Braided Ca...</td><td>I ordered this ca...</td><td>https://m.media-a...</td><td>https://www.amazo...</td></tr>\n",
       "<tr><td>B08CF3D7QR</td><td>Portronics Konnec...</td><td>Computers&amp;Accesso...</td><td>₹154</td><td>₹339</td><td>55%</td><td>4.3</td><td>13,391</td><td>[CHARGE &amp; SYNC FU...</td><td>AGYLPKPZHVYKKZHOT...</td><td>Tanya,Anu,Akshay,...</td><td>R11MQS7WD9C3I0,R2...</td><td>Good for fast cha...</td><td>The cable is effi...</td><td>https://m.media-a...</td><td>https://www.amazo...</td></tr>\n",
       "<tr><td>B0789LZTCJ</td><td>boAt Rugged v3 Ex...</td><td>Computers&amp;Accesso...</td><td>₹299</td><td>₹799</td><td>63%</td><td>4.2</td><td>94,363</td><td>The boAt rugged c...</td><td>AEWAZDZZJLQUYVOVG...</td><td>Omkar dhale,JD,HE...</td><td>R3EEUZKKK9J36I,R3...</td><td>Good product,Good...</td><td>Good product,long...</td><td>https://m.media-a...</td><td>https://www.amazo...</td></tr>\n",
       "<tr><td>B07KSMBL2H</td><td>AmazonBasics Flex...</td><td>Electronics|HomeT...</td><td>₹219</td><td>₹700</td><td>69%</td><td>4.4</td><td>4,26,973</td><td>Flexible, lightwe...</td><td>AEYJ5I6JZZPOJB6MG...</td><td>Rishav Gossain,Sh...</td><td>R1FKOKZ3HHKJBZ,R2...</td><td>It&#x27;s quite good a...</td><td>I am using it for...</td><td>https://m.media-a...</td><td>https://www.amazo...</td></tr>\n",
       "<tr><td>B085DTN6R2</td><td>Portronics Konnec...</td><td>Computers&amp;Accesso...</td><td>₹350</td><td>₹899</td><td>61%</td><td>4.2</td><td>2,262</td><td>[20W PD FAST CHAR...</td><td>AGUAYQHARAKR2VZTR...</td><td>Priya,Mansi,Plaba...</td><td>R1QETDIPRCX4S0,RA...</td><td>Works,Nice Produc...</td><td>Definitely isn’t ...</td><td>https://m.media-a...</td><td>https://www.amazo...</td></tr>\n",
       "<tr><td>B09KLVMZ3B</td><td>Portronics Konnec...</td><td>Computers&amp;Accesso...</td><td>₹159</td><td>₹399</td><td>60%</td><td>4.1</td><td>4,768</td><td>[CHARGE &amp; SYNC FU...</td><td>AF2XXVO7JUBUVAOBT...</td><td>Deepaak Singh,siv...</td><td>R20XIOU25HEX80,R2...</td><td>Great but,Worked ...</td><td>Loosing charging ...</td><td>https://m.media-a...</td><td>https://www.amazo...</td></tr>\n",
       "<tr><td>B083342NKJ</td><td>MI Braided USB Ty...</td><td>Computers&amp;Accesso...</td><td>₹349</td><td>₹399</td><td>13%</td><td>4.4</td><td>18,757</td><td>1M Long Cable. Us...</td><td>AGSGSRTEZBQY64WO2...</td><td>Birendra ku Dash,...</td><td>R2JPQNKCOE10UK,RQ...</td><td>Good product,usin...</td><td>I like it 👍👍,Be...</td><td>https://m.media-a...</td><td>https://www.amazo...</td></tr>\n",
       "<tr><td>B0B6F7LX4C</td><td>MI 80 cm (32 inch...</td><td>Electronics|HomeT...</td><td>₹13,999</td><td>₹24,999</td><td>44%</td><td>4.2</td><td>32,840</td><td>Note : The brands...</td><td>AHEVOQADJSSRX7DS3...</td><td>Manoj maddheshiya...</td><td>R13UTIA6KOF6QV,R2...</td><td>It is the best tv...</td><td>Pros- xiomi 5a is...</td><td>https://m.media-a...</td><td>https://www.amazo...</td></tr>\n",
       "<tr><td>B082LSVT4B</td><td>Ambrane Unbreakab...</td><td>Computers&amp;Accesso...</td><td>₹249</td><td>₹399</td><td>38%</td><td>4.0</td><td>43,994</td><td>Compatible with a...</td><td>AECPFYFQVRUWC3KGN...</td><td>ArdKn,Nirbhay kum...</td><td>RGIQEG07R9HS2,R1S...</td><td>A Good Braided Ca...</td><td>I ordered this ca...</td><td>https://m.media-a...</td><td>https://www.amazo...</td></tr>\n",
       "<tr><td>B08WRBG3XW</td><td>boAt Type C A325 ...</td><td>Computers&amp;Accesso...</td><td>₹199</td><td>₹499</td><td>60%</td><td>4.1</td><td>13,045</td><td>Type C A 325 Cabl...</td><td>AFB5KJR4Q5FICAHBO...</td><td>Rohan Narkar,JAGW...</td><td>R2BP8Y5OJXKJLF,R2...</td><td>Good for charging...</td><td>Check for offera ...</td><td>https://m.media-a...</td><td>https://www.amazo...</td></tr>\n",
       "<tr><td>B08DPLCM6T</td><td>LG 80 cm (32 inch...</td><td>Electronics|HomeT...</td><td>₹13,490</td><td>₹21,990</td><td>39%</td><td>4.3</td><td>11,976</td><td>Resolution: HD Re...</td><td>AHBNKB74LGTYUOKPA...</td><td>NIRMAL.N,Manoj ku...</td><td>R2PNR69G0BQG2F,R3...</td><td>Sound quality,Ver...</td><td>LG was always Goo...</td><td>https://m.media-a...</td><td>https://www.amazo...</td></tr>\n",
       "</table>\n",
       "only showing top 20 rows\n"
      ],
      "text/plain": [
       "DataFrame[product_id: string, product_name: string, category: string, discounted_price: string, actual_price: string, discount_percentage: string, rating: string, rating_count: string, about_product: string, user_id: string, user_name: string, review_id: string, review_title: string, review_content: string, img_link: string, product_link: string]"
      ]
     },
     "execution_count": 259,
     "metadata": {},
     "output_type": "execute_result"
    }
   ],
   "source": [
    "df"
   ]
  },
  {
   "cell_type": "code",
   "execution_count": 273,
   "id": "848784e9",
   "metadata": {},
   "outputs": [
    {
     "data": {
      "text/html": [
       "<table border='1'>\n",
       "<tr><th>rating_count</th></tr>\n",
       "<tr><td>992</td></tr>\n",
       "<tr><td>989</td></tr>\n",
       "<tr><td>976</td></tr>\n",
       "<tr><td>974</td></tr>\n",
       "<tr><td>974</td></tr>\n",
       "<tr><td>974</td></tr>\n",
       "<tr><td>97</td></tr>\n",
       "<tr><td>97</td></tr>\n",
       "<tr><td>97</td></tr>\n",
       "<tr><td>959</td></tr>\n",
       "<tr><td>95</td></tr>\n",
       "<tr><td>942</td></tr>\n",
       "<tr><td>93</td></tr>\n",
       "<tr><td>928</td></tr>\n",
       "<tr><td>925</td></tr>\n",
       "<tr><td>919</td></tr>\n",
       "<tr><td>910</td></tr>\n",
       "<tr><td>91</td></tr>\n",
       "<tr><td>903</td></tr>\n",
       "<tr><td>902</td></tr>\n",
       "</table>\n",
       "only showing top 20 rows\n"
      ],
      "text/plain": [
       "+------------+\n",
       "|rating_count|\n",
       "+------------+\n",
       "|         992|\n",
       "|         989|\n",
       "|         976|\n",
       "|         974|\n",
       "|         974|\n",
       "|         974|\n",
       "|          97|\n",
       "|          97|\n",
       "|          97|\n",
       "|         959|\n",
       "|          95|\n",
       "|         942|\n",
       "|          93|\n",
       "|         928|\n",
       "|         925|\n",
       "|         919|\n",
       "|         910|\n",
       "|          91|\n",
       "|         903|\n",
       "|         902|\n",
       "+------------+\n",
       "only showing top 20 rows"
      ]
     },
     "execution_count": 273,
     "metadata": {},
     "output_type": "execute_result"
    }
   ],
   "source": [
    "df.select('rating_count').filter('rating_count < 20000').sort('rating_count',ascending=False)"
   ]
  },
  {
   "cell_type": "code",
   "execution_count": 274,
   "id": "8de4483f",
   "metadata": {},
   "outputs": [],
   "source": [
    "# To execute SQL queries on DataFrames, Spark needs to know how to refer to the DataFrame within the SQL context.\n",
    "#By using createOrReplaceTempView(), you can assign a name to the DataFrame that SQL queries can reference.\n",
    "df.createOrReplaceTempView(\"amazon\")"
   ]
  },
  {
   "cell_type": "code",
   "execution_count": 289,
   "id": "955f090c",
   "metadata": {},
   "outputs": [
    {
     "name": "stdout",
     "output_type": "stream",
     "text": [
      "+----------+------------+\n",
      "|product_id|rating_count|\n",
      "+----------+------------+\n",
      "|B08L12N5H1|         992|\n",
      "|B00ZRBWPA0|         989|\n",
      "|B09Y5FZK9N|         976|\n",
      "+----------+------------+\n",
      "only showing top 3 rows\n",
      "\n"
     ]
    }
   ],
   "source": [
    "#using spark.SQl data filtering\n",
    "spark.sql(\"select  product_id,rating_count from amazon where rating_count < 20000 order by rating_count desc\").show(3)"
   ]
  },
  {
   "cell_type": "code",
   "execution_count": 288,
   "id": "38eddef7",
   "metadata": {},
   "outputs": [
    {
     "name": "stdout",
     "output_type": "stream",
     "text": [
      "+----------+------------+\n",
      "|product_id|rating_count|\n",
      "+----------+------------+\n",
      "|B08L12N5H1|         992|\n",
      "|B00ZRBWPA0|         989|\n",
      "|B09Y5FZK9N|         976|\n",
      "+----------+------------+\n",
      "only showing top 3 rows\n",
      "\n"
     ]
    }
   ],
   "source": [
    "# using pyspark data filtering\n",
    "df.select(\"product_id\",\"rating_count\").filter('rating_count < 20000').sort('rating_count',ascending=False).show(3)"
   ]
  },
  {
   "cell_type": "code",
   "execution_count": 311,
   "id": "ad365b4f",
   "metadata": {},
   "outputs": [
    {
     "data": {
      "text/html": [
       "<table border='1'>\n",
       "<tr><th>category</th><th>count</th></tr>\n",
       "<tr><td>Computers&amp;Accesso...</td><td>231</td></tr>\n",
       "<tr><td>Electronics|Mobil...</td><td>68</td></tr>\n",
       "<tr><td>Electronics|HomeT...</td><td>63</td></tr>\n",
       "<tr><td>Electronics|Headp...</td><td>52</td></tr>\n",
       "<tr><td>Electronics|HomeT...</td><td>49</td></tr>\n",
       "<tr><td>Electronics|Weara...</td><td>31</td></tr>\n",
       "<tr><td>Home&amp;Kitchen|Kitc...</td><td>27</td></tr>\n",
       "<tr><td>Computers&amp;Accesso...</td><td>24</td></tr>\n",
       "<tr><td>Home&amp;Kitchen|Kitc...</td><td>24</td></tr>\n",
       "<tr><td>Electronics|HomeT...</td><td>24</td></tr>\n",
       "<tr><td>Home&amp;Kitchen|Heat...</td><td>23</td></tr>\n",
       "<tr><td>Home&amp;Kitchen|Kitc...</td><td>22</td></tr>\n",
       "<tr><td>Home&amp;Kitchen|Heat...</td><td>20</td></tr>\n",
       "<tr><td>Home&amp;Kitchen|Heat...</td><td>20</td></tr>\n",
       "<tr><td>Home&amp;Kitchen|Kitc...</td><td>19</td></tr>\n",
       "<tr><td>Home&amp;Kitchen|Kitc...</td><td>19</td></tr>\n",
       "<tr><td>Computers&amp;Accesso...</td><td>18</td></tr>\n",
       "<tr><td>Electronics|Mobil...</td><td>16</td></tr>\n",
       "<tr><td>Computers&amp;Accesso...</td><td>14</td></tr>\n",
       "<tr><td>Electronics|Acces...</td><td>13</td></tr>\n",
       "</table>\n",
       "only showing top 20 rows\n"
      ],
      "text/plain": [
       "+--------------------+-----+\n",
       "|            category|count|\n",
       "+--------------------+-----+\n",
       "|Computers&Accesso...|  231|\n",
       "|Electronics|Mobil...|   68|\n",
       "|Electronics|HomeT...|   63|\n",
       "|Electronics|Headp...|   52|\n",
       "|Electronics|HomeT...|   49|\n",
       "|Electronics|Weara...|   31|\n",
       "|Home&Kitchen|Kitc...|   27|\n",
       "|Computers&Accesso...|   24|\n",
       "|Home&Kitchen|Kitc...|   24|\n",
       "|Electronics|HomeT...|   24|\n",
       "|Home&Kitchen|Heat...|   23|\n",
       "|Home&Kitchen|Kitc...|   22|\n",
       "|Home&Kitchen|Heat...|   20|\n",
       "|Home&Kitchen|Heat...|   20|\n",
       "|Home&Kitchen|Kitc...|   19|\n",
       "|Home&Kitchen|Kitc...|   19|\n",
       "|Computers&Accesso...|   18|\n",
       "|Electronics|Mobil...|   16|\n",
       "|Computers&Accesso...|   14|\n",
       "|Electronics|Acces...|   13|\n",
       "+--------------------+-----+\n",
       "only showing top 20 rows"
      ]
     },
     "execution_count": 311,
     "metadata": {},
     "output_type": "execute_result"
    }
   ],
   "source": [
    "df.groupBy(\"category\").count().orderBy('count',ascending =False)"
   ]
  },
  {
   "cell_type": "code",
   "execution_count": 312,
   "id": "11bf67ab",
   "metadata": {},
   "outputs": [
    {
     "data": {
      "text/html": [
       "<table border='1'>\n",
       "<tr><th>category</th><th>count</th></tr>\n",
       "<tr><td>Computers&amp;Accesso...</td><td>231</td></tr>\n",
       "<tr><td>Electronics|Mobil...</td><td>68</td></tr>\n",
       "<tr><td>Electronics|HomeT...</td><td>63</td></tr>\n",
       "<tr><td>Electronics|Headp...</td><td>52</td></tr>\n",
       "<tr><td>Electronics|HomeT...</td><td>49</td></tr>\n",
       "<tr><td>Electronics|Weara...</td><td>31</td></tr>\n",
       "<tr><td>Home&amp;Kitchen|Kitc...</td><td>27</td></tr>\n",
       "<tr><td>Computers&amp;Accesso...</td><td>24</td></tr>\n",
       "<tr><td>Home&amp;Kitchen|Kitc...</td><td>24</td></tr>\n",
       "<tr><td>Electronics|HomeT...</td><td>24</td></tr>\n",
       "<tr><td>Home&amp;Kitchen|Heat...</td><td>23</td></tr>\n",
       "<tr><td>Home&amp;Kitchen|Kitc...</td><td>22</td></tr>\n",
       "<tr><td>Home&amp;Kitchen|Heat...</td><td>20</td></tr>\n",
       "<tr><td>Home&amp;Kitchen|Heat...</td><td>20</td></tr>\n",
       "<tr><td>Home&amp;Kitchen|Kitc...</td><td>19</td></tr>\n",
       "<tr><td>Home&amp;Kitchen|Kitc...</td><td>19</td></tr>\n",
       "<tr><td>Computers&amp;Accesso...</td><td>18</td></tr>\n",
       "<tr><td>Electronics|Mobil...</td><td>16</td></tr>\n",
       "<tr><td>Computers&amp;Accesso...</td><td>14</td></tr>\n",
       "<tr><td>Electronics|Acces...</td><td>13</td></tr>\n",
       "</table>\n",
       "only showing top 20 rows\n"
      ],
      "text/plain": [
       "+--------------------+-----+\n",
       "|            category|count|\n",
       "+--------------------+-----+\n",
       "|Computers&Accesso...|  231|\n",
       "|Electronics|Mobil...|   68|\n",
       "|Electronics|HomeT...|   63|\n",
       "|Electronics|Headp...|   52|\n",
       "|Electronics|HomeT...|   49|\n",
       "|Electronics|Weara...|   31|\n",
       "|Home&Kitchen|Kitc...|   27|\n",
       "|Computers&Accesso...|   24|\n",
       "|Home&Kitchen|Kitc...|   24|\n",
       "|Electronics|HomeT...|   24|\n",
       "|Home&Kitchen|Heat...|   23|\n",
       "|Home&Kitchen|Kitc...|   22|\n",
       "|Home&Kitchen|Heat...|   20|\n",
       "|Home&Kitchen|Heat...|   20|\n",
       "|Home&Kitchen|Kitc...|   19|\n",
       "|Home&Kitchen|Kitc...|   19|\n",
       "|Computers&Accesso...|   18|\n",
       "|Electronics|Mobil...|   16|\n",
       "|Computers&Accesso...|   14|\n",
       "|Electronics|Acces...|   13|\n",
       "+--------------------+-----+\n",
       "only showing top 20 rows"
      ]
     },
     "execution_count": 312,
     "metadata": {},
     "output_type": "execute_result"
    }
   ],
   "source": [
    "spark.sql(\"select category,count(*) as count from amazon group by category order by count desc \")"
   ]
  },
  {
   "cell_type": "code",
   "execution_count": 315,
   "id": "c9c9b9ff",
   "metadata": {},
   "outputs": [
    {
     "data": {
      "text/html": [
       "<table border='1'>\n",
       "<tr><th>PRODUCT_ID</th><th>PRODUCT_NAME</th><th>CATEGORY</th><th>DISCOUNTED_PRICE</th><th>ACTUAL_PRICE</th><th>DISCOUNT_PERCENTAGE</th><th>RATING</th><th>RATING_COUNT</th><th>ABOUT_PRODUCT</th><th>USER_ID</th><th>USER_NAME</th><th>REVIEW_ID</th><th>REVIEW_TITLE</th><th>REVIEW_CONTENT</th><th>IMG_LINK</th><th>PRODUCT_LINK</th></tr>\n",
       "<tr><td>B07JW9H4J1</td><td>Wayona Nylon Brai...</td><td>Computers&amp;Accesso...</td><td>₹399</td><td>₹1,099</td><td>64%</td><td>4.2</td><td>24,269</td><td>High Compatibilit...</td><td>AG3D6O4STAQKAY2UV...</td><td>Manav,Adarsh gupt...</td><td>R3HXWT0LRP0NMF,R2...</td><td>Satisfied,Chargin...</td><td>Looks durable Cha...</td><td>https://m.media-a...</td><td>https://www.amazo...</td></tr>\n",
       "<tr><td>B098NS6PVG</td><td>Ambrane Unbreakab...</td><td>Computers&amp;Accesso...</td><td>₹199</td><td>₹349</td><td>43%</td><td>4.0</td><td>43,994</td><td>Compatible with a...</td><td>AECPFYFQVRUWC3KGN...</td><td>ArdKn,Nirbhay kum...</td><td>RGIQEG07R9HS2,R1S...</td><td>A Good Braided Ca...</td><td>I ordered this ca...</td><td>https://m.media-a...</td><td>https://www.amazo...</td></tr>\n",
       "<tr><td>B096MSW6CT</td><td>Sounce Fast Phone...</td><td>Computers&amp;Accesso...</td><td>₹199</td><td>₹1,899</td><td>90%</td><td>3.9</td><td>7,928</td><td>【 Fast Charger&amp; D...</td><td>AGU3BBQ2V2DDAMOAK...</td><td>Kunal,Himanshu,vi...</td><td>R3J3EQQ9TZI5ZJ,R3...</td><td>Good speed for ea...</td><td>Not quite durable...</td><td>https://m.media-a...</td><td>https://www.amazo...</td></tr>\n",
       "<tr><td>B08HDJ86NZ</td><td>boAt Deuce USB 30...</td><td>Computers&amp;Accesso...</td><td>₹329</td><td>₹699</td><td>53%</td><td>4.2</td><td>94,363</td><td>The boAt Deuce US...</td><td>AEWAZDZZJLQUYVOVG...</td><td>Omkar dhale,JD,HE...</td><td>R3EEUZKKK9J36I,R3...</td><td>Good product,Good...</td><td>Good product,long...</td><td>https://m.media-a...</td><td>https://www.amazo...</td></tr>\n",
       "<tr><td>B08CF3B7N1</td><td>Portronics Konnec...</td><td>Computers&amp;Accesso...</td><td>₹154</td><td>₹399</td><td>61%</td><td>4.2</td><td>16,905</td><td>[CHARGE &amp; SYNC FU...</td><td>AE3Q6KSUK5P75D5HF...</td><td>rahuls6099,Swasat...</td><td>R1BP4L2HH9TFUP,R1...</td><td>As good as origin...</td><td>Bought this inste...</td><td>https://m.media-a...</td><td>https://www.amazo...</td></tr>\n",
       "<tr><td>B08Y1TFSP6</td><td>pTron Solero TB30...</td><td>Computers&amp;Accesso...</td><td>₹149</td><td>₹1,000</td><td>85%</td><td>3.9</td><td>24,871</td><td>Fast Charging &amp; D...</td><td>AEQ2YMXSZWEOHK2EH...</td><td>Jayesh,Rajesh k.,...</td><td>R7S8ANNSDPR40,R3C...</td><td>It&#x27;s pretty good,...</td><td>It&#x27;s a good produ...</td><td>https://m.media-a...</td><td>https://www.amazo...</td></tr>\n",
       "<tr><td>B08WRWPM22</td><td>boAt Micro USB 55...</td><td>Computers&amp;Accesso...</td><td>₹176.63</td><td>₹499</td><td>65%</td><td>4.1</td><td>15,188</td><td>It Ensures High S...</td><td>AG7C6DAADCTRQJG2B...</td><td>Vivek kumar,Amazo...</td><td>R8E73K2KWJRDS,RSD...</td><td>Long durable.,goo...</td><td>Build quality is ...</td><td>https://m.media-a...</td><td>https://www.amazo...</td></tr>\n",
       "<tr><td>B08DDRGWTJ</td><td>MI Usb Type-C Cab...</td><td>Computers&amp;Accesso...</td><td>₹229</td><td>₹299</td><td>23%</td><td>4.3</td><td>30,411</td><td>1m long Type-C US...</td><td>AHW6E5LQ2BDYOIVLA...</td><td>Pavan A H,Jayesh ...</td><td>R2X090D1YHACKR,R3...</td><td>Worth for money -...</td><td>Worth for money -...</td><td>https://m.media-a...</td><td>https://www.amazo...</td></tr>\n",
       "<tr><td>B008IFXQFU</td><td>TP-Link USB WiFi ...</td><td>Computers&amp;Accesso...</td><td>₹499</td><td>₹999</td><td>50%</td><td>4.2</td><td>1,79,691</td><td>USB WiFi Adapter ...</td><td>AGV3IEFANZCKECFGU...</td><td>Azhar JuMan,Aniru...</td><td>R1LW6NWSVTVZ2H,R3...</td><td>Works on linux fo...</td><td>I use this to con...</td><td>https://m.media-a...</td><td>https://www.amazo...</td></tr>\n",
       "<tr><td>B082LZGK39</td><td>Ambrane Unbreakab...</td><td>Computers&amp;Accesso...</td><td>₹199</td><td>₹299</td><td>33%</td><td>4.0</td><td>43,994</td><td>Universal Compati...</td><td>AECPFYFQVRUWC3KGN...</td><td>ArdKn,Nirbhay kum...</td><td>RGIQEG07R9HS2,R1S...</td><td>A Good Braided Ca...</td><td>I ordered this ca...</td><td>https://m.media-a...</td><td>https://www.amazo...</td></tr>\n",
       "<tr><td>B08CF3D7QR</td><td>Portronics Konnec...</td><td>Computers&amp;Accesso...</td><td>₹154</td><td>₹339</td><td>55%</td><td>4.3</td><td>13,391</td><td>[CHARGE &amp; SYNC FU...</td><td>AGYLPKPZHVYKKZHOT...</td><td>Tanya,Anu,Akshay,...</td><td>R11MQS7WD9C3I0,R2...</td><td>Good for fast cha...</td><td>The cable is effi...</td><td>https://m.media-a...</td><td>https://www.amazo...</td></tr>\n",
       "<tr><td>B0789LZTCJ</td><td>boAt Rugged v3 Ex...</td><td>Computers&amp;Accesso...</td><td>₹299</td><td>₹799</td><td>63%</td><td>4.2</td><td>94,363</td><td>The boAt rugged c...</td><td>AEWAZDZZJLQUYVOVG...</td><td>Omkar dhale,JD,HE...</td><td>R3EEUZKKK9J36I,R3...</td><td>Good product,Good...</td><td>Good product,long...</td><td>https://m.media-a...</td><td>https://www.amazo...</td></tr>\n",
       "<tr><td>B07KSMBL2H</td><td>AmazonBasics Flex...</td><td>Electronics|HomeT...</td><td>₹219</td><td>₹700</td><td>69%</td><td>4.4</td><td>4,26,973</td><td>Flexible, lightwe...</td><td>AEYJ5I6JZZPOJB6MG...</td><td>Rishav Gossain,Sh...</td><td>R1FKOKZ3HHKJBZ,R2...</td><td>It&#x27;s quite good a...</td><td>I am using it for...</td><td>https://m.media-a...</td><td>https://www.amazo...</td></tr>\n",
       "<tr><td>B085DTN6R2</td><td>Portronics Konnec...</td><td>Computers&amp;Accesso...</td><td>₹350</td><td>₹899</td><td>61%</td><td>4.2</td><td>2,262</td><td>[20W PD FAST CHAR...</td><td>AGUAYQHARAKR2VZTR...</td><td>Priya,Mansi,Plaba...</td><td>R1QETDIPRCX4S0,RA...</td><td>Works,Nice Produc...</td><td>Definitely isn’t ...</td><td>https://m.media-a...</td><td>https://www.amazo...</td></tr>\n",
       "<tr><td>B09KLVMZ3B</td><td>Portronics Konnec...</td><td>Computers&amp;Accesso...</td><td>₹159</td><td>₹399</td><td>60%</td><td>4.1</td><td>4,768</td><td>[CHARGE &amp; SYNC FU...</td><td>AF2XXVO7JUBUVAOBT...</td><td>Deepaak Singh,siv...</td><td>R20XIOU25HEX80,R2...</td><td>Great but,Worked ...</td><td>Loosing charging ...</td><td>https://m.media-a...</td><td>https://www.amazo...</td></tr>\n",
       "<tr><td>B083342NKJ</td><td>MI Braided USB Ty...</td><td>Computers&amp;Accesso...</td><td>₹349</td><td>₹399</td><td>13%</td><td>4.4</td><td>18,757</td><td>1M Long Cable. Us...</td><td>AGSGSRTEZBQY64WO2...</td><td>Birendra ku Dash,...</td><td>R2JPQNKCOE10UK,RQ...</td><td>Good product,usin...</td><td>I like it 👍👍,Be...</td><td>https://m.media-a...</td><td>https://www.amazo...</td></tr>\n",
       "<tr><td>B0B6F7LX4C</td><td>MI 80 cm (32 inch...</td><td>Electronics|HomeT...</td><td>₹13,999</td><td>₹24,999</td><td>44%</td><td>4.2</td><td>32,840</td><td>Note : The brands...</td><td>AHEVOQADJSSRX7DS3...</td><td>Manoj maddheshiya...</td><td>R13UTIA6KOF6QV,R2...</td><td>It is the best tv...</td><td>Pros- xiomi 5a is...</td><td>https://m.media-a...</td><td>https://www.amazo...</td></tr>\n",
       "<tr><td>B082LSVT4B</td><td>Ambrane Unbreakab...</td><td>Computers&amp;Accesso...</td><td>₹249</td><td>₹399</td><td>38%</td><td>4.0</td><td>43,994</td><td>Compatible with a...</td><td>AECPFYFQVRUWC3KGN...</td><td>ArdKn,Nirbhay kum...</td><td>RGIQEG07R9HS2,R1S...</td><td>A Good Braided Ca...</td><td>I ordered this ca...</td><td>https://m.media-a...</td><td>https://www.amazo...</td></tr>\n",
       "<tr><td>B08WRBG3XW</td><td>boAt Type C A325 ...</td><td>Computers&amp;Accesso...</td><td>₹199</td><td>₹499</td><td>60%</td><td>4.1</td><td>13,045</td><td>Type C A 325 Cabl...</td><td>AFB5KJR4Q5FICAHBO...</td><td>Rohan Narkar,JAGW...</td><td>R2BP8Y5OJXKJLF,R2...</td><td>Good for charging...</td><td>Check for offera ...</td><td>https://m.media-a...</td><td>https://www.amazo...</td></tr>\n",
       "<tr><td>B08DPLCM6T</td><td>LG 80 cm (32 inch...</td><td>Electronics|HomeT...</td><td>₹13,490</td><td>₹21,990</td><td>39%</td><td>4.3</td><td>11,976</td><td>Resolution: HD Re...</td><td>AHBNKB74LGTYUOKPA...</td><td>NIRMAL.N,Manoj ku...</td><td>R2PNR69G0BQG2F,R3...</td><td>Sound quality,Ver...</td><td>LG was always Goo...</td><td>https://m.media-a...</td><td>https://www.amazo...</td></tr>\n",
       "</table>\n",
       "only showing top 20 rows\n"
      ],
      "text/plain": [
       "+----------+--------------------+--------------------+----------------+------------+-------------------+------+------------+---------------------+--------------------+--------------------+--------------------+--------------------+--------------------+--------------------+--------------------+\n",
       "|PRODUCT_ID|        PRODUCT_NAME|            CATEGORY|DISCOUNTED_PRICE|ACTUAL_PRICE|DISCOUNT_PERCENTAGE|RATING|RATING_COUNT|        ABOUT_PRODUCT|             USER_ID|           USER_NAME|           REVIEW_ID|        REVIEW_TITLE|      REVIEW_CONTENT|            IMG_LINK|        PRODUCT_LINK|\n",
       "+----------+--------------------+--------------------+----------------+------------+-------------------+------+------------+---------------------+--------------------+--------------------+--------------------+--------------------+--------------------+--------------------+--------------------+\n",
       "|B07JW9H4J1|Wayona Nylon Brai...|Computers&Accesso...|            ₹399|      ₹1,099|                64%|   4.2|      24,269| High Compatibilit...|AG3D6O4STAQKAY2UV...|Manav,Adarsh gupt...|R3HXWT0LRP0NMF,R2...|Satisfied,Chargin...|Looks durable Cha...|https://m.media-a...|https://www.amazo...|\n",
       "|B098NS6PVG|Ambrane Unbreakab...|Computers&Accesso...|            ₹199|        ₹349|                43%|   4.0|      43,994| Compatible with a...|AECPFYFQVRUWC3KGN...|ArdKn,Nirbhay kum...|RGIQEG07R9HS2,R1S...|A Good Braided Ca...|I ordered this ca...|https://m.media-a...|https://www.amazo...|\n",
       "|B096MSW6CT|Sounce Fast Phone...|Computers&Accesso...|            ₹199|      ₹1,899|                90%|   3.9|       7,928|【 Fast Charger& D...|AGU3BBQ2V2DDAMOAK...|Kunal,Himanshu,vi...|R3J3EQQ9TZI5ZJ,R3...|Good speed for ea...|Not quite durable...|https://m.media-a...|https://www.amazo...|\n",
       "|B08HDJ86NZ|boAt Deuce USB 30...|Computers&Accesso...|            ₹329|        ₹699|                53%|   4.2|      94,363| The boAt Deuce US...|AEWAZDZZJLQUYVOVG...|Omkar dhale,JD,HE...|R3EEUZKKK9J36I,R3...|Good product,Good...|Good product,long...|https://m.media-a...|https://www.amazo...|\n",
       "|B08CF3B7N1|Portronics Konnec...|Computers&Accesso...|            ₹154|        ₹399|                61%|   4.2|      16,905| [CHARGE & SYNC FU...|AE3Q6KSUK5P75D5HF...|rahuls6099,Swasat...|R1BP4L2HH9TFUP,R1...|As good as origin...|Bought this inste...|https://m.media-a...|https://www.amazo...|\n",
       "|B08Y1TFSP6|pTron Solero TB30...|Computers&Accesso...|            ₹149|      ₹1,000|                85%|   3.9|      24,871| Fast Charging & D...|AEQ2YMXSZWEOHK2EH...|Jayesh,Rajesh k.,...|R7S8ANNSDPR40,R3C...|It's pretty good,...|It's a good produ...|https://m.media-a...|https://www.amazo...|\n",
       "|B08WRWPM22|boAt Micro USB 55...|Computers&Accesso...|         ₹176.63|        ₹499|                65%|   4.1|      15,188| It Ensures High S...|AG7C6DAADCTRQJG2B...|Vivek kumar,Amazo...|R8E73K2KWJRDS,RSD...|Long durable.,goo...|Build quality is ...|https://m.media-a...|https://www.amazo...|\n",
       "|B08DDRGWTJ|MI Usb Type-C Cab...|Computers&Accesso...|            ₹229|        ₹299|                23%|   4.3|      30,411| 1m long Type-C US...|AHW6E5LQ2BDYOIVLA...|Pavan A H,Jayesh ...|R2X090D1YHACKR,R3...|Worth for money -...|Worth for money -...|https://m.media-a...|https://www.amazo...|\n",
       "|B008IFXQFU|TP-Link USB WiFi ...|Computers&Accesso...|            ₹499|        ₹999|                50%|   4.2|    1,79,691| USB WiFi Adapter ...|AGV3IEFANZCKECFGU...|Azhar JuMan,Aniru...|R1LW6NWSVTVZ2H,R3...|Works on linux fo...|I use this to con...|https://m.media-a...|https://www.amazo...|\n",
       "|B082LZGK39|Ambrane Unbreakab...|Computers&Accesso...|            ₹199|        ₹299|                33%|   4.0|      43,994| Universal Compati...|AECPFYFQVRUWC3KGN...|ArdKn,Nirbhay kum...|RGIQEG07R9HS2,R1S...|A Good Braided Ca...|I ordered this ca...|https://m.media-a...|https://www.amazo...|\n",
       "|B08CF3D7QR|Portronics Konnec...|Computers&Accesso...|            ₹154|        ₹339|                55%|   4.3|      13,391| [CHARGE & SYNC FU...|AGYLPKPZHVYKKZHOT...|Tanya,Anu,Akshay,...|R11MQS7WD9C3I0,R2...|Good for fast cha...|The cable is effi...|https://m.media-a...|https://www.amazo...|\n",
       "|B0789LZTCJ|boAt Rugged v3 Ex...|Computers&Accesso...|            ₹299|        ₹799|                63%|   4.2|      94,363| The boAt rugged c...|AEWAZDZZJLQUYVOVG...|Omkar dhale,JD,HE...|R3EEUZKKK9J36I,R3...|Good product,Good...|Good product,long...|https://m.media-a...|https://www.amazo...|\n",
       "|B07KSMBL2H|AmazonBasics Flex...|Electronics|HomeT...|            ₹219|        ₹700|                69%|   4.4|    4,26,973| Flexible, lightwe...|AEYJ5I6JZZPOJB6MG...|Rishav Gossain,Sh...|R1FKOKZ3HHKJBZ,R2...|It's quite good a...|I am using it for...|https://m.media-a...|https://www.amazo...|\n",
       "|B085DTN6R2|Portronics Konnec...|Computers&Accesso...|            ₹350|        ₹899|                61%|   4.2|       2,262| [20W PD FAST CHAR...|AGUAYQHARAKR2VZTR...|Priya,Mansi,Plaba...|R1QETDIPRCX4S0,RA...|Works,Nice Produc...|Definitely isn’t ...|https://m.media-a...|https://www.amazo...|\n",
       "|B09KLVMZ3B|Portronics Konnec...|Computers&Accesso...|            ₹159|        ₹399|                60%|   4.1|       4,768| [CHARGE & SYNC FU...|AF2XXVO7JUBUVAOBT...|Deepaak Singh,siv...|R20XIOU25HEX80,R2...|Great but,Worked ...|Loosing charging ...|https://m.media-a...|https://www.amazo...|\n",
       "|B083342NKJ|MI Braided USB Ty...|Computers&Accesso...|            ₹349|        ₹399|                13%|   4.4|      18,757| 1M Long Cable. Us...|AGSGSRTEZBQY64WO2...|Birendra ku Dash,...|R2JPQNKCOE10UK,RQ...|Good product,usin...|I like it 👍👍,Be...|https://m.media-a...|https://www.amazo...|\n",
       "|B0B6F7LX4C|MI 80 cm (32 inch...|Electronics|HomeT...|         ₹13,999|     ₹24,999|                44%|   4.2|      32,840| Note : The brands...|AHEVOQADJSSRX7DS3...|Manoj maddheshiya...|R13UTIA6KOF6QV,R2...|It is the best tv...|Pros- xiomi 5a is...|https://m.media-a...|https://www.amazo...|\n",
       "|B082LSVT4B|Ambrane Unbreakab...|Computers&Accesso...|            ₹249|        ₹399|                38%|   4.0|      43,994| Compatible with a...|AECPFYFQVRUWC3KGN...|ArdKn,Nirbhay kum...|RGIQEG07R9HS2,R1S...|A Good Braided Ca...|I ordered this ca...|https://m.media-a...|https://www.amazo...|\n",
       "|B08WRBG3XW|boAt Type C A325 ...|Computers&Accesso...|            ₹199|        ₹499|                60%|   4.1|      13,045| Type C A 325 Cabl...|AFB5KJR4Q5FICAHBO...|Rohan Narkar,JAGW...|R2BP8Y5OJXKJLF,R2...|Good for charging...|Check for offera ...|https://m.media-a...|https://www.amazo...|\n",
       "|B08DPLCM6T|LG 80 cm (32 inch...|Electronics|HomeT...|         ₹13,490|     ₹21,990|                39%|   4.3|      11,976| Resolution: HD Re...|AHBNKB74LGTYUOKPA...|NIRMAL.N,Manoj ku...|R2PNR69G0BQG2F,R3...|Sound quality,Ver...|LG was always Goo...|https://m.media-a...|https://www.amazo...|\n",
       "+----------+--------------------+--------------------+----------------+------------+-------------------+------+------------+---------------------+--------------------+--------------------+--------------------+--------------------+--------------------+--------------------+--------------------+\n",
       "only showing top 20 rows"
      ]
     },
     "execution_count": 315,
     "metadata": {},
     "output_type": "execute_result"
    }
   ],
   "source": [
    "# Rename columns to uppercase using toDF\n",
    "#toDF(): This method renames all columns at once, making it more efficient than looping with withColumnRenamed().\n",
    "df.toDF(*[col.upper() for col in df.columns])"
   ]
  },
  {
   "cell_type": "code",
   "execution_count": 323,
   "id": "379d484f",
   "metadata": {},
   "outputs": [
    {
     "data": {
      "text/html": [
       "<table border='1'>\n",
       "<tr><th>product_id</th><th>product_name</th><th>category</th><th>discounted_price</th><th>actual_price</th><th>discount_percentage</th><th>rating</th><th>rating_count</th><th>about_product</th><th>user_id</th><th>user_name</th><th>review_id</th><th>review_title</th><th>review_content</th><th>img_link</th><th>product_link</th></tr>\n",
       "<tr><td>B07JW9H4J1</td><td>Wayona Nylon Brai...</td><td>Computers&amp;Accesso...</td><td>₹399</td><td>₹1,099</td><td>64%</td><td>5.2</td><td>24,269</td><td>High Compatibilit...</td><td>AG3D6O4STAQKAY2UV...</td><td>Manav,Adarsh gupt...</td><td>R3HXWT0LRP0NMF,R2...</td><td>Satisfied,Chargin...</td><td>Looks durable Cha...</td><td>https://m.media-a...</td><td>https://www.amazo...</td></tr>\n",
       "<tr><td>B098NS6PVG</td><td>Ambrane Unbreakab...</td><td>Computers&amp;Accesso...</td><td>₹199</td><td>₹349</td><td>43%</td><td>5.0</td><td>43,994</td><td>Compatible with a...</td><td>AECPFYFQVRUWC3KGN...</td><td>ArdKn,Nirbhay kum...</td><td>RGIQEG07R9HS2,R1S...</td><td>A Good Braided Ca...</td><td>I ordered this ca...</td><td>https://m.media-a...</td><td>https://www.amazo...</td></tr>\n",
       "<tr><td>B096MSW6CT</td><td>Sounce Fast Phone...</td><td>Computers&amp;Accesso...</td><td>₹199</td><td>₹1,899</td><td>90%</td><td>4.9</td><td>7,928</td><td>【 Fast Charger&amp; D...</td><td>AGU3BBQ2V2DDAMOAK...</td><td>Kunal,Himanshu,vi...</td><td>R3J3EQQ9TZI5ZJ,R3...</td><td>Good speed for ea...</td><td>Not quite durable...</td><td>https://m.media-a...</td><td>https://www.amazo...</td></tr>\n",
       "<tr><td>B08HDJ86NZ</td><td>boAt Deuce USB 30...</td><td>Computers&amp;Accesso...</td><td>₹329</td><td>₹699</td><td>53%</td><td>5.2</td><td>94,363</td><td>The boAt Deuce US...</td><td>AEWAZDZZJLQUYVOVG...</td><td>Omkar dhale,JD,HE...</td><td>R3EEUZKKK9J36I,R3...</td><td>Good product,Good...</td><td>Good product,long...</td><td>https://m.media-a...</td><td>https://www.amazo...</td></tr>\n",
       "<tr><td>B08CF3B7N1</td><td>Portronics Konnec...</td><td>Computers&amp;Accesso...</td><td>₹154</td><td>₹399</td><td>61%</td><td>5.2</td><td>16,905</td><td>[CHARGE &amp; SYNC FU...</td><td>AE3Q6KSUK5P75D5HF...</td><td>rahuls6099,Swasat...</td><td>R1BP4L2HH9TFUP,R1...</td><td>As good as origin...</td><td>Bought this inste...</td><td>https://m.media-a...</td><td>https://www.amazo...</td></tr>\n",
       "<tr><td>B08Y1TFSP6</td><td>pTron Solero TB30...</td><td>Computers&amp;Accesso...</td><td>₹149</td><td>₹1,000</td><td>85%</td><td>4.9</td><td>24,871</td><td>Fast Charging &amp; D...</td><td>AEQ2YMXSZWEOHK2EH...</td><td>Jayesh,Rajesh k.,...</td><td>R7S8ANNSDPR40,R3C...</td><td>It&#x27;s pretty good,...</td><td>It&#x27;s a good produ...</td><td>https://m.media-a...</td><td>https://www.amazo...</td></tr>\n",
       "<tr><td>B08WRWPM22</td><td>boAt Micro USB 55...</td><td>Computers&amp;Accesso...</td><td>₹176.63</td><td>₹499</td><td>65%</td><td>5.1</td><td>15,188</td><td>It Ensures High S...</td><td>AG7C6DAADCTRQJG2B...</td><td>Vivek kumar,Amazo...</td><td>R8E73K2KWJRDS,RSD...</td><td>Long durable.,goo...</td><td>Build quality is ...</td><td>https://m.media-a...</td><td>https://www.amazo...</td></tr>\n",
       "<tr><td>B08DDRGWTJ</td><td>MI Usb Type-C Cab...</td><td>Computers&amp;Accesso...</td><td>₹229</td><td>₹299</td><td>23%</td><td>5.3</td><td>30,411</td><td>1m long Type-C US...</td><td>AHW6E5LQ2BDYOIVLA...</td><td>Pavan A H,Jayesh ...</td><td>R2X090D1YHACKR,R3...</td><td>Worth for money -...</td><td>Worth for money -...</td><td>https://m.media-a...</td><td>https://www.amazo...</td></tr>\n",
       "<tr><td>B008IFXQFU</td><td>TP-Link USB WiFi ...</td><td>Computers&amp;Accesso...</td><td>₹499</td><td>₹999</td><td>50%</td><td>5.2</td><td>1,79,691</td><td>USB WiFi Adapter ...</td><td>AGV3IEFANZCKECFGU...</td><td>Azhar JuMan,Aniru...</td><td>R1LW6NWSVTVZ2H,R3...</td><td>Works on linux fo...</td><td>I use this to con...</td><td>https://m.media-a...</td><td>https://www.amazo...</td></tr>\n",
       "<tr><td>B082LZGK39</td><td>Ambrane Unbreakab...</td><td>Computers&amp;Accesso...</td><td>₹199</td><td>₹299</td><td>33%</td><td>5.0</td><td>43,994</td><td>Universal Compati...</td><td>AECPFYFQVRUWC3KGN...</td><td>ArdKn,Nirbhay kum...</td><td>RGIQEG07R9HS2,R1S...</td><td>A Good Braided Ca...</td><td>I ordered this ca...</td><td>https://m.media-a...</td><td>https://www.amazo...</td></tr>\n",
       "<tr><td>B08CF3D7QR</td><td>Portronics Konnec...</td><td>Computers&amp;Accesso...</td><td>₹154</td><td>₹339</td><td>55%</td><td>5.3</td><td>13,391</td><td>[CHARGE &amp; SYNC FU...</td><td>AGYLPKPZHVYKKZHOT...</td><td>Tanya,Anu,Akshay,...</td><td>R11MQS7WD9C3I0,R2...</td><td>Good for fast cha...</td><td>The cable is effi...</td><td>https://m.media-a...</td><td>https://www.amazo...</td></tr>\n",
       "<tr><td>B0789LZTCJ</td><td>boAt Rugged v3 Ex...</td><td>Computers&amp;Accesso...</td><td>₹299</td><td>₹799</td><td>63%</td><td>5.2</td><td>94,363</td><td>The boAt rugged c...</td><td>AEWAZDZZJLQUYVOVG...</td><td>Omkar dhale,JD,HE...</td><td>R3EEUZKKK9J36I,R3...</td><td>Good product,Good...</td><td>Good product,long...</td><td>https://m.media-a...</td><td>https://www.amazo...</td></tr>\n",
       "<tr><td>B07KSMBL2H</td><td>AmazonBasics Flex...</td><td>Electronics|HomeT...</td><td>₹219</td><td>₹700</td><td>69%</td><td>5.4</td><td>4,26,973</td><td>Flexible, lightwe...</td><td>AEYJ5I6JZZPOJB6MG...</td><td>Rishav Gossain,Sh...</td><td>R1FKOKZ3HHKJBZ,R2...</td><td>It&#x27;s quite good a...</td><td>I am using it for...</td><td>https://m.media-a...</td><td>https://www.amazo...</td></tr>\n",
       "<tr><td>B085DTN6R2</td><td>Portronics Konnec...</td><td>Computers&amp;Accesso...</td><td>₹350</td><td>₹899</td><td>61%</td><td>5.2</td><td>2,262</td><td>[20W PD FAST CHAR...</td><td>AGUAYQHARAKR2VZTR...</td><td>Priya,Mansi,Plaba...</td><td>R1QETDIPRCX4S0,RA...</td><td>Works,Nice Produc...</td><td>Definitely isn’t ...</td><td>https://m.media-a...</td><td>https://www.amazo...</td></tr>\n",
       "<tr><td>B09KLVMZ3B</td><td>Portronics Konnec...</td><td>Computers&amp;Accesso...</td><td>₹159</td><td>₹399</td><td>60%</td><td>5.1</td><td>4,768</td><td>[CHARGE &amp; SYNC FU...</td><td>AF2XXVO7JUBUVAOBT...</td><td>Deepaak Singh,siv...</td><td>R20XIOU25HEX80,R2...</td><td>Great but,Worked ...</td><td>Loosing charging ...</td><td>https://m.media-a...</td><td>https://www.amazo...</td></tr>\n",
       "<tr><td>B083342NKJ</td><td>MI Braided USB Ty...</td><td>Computers&amp;Accesso...</td><td>₹349</td><td>₹399</td><td>13%</td><td>5.4</td><td>18,757</td><td>1M Long Cable. Us...</td><td>AGSGSRTEZBQY64WO2...</td><td>Birendra ku Dash,...</td><td>R2JPQNKCOE10UK,RQ...</td><td>Good product,usin...</td><td>I like it 👍👍,Be...</td><td>https://m.media-a...</td><td>https://www.amazo...</td></tr>\n",
       "<tr><td>B0B6F7LX4C</td><td>MI 80 cm (32 inch...</td><td>Electronics|HomeT...</td><td>₹13,999</td><td>₹24,999</td><td>44%</td><td>5.2</td><td>32,840</td><td>Note : The brands...</td><td>AHEVOQADJSSRX7DS3...</td><td>Manoj maddheshiya...</td><td>R13UTIA6KOF6QV,R2...</td><td>It is the best tv...</td><td>Pros- xiomi 5a is...</td><td>https://m.media-a...</td><td>https://www.amazo...</td></tr>\n",
       "<tr><td>B082LSVT4B</td><td>Ambrane Unbreakab...</td><td>Computers&amp;Accesso...</td><td>₹249</td><td>₹399</td><td>38%</td><td>5.0</td><td>43,994</td><td>Compatible with a...</td><td>AECPFYFQVRUWC3KGN...</td><td>ArdKn,Nirbhay kum...</td><td>RGIQEG07R9HS2,R1S...</td><td>A Good Braided Ca...</td><td>I ordered this ca...</td><td>https://m.media-a...</td><td>https://www.amazo...</td></tr>\n",
       "<tr><td>B08WRBG3XW</td><td>boAt Type C A325 ...</td><td>Computers&amp;Accesso...</td><td>₹199</td><td>₹499</td><td>60%</td><td>5.1</td><td>13,045</td><td>Type C A 325 Cabl...</td><td>AFB5KJR4Q5FICAHBO...</td><td>Rohan Narkar,JAGW...</td><td>R2BP8Y5OJXKJLF,R2...</td><td>Good for charging...</td><td>Check for offera ...</td><td>https://m.media-a...</td><td>https://www.amazo...</td></tr>\n",
       "<tr><td>B08DPLCM6T</td><td>LG 80 cm (32 inch...</td><td>Electronics|HomeT...</td><td>₹13,490</td><td>₹21,990</td><td>39%</td><td>5.3</td><td>11,976</td><td>Resolution: HD Re...</td><td>AHBNKB74LGTYUOKPA...</td><td>NIRMAL.N,Manoj ku...</td><td>R2PNR69G0BQG2F,R3...</td><td>Sound quality,Ver...</td><td>LG was always Goo...</td><td>https://m.media-a...</td><td>https://www.amazo...</td></tr>\n",
       "</table>\n",
       "only showing top 20 rows\n"
      ],
      "text/plain": [
       "+----------+--------------------+--------------------+----------------+------------+-------------------+------+------------+---------------------+--------------------+--------------------+--------------------+--------------------+--------------------+--------------------+--------------------+\n",
       "|product_id|        product_name|            category|discounted_price|actual_price|discount_percentage|rating|rating_count|        about_product|             user_id|           user_name|           review_id|        review_title|      review_content|            img_link|        product_link|\n",
       "+----------+--------------------+--------------------+----------------+------------+-------------------+------+------------+---------------------+--------------------+--------------------+--------------------+--------------------+--------------------+--------------------+--------------------+\n",
       "|B07JW9H4J1|Wayona Nylon Brai...|Computers&Accesso...|            ₹399|      ₹1,099|                64%|   5.2|      24,269| High Compatibilit...|AG3D6O4STAQKAY2UV...|Manav,Adarsh gupt...|R3HXWT0LRP0NMF,R2...|Satisfied,Chargin...|Looks durable Cha...|https://m.media-a...|https://www.amazo...|\n",
       "|B098NS6PVG|Ambrane Unbreakab...|Computers&Accesso...|            ₹199|        ₹349|                43%|   5.0|      43,994| Compatible with a...|AECPFYFQVRUWC3KGN...|ArdKn,Nirbhay kum...|RGIQEG07R9HS2,R1S...|A Good Braided Ca...|I ordered this ca...|https://m.media-a...|https://www.amazo...|\n",
       "|B096MSW6CT|Sounce Fast Phone...|Computers&Accesso...|            ₹199|      ₹1,899|                90%|   4.9|       7,928|【 Fast Charger& D...|AGU3BBQ2V2DDAMOAK...|Kunal,Himanshu,vi...|R3J3EQQ9TZI5ZJ,R3...|Good speed for ea...|Not quite durable...|https://m.media-a...|https://www.amazo...|\n",
       "|B08HDJ86NZ|boAt Deuce USB 30...|Computers&Accesso...|            ₹329|        ₹699|                53%|   5.2|      94,363| The boAt Deuce US...|AEWAZDZZJLQUYVOVG...|Omkar dhale,JD,HE...|R3EEUZKKK9J36I,R3...|Good product,Good...|Good product,long...|https://m.media-a...|https://www.amazo...|\n",
       "|B08CF3B7N1|Portronics Konnec...|Computers&Accesso...|            ₹154|        ₹399|                61%|   5.2|      16,905| [CHARGE & SYNC FU...|AE3Q6KSUK5P75D5HF...|rahuls6099,Swasat...|R1BP4L2HH9TFUP,R1...|As good as origin...|Bought this inste...|https://m.media-a...|https://www.amazo...|\n",
       "|B08Y1TFSP6|pTron Solero TB30...|Computers&Accesso...|            ₹149|      ₹1,000|                85%|   4.9|      24,871| Fast Charging & D...|AEQ2YMXSZWEOHK2EH...|Jayesh,Rajesh k.,...|R7S8ANNSDPR40,R3C...|It's pretty good,...|It's a good produ...|https://m.media-a...|https://www.amazo...|\n",
       "|B08WRWPM22|boAt Micro USB 55...|Computers&Accesso...|         ₹176.63|        ₹499|                65%|   5.1|      15,188| It Ensures High S...|AG7C6DAADCTRQJG2B...|Vivek kumar,Amazo...|R8E73K2KWJRDS,RSD...|Long durable.,goo...|Build quality is ...|https://m.media-a...|https://www.amazo...|\n",
       "|B08DDRGWTJ|MI Usb Type-C Cab...|Computers&Accesso...|            ₹229|        ₹299|                23%|   5.3|      30,411| 1m long Type-C US...|AHW6E5LQ2BDYOIVLA...|Pavan A H,Jayesh ...|R2X090D1YHACKR,R3...|Worth for money -...|Worth for money -...|https://m.media-a...|https://www.amazo...|\n",
       "|B008IFXQFU|TP-Link USB WiFi ...|Computers&Accesso...|            ₹499|        ₹999|                50%|   5.2|    1,79,691| USB WiFi Adapter ...|AGV3IEFANZCKECFGU...|Azhar JuMan,Aniru...|R1LW6NWSVTVZ2H,R3...|Works on linux fo...|I use this to con...|https://m.media-a...|https://www.amazo...|\n",
       "|B082LZGK39|Ambrane Unbreakab...|Computers&Accesso...|            ₹199|        ₹299|                33%|   5.0|      43,994| Universal Compati...|AECPFYFQVRUWC3KGN...|ArdKn,Nirbhay kum...|RGIQEG07R9HS2,R1S...|A Good Braided Ca...|I ordered this ca...|https://m.media-a...|https://www.amazo...|\n",
       "|B08CF3D7QR|Portronics Konnec...|Computers&Accesso...|            ₹154|        ₹339|                55%|   5.3|      13,391| [CHARGE & SYNC FU...|AGYLPKPZHVYKKZHOT...|Tanya,Anu,Akshay,...|R11MQS7WD9C3I0,R2...|Good for fast cha...|The cable is effi...|https://m.media-a...|https://www.amazo...|\n",
       "|B0789LZTCJ|boAt Rugged v3 Ex...|Computers&Accesso...|            ₹299|        ₹799|                63%|   5.2|      94,363| The boAt rugged c...|AEWAZDZZJLQUYVOVG...|Omkar dhale,JD,HE...|R3EEUZKKK9J36I,R3...|Good product,Good...|Good product,long...|https://m.media-a...|https://www.amazo...|\n",
       "|B07KSMBL2H|AmazonBasics Flex...|Electronics|HomeT...|            ₹219|        ₹700|                69%|   5.4|    4,26,973| Flexible, lightwe...|AEYJ5I6JZZPOJB6MG...|Rishav Gossain,Sh...|R1FKOKZ3HHKJBZ,R2...|It's quite good a...|I am using it for...|https://m.media-a...|https://www.amazo...|\n",
       "|B085DTN6R2|Portronics Konnec...|Computers&Accesso...|            ₹350|        ₹899|                61%|   5.2|       2,262| [20W PD FAST CHAR...|AGUAYQHARAKR2VZTR...|Priya,Mansi,Plaba...|R1QETDIPRCX4S0,RA...|Works,Nice Produc...|Definitely isn’t ...|https://m.media-a...|https://www.amazo...|\n",
       "|B09KLVMZ3B|Portronics Konnec...|Computers&Accesso...|            ₹159|        ₹399|                60%|   5.1|       4,768| [CHARGE & SYNC FU...|AF2XXVO7JUBUVAOBT...|Deepaak Singh,siv...|R20XIOU25HEX80,R2...|Great but,Worked ...|Loosing charging ...|https://m.media-a...|https://www.amazo...|\n",
       "|B083342NKJ|MI Braided USB Ty...|Computers&Accesso...|            ₹349|        ₹399|                13%|   5.4|      18,757| 1M Long Cable. Us...|AGSGSRTEZBQY64WO2...|Birendra ku Dash,...|R2JPQNKCOE10UK,RQ...|Good product,usin...|I like it 👍👍,Be...|https://m.media-a...|https://www.amazo...|\n",
       "|B0B6F7LX4C|MI 80 cm (32 inch...|Electronics|HomeT...|         ₹13,999|     ₹24,999|                44%|   5.2|      32,840| Note : The brands...|AHEVOQADJSSRX7DS3...|Manoj maddheshiya...|R13UTIA6KOF6QV,R2...|It is the best tv...|Pros- xiomi 5a is...|https://m.media-a...|https://www.amazo...|\n",
       "|B082LSVT4B|Ambrane Unbreakab...|Computers&Accesso...|            ₹249|        ₹399|                38%|   5.0|      43,994| Compatible with a...|AECPFYFQVRUWC3KGN...|ArdKn,Nirbhay kum...|RGIQEG07R9HS2,R1S...|A Good Braided Ca...|I ordered this ca...|https://m.media-a...|https://www.amazo...|\n",
       "|B08WRBG3XW|boAt Type C A325 ...|Computers&Accesso...|            ₹199|        ₹499|                60%|   5.1|      13,045| Type C A 325 Cabl...|AFB5KJR4Q5FICAHBO...|Rohan Narkar,JAGW...|R2BP8Y5OJXKJLF,R2...|Good for charging...|Check for offera ...|https://m.media-a...|https://www.amazo...|\n",
       "|B08DPLCM6T|LG 80 cm (32 inch...|Electronics|HomeT...|         ₹13,490|     ₹21,990|                39%|   5.3|      11,976| Resolution: HD Re...|AHBNKB74LGTYUOKPA...|NIRMAL.N,Manoj ku...|R2PNR69G0BQG2F,R3...|Sound quality,Ver...|LG was always Goo...|https://m.media-a...|https://www.amazo...|\n",
       "+----------+--------------------+--------------------+----------------+------------+-------------------+------+------------+---------------------+--------------------+--------------------+--------------------+--------------------+--------------------+--------------------+--------------------+\n",
       "only showing top 20 rows"
      ]
     },
     "execution_count": 323,
     "metadata": {},
     "output_type": "execute_result"
    }
   ],
   "source": [
    "#this function is used for create a new column,or  to modify an existing column by applying a transformation to it. \n",
    "df.withColumn(\"literal\",lit(100)) # creating new column\n",
    "df.withColumn(\"rating\",col('rating')+1) # modifying rating column by applying transformation, here we are adding 1 to all values."
   ]
  },
  {
   "cell_type": "code",
   "execution_count": 320,
   "id": "efb44d51",
   "metadata": {},
   "outputs": [],
   "source": [
    "#this function is used for change the existing column name .\n",
    "df1=df.withColumnRenamed('category','CATEGORY')"
   ]
  },
  {
   "cell_type": "code",
   "execution_count": 321,
   "id": "3fc37fa1",
   "metadata": {},
   "outputs": [
    {
     "data": {
      "text/html": [
       "<table border='1'>\n",
       "<tr><th>product_id</th><th>product_name</th><th>CATEGORY</th><th>discounted_price</th><th>actual_price</th><th>discount_percentage</th><th>rating</th><th>rating_count</th><th>about_product</th><th>user_id</th><th>user_name</th><th>review_id</th><th>review_title</th><th>review_content</th><th>img_link</th><th>product_link</th></tr>\n",
       "<tr><td>B07JW9H4J1</td><td>Wayona Nylon Brai...</td><td>Computers&amp;Accesso...</td><td>₹399</td><td>₹1,099</td><td>64%</td><td>4.2</td><td>24,269</td><td>High Compatibilit...</td><td>AG3D6O4STAQKAY2UV...</td><td>Manav,Adarsh gupt...</td><td>R3HXWT0LRP0NMF,R2...</td><td>Satisfied,Chargin...</td><td>Looks durable Cha...</td><td>https://m.media-a...</td><td>https://www.amazo...</td></tr>\n",
       "<tr><td>B098NS6PVG</td><td>Ambrane Unbreakab...</td><td>Computers&amp;Accesso...</td><td>₹199</td><td>₹349</td><td>43%</td><td>4.0</td><td>43,994</td><td>Compatible with a...</td><td>AECPFYFQVRUWC3KGN...</td><td>ArdKn,Nirbhay kum...</td><td>RGIQEG07R9HS2,R1S...</td><td>A Good Braided Ca...</td><td>I ordered this ca...</td><td>https://m.media-a...</td><td>https://www.amazo...</td></tr>\n",
       "<tr><td>B096MSW6CT</td><td>Sounce Fast Phone...</td><td>Computers&amp;Accesso...</td><td>₹199</td><td>₹1,899</td><td>90%</td><td>3.9</td><td>7,928</td><td>【 Fast Charger&amp; D...</td><td>AGU3BBQ2V2DDAMOAK...</td><td>Kunal,Himanshu,vi...</td><td>R3J3EQQ9TZI5ZJ,R3...</td><td>Good speed for ea...</td><td>Not quite durable...</td><td>https://m.media-a...</td><td>https://www.amazo...</td></tr>\n",
       "<tr><td>B08HDJ86NZ</td><td>boAt Deuce USB 30...</td><td>Computers&amp;Accesso...</td><td>₹329</td><td>₹699</td><td>53%</td><td>4.2</td><td>94,363</td><td>The boAt Deuce US...</td><td>AEWAZDZZJLQUYVOVG...</td><td>Omkar dhale,JD,HE...</td><td>R3EEUZKKK9J36I,R3...</td><td>Good product,Good...</td><td>Good product,long...</td><td>https://m.media-a...</td><td>https://www.amazo...</td></tr>\n",
       "<tr><td>B08CF3B7N1</td><td>Portronics Konnec...</td><td>Computers&amp;Accesso...</td><td>₹154</td><td>₹399</td><td>61%</td><td>4.2</td><td>16,905</td><td>[CHARGE &amp; SYNC FU...</td><td>AE3Q6KSUK5P75D5HF...</td><td>rahuls6099,Swasat...</td><td>R1BP4L2HH9TFUP,R1...</td><td>As good as origin...</td><td>Bought this inste...</td><td>https://m.media-a...</td><td>https://www.amazo...</td></tr>\n",
       "<tr><td>B08Y1TFSP6</td><td>pTron Solero TB30...</td><td>Computers&amp;Accesso...</td><td>₹149</td><td>₹1,000</td><td>85%</td><td>3.9</td><td>24,871</td><td>Fast Charging &amp; D...</td><td>AEQ2YMXSZWEOHK2EH...</td><td>Jayesh,Rajesh k.,...</td><td>R7S8ANNSDPR40,R3C...</td><td>It&#x27;s pretty good,...</td><td>It&#x27;s a good produ...</td><td>https://m.media-a...</td><td>https://www.amazo...</td></tr>\n",
       "<tr><td>B08WRWPM22</td><td>boAt Micro USB 55...</td><td>Computers&amp;Accesso...</td><td>₹176.63</td><td>₹499</td><td>65%</td><td>4.1</td><td>15,188</td><td>It Ensures High S...</td><td>AG7C6DAADCTRQJG2B...</td><td>Vivek kumar,Amazo...</td><td>R8E73K2KWJRDS,RSD...</td><td>Long durable.,goo...</td><td>Build quality is ...</td><td>https://m.media-a...</td><td>https://www.amazo...</td></tr>\n",
       "<tr><td>B08DDRGWTJ</td><td>MI Usb Type-C Cab...</td><td>Computers&amp;Accesso...</td><td>₹229</td><td>₹299</td><td>23%</td><td>4.3</td><td>30,411</td><td>1m long Type-C US...</td><td>AHW6E5LQ2BDYOIVLA...</td><td>Pavan A H,Jayesh ...</td><td>R2X090D1YHACKR,R3...</td><td>Worth for money -...</td><td>Worth for money -...</td><td>https://m.media-a...</td><td>https://www.amazo...</td></tr>\n",
       "<tr><td>B008IFXQFU</td><td>TP-Link USB WiFi ...</td><td>Computers&amp;Accesso...</td><td>₹499</td><td>₹999</td><td>50%</td><td>4.2</td><td>1,79,691</td><td>USB WiFi Adapter ...</td><td>AGV3IEFANZCKECFGU...</td><td>Azhar JuMan,Aniru...</td><td>R1LW6NWSVTVZ2H,R3...</td><td>Works on linux fo...</td><td>I use this to con...</td><td>https://m.media-a...</td><td>https://www.amazo...</td></tr>\n",
       "<tr><td>B082LZGK39</td><td>Ambrane Unbreakab...</td><td>Computers&amp;Accesso...</td><td>₹199</td><td>₹299</td><td>33%</td><td>4.0</td><td>43,994</td><td>Universal Compati...</td><td>AECPFYFQVRUWC3KGN...</td><td>ArdKn,Nirbhay kum...</td><td>RGIQEG07R9HS2,R1S...</td><td>A Good Braided Ca...</td><td>I ordered this ca...</td><td>https://m.media-a...</td><td>https://www.amazo...</td></tr>\n",
       "<tr><td>B08CF3D7QR</td><td>Portronics Konnec...</td><td>Computers&amp;Accesso...</td><td>₹154</td><td>₹339</td><td>55%</td><td>4.3</td><td>13,391</td><td>[CHARGE &amp; SYNC FU...</td><td>AGYLPKPZHVYKKZHOT...</td><td>Tanya,Anu,Akshay,...</td><td>R11MQS7WD9C3I0,R2...</td><td>Good for fast cha...</td><td>The cable is effi...</td><td>https://m.media-a...</td><td>https://www.amazo...</td></tr>\n",
       "<tr><td>B0789LZTCJ</td><td>boAt Rugged v3 Ex...</td><td>Computers&amp;Accesso...</td><td>₹299</td><td>₹799</td><td>63%</td><td>4.2</td><td>94,363</td><td>The boAt rugged c...</td><td>AEWAZDZZJLQUYVOVG...</td><td>Omkar dhale,JD,HE...</td><td>R3EEUZKKK9J36I,R3...</td><td>Good product,Good...</td><td>Good product,long...</td><td>https://m.media-a...</td><td>https://www.amazo...</td></tr>\n",
       "<tr><td>B07KSMBL2H</td><td>AmazonBasics Flex...</td><td>Electronics|HomeT...</td><td>₹219</td><td>₹700</td><td>69%</td><td>4.4</td><td>4,26,973</td><td>Flexible, lightwe...</td><td>AEYJ5I6JZZPOJB6MG...</td><td>Rishav Gossain,Sh...</td><td>R1FKOKZ3HHKJBZ,R2...</td><td>It&#x27;s quite good a...</td><td>I am using it for...</td><td>https://m.media-a...</td><td>https://www.amazo...</td></tr>\n",
       "<tr><td>B085DTN6R2</td><td>Portronics Konnec...</td><td>Computers&amp;Accesso...</td><td>₹350</td><td>₹899</td><td>61%</td><td>4.2</td><td>2,262</td><td>[20W PD FAST CHAR...</td><td>AGUAYQHARAKR2VZTR...</td><td>Priya,Mansi,Plaba...</td><td>R1QETDIPRCX4S0,RA...</td><td>Works,Nice Produc...</td><td>Definitely isn’t ...</td><td>https://m.media-a...</td><td>https://www.amazo...</td></tr>\n",
       "<tr><td>B09KLVMZ3B</td><td>Portronics Konnec...</td><td>Computers&amp;Accesso...</td><td>₹159</td><td>₹399</td><td>60%</td><td>4.1</td><td>4,768</td><td>[CHARGE &amp; SYNC FU...</td><td>AF2XXVO7JUBUVAOBT...</td><td>Deepaak Singh,siv...</td><td>R20XIOU25HEX80,R2...</td><td>Great but,Worked ...</td><td>Loosing charging ...</td><td>https://m.media-a...</td><td>https://www.amazo...</td></tr>\n",
       "<tr><td>B083342NKJ</td><td>MI Braided USB Ty...</td><td>Computers&amp;Accesso...</td><td>₹349</td><td>₹399</td><td>13%</td><td>4.4</td><td>18,757</td><td>1M Long Cable. Us...</td><td>AGSGSRTEZBQY64WO2...</td><td>Birendra ku Dash,...</td><td>R2JPQNKCOE10UK,RQ...</td><td>Good product,usin...</td><td>I like it 👍👍,Be...</td><td>https://m.media-a...</td><td>https://www.amazo...</td></tr>\n",
       "<tr><td>B0B6F7LX4C</td><td>MI 80 cm (32 inch...</td><td>Electronics|HomeT...</td><td>₹13,999</td><td>₹24,999</td><td>44%</td><td>4.2</td><td>32,840</td><td>Note : The brands...</td><td>AHEVOQADJSSRX7DS3...</td><td>Manoj maddheshiya...</td><td>R13UTIA6KOF6QV,R2...</td><td>It is the best tv...</td><td>Pros- xiomi 5a is...</td><td>https://m.media-a...</td><td>https://www.amazo...</td></tr>\n",
       "<tr><td>B082LSVT4B</td><td>Ambrane Unbreakab...</td><td>Computers&amp;Accesso...</td><td>₹249</td><td>₹399</td><td>38%</td><td>4.0</td><td>43,994</td><td>Compatible with a...</td><td>AECPFYFQVRUWC3KGN...</td><td>ArdKn,Nirbhay kum...</td><td>RGIQEG07R9HS2,R1S...</td><td>A Good Braided Ca...</td><td>I ordered this ca...</td><td>https://m.media-a...</td><td>https://www.amazo...</td></tr>\n",
       "<tr><td>B08WRBG3XW</td><td>boAt Type C A325 ...</td><td>Computers&amp;Accesso...</td><td>₹199</td><td>₹499</td><td>60%</td><td>4.1</td><td>13,045</td><td>Type C A 325 Cabl...</td><td>AFB5KJR4Q5FICAHBO...</td><td>Rohan Narkar,JAGW...</td><td>R2BP8Y5OJXKJLF,R2...</td><td>Good for charging...</td><td>Check for offera ...</td><td>https://m.media-a...</td><td>https://www.amazo...</td></tr>\n",
       "<tr><td>B08DPLCM6T</td><td>LG 80 cm (32 inch...</td><td>Electronics|HomeT...</td><td>₹13,490</td><td>₹21,990</td><td>39%</td><td>4.3</td><td>11,976</td><td>Resolution: HD Re...</td><td>AHBNKB74LGTYUOKPA...</td><td>NIRMAL.N,Manoj ku...</td><td>R2PNR69G0BQG2F,R3...</td><td>Sound quality,Ver...</td><td>LG was always Goo...</td><td>https://m.media-a...</td><td>https://www.amazo...</td></tr>\n",
       "</table>\n",
       "only showing top 20 rows\n"
      ],
      "text/plain": [
       "+----------+--------------------+--------------------+----------------+------------+-------------------+------+------------+---------------------+--------------------+--------------------+--------------------+--------------------+--------------------+--------------------+--------------------+\n",
       "|product_id|        product_name|            CATEGORY|discounted_price|actual_price|discount_percentage|rating|rating_count|        about_product|             user_id|           user_name|           review_id|        review_title|      review_content|            img_link|        product_link|\n",
       "+----------+--------------------+--------------------+----------------+------------+-------------------+------+------------+---------------------+--------------------+--------------------+--------------------+--------------------+--------------------+--------------------+--------------------+\n",
       "|B07JW9H4J1|Wayona Nylon Brai...|Computers&Accesso...|            ₹399|      ₹1,099|                64%|   4.2|      24,269| High Compatibilit...|AG3D6O4STAQKAY2UV...|Manav,Adarsh gupt...|R3HXWT0LRP0NMF,R2...|Satisfied,Chargin...|Looks durable Cha...|https://m.media-a...|https://www.amazo...|\n",
       "|B098NS6PVG|Ambrane Unbreakab...|Computers&Accesso...|            ₹199|        ₹349|                43%|   4.0|      43,994| Compatible with a...|AECPFYFQVRUWC3KGN...|ArdKn,Nirbhay kum...|RGIQEG07R9HS2,R1S...|A Good Braided Ca...|I ordered this ca...|https://m.media-a...|https://www.amazo...|\n",
       "|B096MSW6CT|Sounce Fast Phone...|Computers&Accesso...|            ₹199|      ₹1,899|                90%|   3.9|       7,928|【 Fast Charger& D...|AGU3BBQ2V2DDAMOAK...|Kunal,Himanshu,vi...|R3J3EQQ9TZI5ZJ,R3...|Good speed for ea...|Not quite durable...|https://m.media-a...|https://www.amazo...|\n",
       "|B08HDJ86NZ|boAt Deuce USB 30...|Computers&Accesso...|            ₹329|        ₹699|                53%|   4.2|      94,363| The boAt Deuce US...|AEWAZDZZJLQUYVOVG...|Omkar dhale,JD,HE...|R3EEUZKKK9J36I,R3...|Good product,Good...|Good product,long...|https://m.media-a...|https://www.amazo...|\n",
       "|B08CF3B7N1|Portronics Konnec...|Computers&Accesso...|            ₹154|        ₹399|                61%|   4.2|      16,905| [CHARGE & SYNC FU...|AE3Q6KSUK5P75D5HF...|rahuls6099,Swasat...|R1BP4L2HH9TFUP,R1...|As good as origin...|Bought this inste...|https://m.media-a...|https://www.amazo...|\n",
       "|B08Y1TFSP6|pTron Solero TB30...|Computers&Accesso...|            ₹149|      ₹1,000|                85%|   3.9|      24,871| Fast Charging & D...|AEQ2YMXSZWEOHK2EH...|Jayesh,Rajesh k.,...|R7S8ANNSDPR40,R3C...|It's pretty good,...|It's a good produ...|https://m.media-a...|https://www.amazo...|\n",
       "|B08WRWPM22|boAt Micro USB 55...|Computers&Accesso...|         ₹176.63|        ₹499|                65%|   4.1|      15,188| It Ensures High S...|AG7C6DAADCTRQJG2B...|Vivek kumar,Amazo...|R8E73K2KWJRDS,RSD...|Long durable.,goo...|Build quality is ...|https://m.media-a...|https://www.amazo...|\n",
       "|B08DDRGWTJ|MI Usb Type-C Cab...|Computers&Accesso...|            ₹229|        ₹299|                23%|   4.3|      30,411| 1m long Type-C US...|AHW6E5LQ2BDYOIVLA...|Pavan A H,Jayesh ...|R2X090D1YHACKR,R3...|Worth for money -...|Worth for money -...|https://m.media-a...|https://www.amazo...|\n",
       "|B008IFXQFU|TP-Link USB WiFi ...|Computers&Accesso...|            ₹499|        ₹999|                50%|   4.2|    1,79,691| USB WiFi Adapter ...|AGV3IEFANZCKECFGU...|Azhar JuMan,Aniru...|R1LW6NWSVTVZ2H,R3...|Works on linux fo...|I use this to con...|https://m.media-a...|https://www.amazo...|\n",
       "|B082LZGK39|Ambrane Unbreakab...|Computers&Accesso...|            ₹199|        ₹299|                33%|   4.0|      43,994| Universal Compati...|AECPFYFQVRUWC3KGN...|ArdKn,Nirbhay kum...|RGIQEG07R9HS2,R1S...|A Good Braided Ca...|I ordered this ca...|https://m.media-a...|https://www.amazo...|\n",
       "|B08CF3D7QR|Portronics Konnec...|Computers&Accesso...|            ₹154|        ₹339|                55%|   4.3|      13,391| [CHARGE & SYNC FU...|AGYLPKPZHVYKKZHOT...|Tanya,Anu,Akshay,...|R11MQS7WD9C3I0,R2...|Good for fast cha...|The cable is effi...|https://m.media-a...|https://www.amazo...|\n",
       "|B0789LZTCJ|boAt Rugged v3 Ex...|Computers&Accesso...|            ₹299|        ₹799|                63%|   4.2|      94,363| The boAt rugged c...|AEWAZDZZJLQUYVOVG...|Omkar dhale,JD,HE...|R3EEUZKKK9J36I,R3...|Good product,Good...|Good product,long...|https://m.media-a...|https://www.amazo...|\n",
       "|B07KSMBL2H|AmazonBasics Flex...|Electronics|HomeT...|            ₹219|        ₹700|                69%|   4.4|    4,26,973| Flexible, lightwe...|AEYJ5I6JZZPOJB6MG...|Rishav Gossain,Sh...|R1FKOKZ3HHKJBZ,R2...|It's quite good a...|I am using it for...|https://m.media-a...|https://www.amazo...|\n",
       "|B085DTN6R2|Portronics Konnec...|Computers&Accesso...|            ₹350|        ₹899|                61%|   4.2|       2,262| [20W PD FAST CHAR...|AGUAYQHARAKR2VZTR...|Priya,Mansi,Plaba...|R1QETDIPRCX4S0,RA...|Works,Nice Produc...|Definitely isn’t ...|https://m.media-a...|https://www.amazo...|\n",
       "|B09KLVMZ3B|Portronics Konnec...|Computers&Accesso...|            ₹159|        ₹399|                60%|   4.1|       4,768| [CHARGE & SYNC FU...|AF2XXVO7JUBUVAOBT...|Deepaak Singh,siv...|R20XIOU25HEX80,R2...|Great but,Worked ...|Loosing charging ...|https://m.media-a...|https://www.amazo...|\n",
       "|B083342NKJ|MI Braided USB Ty...|Computers&Accesso...|            ₹349|        ₹399|                13%|   4.4|      18,757| 1M Long Cable. Us...|AGSGSRTEZBQY64WO2...|Birendra ku Dash,...|R2JPQNKCOE10UK,RQ...|Good product,usin...|I like it 👍👍,Be...|https://m.media-a...|https://www.amazo...|\n",
       "|B0B6F7LX4C|MI 80 cm (32 inch...|Electronics|HomeT...|         ₹13,999|     ₹24,999|                44%|   4.2|      32,840| Note : The brands...|AHEVOQADJSSRX7DS3...|Manoj maddheshiya...|R13UTIA6KOF6QV,R2...|It is the best tv...|Pros- xiomi 5a is...|https://m.media-a...|https://www.amazo...|\n",
       "|B082LSVT4B|Ambrane Unbreakab...|Computers&Accesso...|            ₹249|        ₹399|                38%|   4.0|      43,994| Compatible with a...|AECPFYFQVRUWC3KGN...|ArdKn,Nirbhay kum...|RGIQEG07R9HS2,R1S...|A Good Braided Ca...|I ordered this ca...|https://m.media-a...|https://www.amazo...|\n",
       "|B08WRBG3XW|boAt Type C A325 ...|Computers&Accesso...|            ₹199|        ₹499|                60%|   4.1|      13,045| Type C A 325 Cabl...|AFB5KJR4Q5FICAHBO...|Rohan Narkar,JAGW...|R2BP8Y5OJXKJLF,R2...|Good for charging...|Check for offera ...|https://m.media-a...|https://www.amazo...|\n",
       "|B08DPLCM6T|LG 80 cm (32 inch...|Electronics|HomeT...|         ₹13,490|     ₹21,990|                39%|   4.3|      11,976| Resolution: HD Re...|AHBNKB74LGTYUOKPA...|NIRMAL.N,Manoj ku...|R2PNR69G0BQG2F,R3...|Sound quality,Ver...|LG was always Goo...|https://m.media-a...|https://www.amazo...|\n",
       "+----------+--------------------+--------------------+----------------+------------+-------------------+------+------------+---------------------+--------------------+--------------------+--------------------+--------------------+--------------------+--------------------+--------------------+\n",
       "only showing top 20 rows"
      ]
     },
     "execution_count": 321,
     "metadata": {},
     "output_type": "execute_result"
    }
   ],
   "source": [
    "df1"
   ]
  },
  {
   "cell_type": "code",
   "execution_count": 324,
   "id": "4caef3e1",
   "metadata": {},
   "outputs": [],
   "source": [
    "spark.stop()"
   ]
  },
  {
   "cell_type": "code",
   "execution_count": 329,
   "id": "1f53d9ed",
   "metadata": {},
   "outputs": [],
   "source": [
    "sc.stop()"
   ]
  }
 ],
 "metadata": {
  "kernelspec": {
   "display_name": "Python 3 (ipykernel)",
   "language": "python",
   "name": "python3"
  },
  "language_info": {
   "codemirror_mode": {
    "name": "ipython",
    "version": 3
   },
   "file_extension": ".py",
   "mimetype": "text/x-python",
   "name": "python",
   "nbconvert_exporter": "python",
   "pygments_lexer": "ipython3",
   "version": "3.11.5"
  }
 },
 "nbformat": 4,
 "nbformat_minor": 5
}
