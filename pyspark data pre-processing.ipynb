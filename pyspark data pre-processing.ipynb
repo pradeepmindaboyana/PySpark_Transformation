{
 "cells": [
  {
   "cell_type": "code",
   "execution_count": 24,
   "id": "ff9ba97e",
   "metadata": {},
   "outputs": [],
   "source": [
    "import findspark"
   ]
  },
  {
   "cell_type": "code",
   "execution_count": 25,
   "id": "02f9a0fc",
   "metadata": {},
   "outputs": [],
   "source": [
    "findspark.init()"
   ]
  },
  {
   "cell_type": "code",
   "execution_count": 26,
   "id": "bc42ec00",
   "metadata": {},
   "outputs": [],
   "source": [
    "from pyspark.sql import SparkSession\n",
    "from pyspark.sql.functions import *\n",
    "from pyspark.sql.types import *\n",
    "import pandas as pd"
   ]
  },
  {
   "cell_type": "code",
   "execution_count": 27,
   "id": "076d9f99",
   "metadata": {},
   "outputs": [
    {
     "data": {
      "text/plain": [
       "pyspark.sql.session.SparkSession"
      ]
     },
     "execution_count": 27,
     "metadata": {},
     "output_type": "execute_result"
    }
   ],
   "source": [
    "spark = SparkSession.builder.getOrCreate()\n",
    "#Enable eager evaluation\n",
    "# Normally, you'd have to call df.show() to display the DataFrame.\n",
    "# With eagerEval enabled, Spark will display the result automatically.\n",
    "\n",
    "spark.conf.set('spark.sql.repl.eagerEval.enabled', True)\n",
    "type(spark)"
   ]
  },
  {
   "cell_type": "code",
   "execution_count": 28,
   "id": "95caf6a6",
   "metadata": {},
   "outputs": [
    {
     "name": "stdout",
     "output_type": "stream",
     "text": [
      "root\n",
      " |-- id: string (nullable = true)\n",
      " |-- name: string (nullable = true)\n",
      " |-- artist_popularity: string (nullable = true)\n",
      " |-- followers: string (nullable = true)\n",
      " |-- genre: string (nullable = true)\n",
      "\n",
      "+--------------------+--------------------+-----------------+---------+--------------------+\n",
      "|                  id|                name|artist_popularity|followers|               genre|\n",
      "+--------------------+--------------------+-----------------+---------+--------------------+\n",
      "|6GkSLJj5CGLIckLIb...|   Late Night Fights|                0|      184|    minneapolis punk|\n",
      "|1N0VwQy5PRJymrRvl...|    Sub Par All Star|                0|      491|       antiviral pop|\n",
      "|4Ch4BIKKwMJsiu1oV...|Nirvana Meditatio...|                0|       56|                  8d|\n",
      "|5h2iINTOvhghVcpIz...|   Red Hot Rebellion|                0|      394|         action rock|\n",
      "|7dE2MLL2SaI6MujpU...|Nirvana Tribute Band|                0|      230|             tribute|\n",
      "|2cdjmWomWpKyQ0Hqg...|              Wyli P|                0|     7479|     memphis hip hop|\n",
      "|5g1ztx52qgchXwiRZ...|                Caul|                1|      688|        dark ambient|\n",
      "|3NjmnKYEuN92YZiWV...|Chicago Blues All...|                1|      730|       chicago blues|\n",
      "|3hqLYpiTCdvz5lG3Y...|Lew Lewis & The T...|                1|      500|      neo-rockabilly|\n",
      "|06hu6DFeD2bfdBAts...|    Lower Life Forms|                1|      169|deep east coast h...|\n",
      "|1DyHyc6v28ZCrA7Ql...|Whoopee John Wilf...|                1|      211|               polka|\n",
      "|3DnNVpLZI0vFQCYIi...|        Dieter Kropp|                2|      170|        german blues|\n",
      "|6XblJ5Nas2VsL9s5H...|Chilli Willi & Th...|                2|     1605|            pub rock|\n",
      "|4BTddjd5LzqjQ5WAV...|             Abronia|                2|     1123|      cascadia psych|\n",
      "|1o9N4cb5eZ5x2HLOO...|      Trio Fibonacci|                3|      195|classical piano trio|\n",
      "|112gcdWQhFcd3clCq...|Thomas Erak and T...|                3|     1429|            swancore|\n",
      "|2ay2iSqgCqEQHzRlf...|       Little Rachel|                3|      443|      neo-rockabilly|\n",
      "|62XaAZIhLNRc3x1KB...|         Bad Actress|                3|      761|               nwocr|\n",
      "|2DEKbExrCn2gANebr...|     Jacob Anderskov|                4|      402|         danish jazz|\n",
      "|68D0NSkqx99hNYB26...|              M1CK3Y|                4|      142|       future bounce|\n",
      "+--------------------+--------------------+-----------------+---------+--------------------+\n",
      "only showing top 20 rows\n",
      "\n"
     ]
    }
   ],
   "source": [
    "df=spark.read.csv('artists.csv',header=True)\n",
    "df.printSchema()\n",
    "df.dtypes\n",
    "df.count()\n",
    "\n",
    "#converting pyspark dataframe to pandas dataframe \n",
    "df = df.toPandas()\n",
    "df=spark.createDataFrame(df)\n",
    "df.show()"
   ]
  },
  {
   "cell_type": "code",
   "execution_count": 29,
   "id": "5a7d6c4e",
   "metadata": {},
   "outputs": [
    {
     "data": {
      "text/html": [
       "<table border='1'>\n",
       "<tr><th>id</th></tr>\n",
       "<tr><td>6GkSLJj5CGLIckLIb...</td></tr>\n",
       "<tr><td>4Ch4BIKKwMJsiu1oV...</td></tr>\n",
       "<tr><td>06hu6DFeD2bfdBAts...</td></tr>\n",
       "<tr><td>3DnNVpLZI0vFQCYIi...</td></tr>\n",
       "<tr><td>1o9N4cb5eZ5x2HLOO...</td></tr>\n",
       "<tr><td>68D0NSkqx99hNYB26...</td></tr>\n",
       "<tr><td>6pE6WjaGLjkatxCY7...</td></tr>\n",
       "<tr><td>2SyevwE69Tq3LYIes...</td></tr>\n",
       "<tr><td>34u51KUR8vtXeHTAy...</td></tr>\n",
       "<tr><td>6n0xdBqSuPm9UcdOA...</td></tr>\n",
       "<tr><td>2gbULTKiTcbVhrVXK...</td></tr>\n",
       "<tr><td>5qJPwmFhAXtQZfxmv...</td></tr>\n",
       "<tr><td>74JcB9y2kqee7Fm3r...</td></tr>\n",
       "<tr><td>6jLfCVXiXP2SoEA8B...</td></tr>\n",
       "<tr><td>4Kjwxl3m2JRco3Yxw...</td></tr>\n",
       "<tr><td>7412Kir1SymU5OedX...</td></tr>\n",
       "<tr><td>7xQwfDzFotdQPZTac...</td></tr>\n",
       "<tr><td>0sL9JTn8lxiT8jNNX...</td></tr>\n",
       "<tr><td>2gWpeNFmkcbVvD8Bt...</td></tr>\n",
       "<tr><td>1TSBwVKzBDiz63tiJ...</td></tr>\n",
       "</table>\n",
       "only showing top 20 rows\n"
      ],
      "text/plain": [
       "+--------------------+\n",
       "|                  id|\n",
       "+--------------------+\n",
       "|6GkSLJj5CGLIckLIb...|\n",
       "|4Ch4BIKKwMJsiu1oV...|\n",
       "|06hu6DFeD2bfdBAts...|\n",
       "|3DnNVpLZI0vFQCYIi...|\n",
       "|1o9N4cb5eZ5x2HLOO...|\n",
       "|68D0NSkqx99hNYB26...|\n",
       "|6pE6WjaGLjkatxCY7...|\n",
       "|2SyevwE69Tq3LYIes...|\n",
       "|34u51KUR8vtXeHTAy...|\n",
       "|6n0xdBqSuPm9UcdOA...|\n",
       "|2gbULTKiTcbVhrVXK...|\n",
       "|5qJPwmFhAXtQZfxmv...|\n",
       "|74JcB9y2kqee7Fm3r...|\n",
       "|6jLfCVXiXP2SoEA8B...|\n",
       "|4Kjwxl3m2JRco3Yxw...|\n",
       "|7412Kir1SymU5OedX...|\n",
       "|7xQwfDzFotdQPZTac...|\n",
       "|0sL9JTn8lxiT8jNNX...|\n",
       "|2gWpeNFmkcbVvD8Bt...|\n",
       "|1TSBwVKzBDiz63tiJ...|\n",
       "+--------------------+\n",
       "only showing top 20 rows"
      ]
     },
     "execution_count": 29,
     "metadata": {},
     "output_type": "execute_result"
    }
   ],
   "source": [
    "# here filter acts as a where clause which is in SQL \n",
    "df.select(\"id\")\n",
    "df.select(\"id\").filter(\"followers <200\")\n",
    "\n"
   ]
  },
  {
   "cell_type": "code",
   "execution_count": 30,
   "id": "7da29eaa",
   "metadata": {
    "scrolled": true
   },
   "outputs": [
    {
     "data": {
      "text/html": [
       "<table border='1'>\n",
       "<tr><th>id</th><th>name</th><th>artist_popularity</th><th>followers</th><th>genre</th></tr>\n",
       "<tr><td>6FzRSeefoHkEu10zy...</td><td>2kuttfrmda4</td><td>0</td><td>0</td><td>null</td></tr>\n",
       "<tr><td>0KMWXoBLZ1zpXqIee...</td><td>India Loreto</td><td>15</td><td>0</td><td>null</td></tr>\n",
       "<tr><td>2O5hweLKIlxmKi7uq...</td><td>Brandi Doonan</td><td>24</td><td>0</td><td>null</td></tr>\n",
       "<tr><td>3LPF6Jl3IOJk6z5y1...</td><td>Dj Conuco</td><td>18</td><td>0</td><td>null</td></tr>\n",
       "<tr><td>0wh4mHyVDQjqMFNXJ...</td><td>DON DADA KE</td><td>0</td><td>0</td><td>null</td></tr>\n",
       "<tr><td>0aRDu4MCHCgwLQtnG...</td><td>Frank Tye</td><td>16</td><td>0</td><td>null</td></tr>\n",
       "<tr><td>0gD8udvIhqbta8jfO...</td><td>Breezy</td><td>26</td><td>0</td><td>null</td></tr>\n",
       "<tr><td>15jSp9iFAUv3yh3So...</td><td>Miguel ztr</td><td>16</td><td>0</td><td>null</td></tr>\n",
       "<tr><td>0bP0kTSAd6KMRiEk5...</td><td>Jorgie Francis</td><td>1</td><td>0</td><td>null</td></tr>\n",
       "<tr><td>2FyI02wZq4ueemjbT...</td><td>Mega Tron-XS</td><td>17</td><td>0</td><td>null</td></tr>\n",
       "<tr><td>1qahbNsUjNkCV9EWB...</td><td>Maxwell Brekke</td><td>26</td><td>0</td><td>null</td></tr>\n",
       "<tr><td>6MX7h9SEky2OhTR5Y...</td><td>Jeremy Clapham</td><td>18</td><td>0</td><td>null</td></tr>\n",
       "<tr><td>5Umcm5DQYvDFWgkXU...</td><td>D.A. Smith</td><td>0</td><td>0</td><td>null</td></tr>\n",
       "<tr><td>65EZOrbcJPK71KIbI...</td><td>Simeon Crooks</td><td>18</td><td>0</td><td>null</td></tr>\n",
       "<tr><td>6ywuMqLyFg3wIKQKs...</td><td>Soley Soul</td><td>33</td><td>0</td><td>null</td></tr>\n",
       "<tr><td>5lvDOvMnd9IFtIUA7...</td><td>Miranda Lind</td><td>18</td><td>0</td><td>null</td></tr>\n",
       "<tr><td>0sLBLFa1KwwlNc345...</td><td>TakeGold</td><td>0</td><td>0</td><td>null</td></tr>\n",
       "<tr><td>07qHZICSuQUxzT0R3...</td><td>Helen Maxwell</td><td>18</td><td>0</td><td>null</td></tr>\n",
       "<tr><td>5m46u42gQkF6XpMO1...</td><td>Dolly Lucas</td><td>35</td><td>0</td><td>null</td></tr>\n",
       "<tr><td>3ltb8pzcsT299lAeE...</td><td>Sam Conrad</td><td>21</td><td>0</td><td>null</td></tr>\n",
       "</table>\n",
       "only showing top 20 rows\n"
      ],
      "text/plain": [
       "+--------------------+----------------+-----------------+---------+-----+\n",
       "|                  id|            name|artist_popularity|followers|genre|\n",
       "+--------------------+----------------+-----------------+---------+-----+\n",
       "|0bP0kTSAd6KMRiEk5...|  Jorgie Francis|                1|        0| null|\n",
       "|3UXiVfLGLjkv0DAQG...|     LUCILRICKSS|                8|        0| null|\n",
       "|0sLBLFa1KwwlNc345...|        TakeGold|                0|        0| null|\n",
       "|5uJWkfj9R3mSXHulw...| Brittanie Notah|               10|        0| null|\n",
       "|2O5hweLKIlxmKi7uq...|   Brandi Doonan|               24|        0| null|\n",
       "|7D9mvYlEeUg8QJyZ6...|Jennifer Salvail|                8|        0| null|\n",
       "|25nqKgqjvqiifcvqc...| whoslurking.com|                0|        0| null|\n",
       "|5r04d4PnSLGm2x1wA...|    Aria Argento|                5|        0| null|\n",
       "|0KMWXoBLZ1zpXqIee...|    India Loreto|               15|        0| null|\n",
       "|5BclEko5o5DtDkuV5...|       BLANCIKOR|                8|        0| null|\n",
       "|4j19CD7W190QPVeei...|      Richtheone|                0|        0| null|\n",
       "|3a0FSD0aBAgDd5MrI...|    Young Bebo F|                6|        0| null|\n",
       "|0gD8udvIhqbta8jfO...|          Breezy|               26|        0| null|\n",
       "|11Ahc54PqpzXB2dyo...|   Indah Bethari|                8|        0| null|\n",
       "|5wZe5jNUikpZS15eQ...|     Marc Jordan|                0|        0| null|\n",
       "|2losYGyGcr79Vzkjo...|        Jid Niko|                6|        0| null|\n",
       "|0wh4mHyVDQjqMFNXJ...|     DON DADA KE|                0|        0| null|\n",
       "|1jMUZNAkXyK6l5lo9...|  Calvin Kennedy|                8|        0| null|\n",
       "|01YRrPzg1ymNo8vt5...|   Junior Moosey|                0|        0| null|\n",
       "|4KqiPu2l9NP8LKpa6...|    Disco Magnet|                6|        0| null|\n",
       "+--------------------+----------------+-----------------+---------+-----+\n",
       "only showing top 20 rows"
      ]
     },
     "execution_count": 30,
     "metadata": {},
     "output_type": "execute_result"
    }
   ],
   "source": [
    "# To execute SQL queries on DataFrames, Spark needs to know how to refer to the DataFrame within the SQL context.\n",
    "#By using createOrReplaceTempView(), you can assign a name to the DataFrame that SQL queries can reference.\n",
    "df.createOrReplaceTempView(\"artists\")\n",
    "spark.sql(\"select * from artists where followers < 200 order by followers\")"
   ]
  },
  {
   "cell_type": "code",
   "execution_count": 31,
   "id": "77009f58",
   "metadata": {},
   "outputs": [
    {
     "data": {
      "text/html": [
       "<table border='1'>\n",
       "<tr><th>id</th><th>name</th><th>artist_popularity</th><th>followers</th><th>genre</th></tr>\n",
       "<tr><td>6GkSLJj5CGLIckLIb...</td><td>Late Night Fights</td><td>0</td><td>184</td><td>minneapolis punk</td></tr>\n",
       "<tr><td>1N0VwQy5PRJymrRvl...</td><td>Sub Par All Star</td><td>0</td><td>491</td><td>antiviral pop</td></tr>\n",
       "<tr><td>4Ch4BIKKwMJsiu1oV...</td><td>Nirvana Meditatio...</td><td>0</td><td>56</td><td>8d</td></tr>\n",
       "<tr><td>5h2iINTOvhghVcpIz...</td><td>Red Hot Rebellion</td><td>0</td><td>394</td><td>action rock</td></tr>\n",
       "<tr><td>7dE2MLL2SaI6MujpU...</td><td>Nirvana Tribute Band</td><td>0</td><td>230</td><td>tribute</td></tr>\n",
       "<tr><td>2cdjmWomWpKyQ0Hqg...</td><td>Wyli P</td><td>0</td><td>7479</td><td>memphis hip hop</td></tr>\n",
       "<tr><td>5g1ztx52qgchXwiRZ...</td><td>Caul</td><td>1</td><td>688</td><td>dark ambient</td></tr>\n",
       "<tr><td>3NjmnKYEuN92YZiWV...</td><td>Chicago Blues All...</td><td>1</td><td>730</td><td>chicago blues</td></tr>\n",
       "<tr><td>3hqLYpiTCdvz5lG3Y...</td><td>Lew Lewis &amp; The T...</td><td>1</td><td>500</td><td>neo-rockabilly</td></tr>\n",
       "<tr><td>06hu6DFeD2bfdBAts...</td><td>Lower Life Forms</td><td>1</td><td>169</td><td>deep east coast h...</td></tr>\n",
       "<tr><td>1DyHyc6v28ZCrA7Ql...</td><td>Whoopee John Wilf...</td><td>1</td><td>211</td><td>polka</td></tr>\n",
       "<tr><td>3DnNVpLZI0vFQCYIi...</td><td>Dieter Kropp</td><td>2</td><td>170</td><td>german blues</td></tr>\n",
       "<tr><td>6XblJ5Nas2VsL9s5H...</td><td>Chilli Willi &amp; Th...</td><td>2</td><td>1605</td><td>pub rock</td></tr>\n",
       "<tr><td>4BTddjd5LzqjQ5WAV...</td><td>Abronia</td><td>2</td><td>1123</td><td>cascadia psych</td></tr>\n",
       "<tr><td>1o9N4cb5eZ5x2HLOO...</td><td>Trio Fibonacci</td><td>3</td><td>195</td><td>classical piano trio</td></tr>\n",
       "<tr><td>112gcdWQhFcd3clCq...</td><td>Thomas Erak and T...</td><td>3</td><td>1429</td><td>swancore</td></tr>\n",
       "<tr><td>2ay2iSqgCqEQHzRlf...</td><td>Little Rachel</td><td>3</td><td>443</td><td>neo-rockabilly</td></tr>\n",
       "<tr><td>62XaAZIhLNRc3x1KB...</td><td>Bad Actress</td><td>3</td><td>761</td><td>nwocr</td></tr>\n",
       "<tr><td>2DEKbExrCn2gANebr...</td><td>Jacob Anderskov</td><td>4</td><td>402</td><td>danish jazz</td></tr>\n",
       "<tr><td>68D0NSkqx99hNYB26...</td><td>M1CK3Y</td><td>4</td><td>142</td><td>future bounce</td></tr>\n",
       "</table>\n",
       "only showing top 20 rows\n"
      ],
      "text/plain": [
       "+--------------------+--------------------+-----------------+---------+--------------------+\n",
       "|                  id|                name|artist_popularity|followers|               genre|\n",
       "+--------------------+--------------------+-----------------+---------+--------------------+\n",
       "|6GkSLJj5CGLIckLIb...|   Late Night Fights|                0|      184|    minneapolis punk|\n",
       "|1N0VwQy5PRJymrRvl...|    Sub Par All Star|                0|      491|       antiviral pop|\n",
       "|4Ch4BIKKwMJsiu1oV...|Nirvana Meditatio...|                0|       56|                  8d|\n",
       "|5h2iINTOvhghVcpIz...|   Red Hot Rebellion|                0|      394|         action rock|\n",
       "|7dE2MLL2SaI6MujpU...|Nirvana Tribute Band|                0|      230|             tribute|\n",
       "|2cdjmWomWpKyQ0Hqg...|              Wyli P|                0|     7479|     memphis hip hop|\n",
       "|5g1ztx52qgchXwiRZ...|                Caul|                1|      688|        dark ambient|\n",
       "|3NjmnKYEuN92YZiWV...|Chicago Blues All...|                1|      730|       chicago blues|\n",
       "|3hqLYpiTCdvz5lG3Y...|Lew Lewis & The T...|                1|      500|      neo-rockabilly|\n",
       "|06hu6DFeD2bfdBAts...|    Lower Life Forms|                1|      169|deep east coast h...|\n",
       "|1DyHyc6v28ZCrA7Ql...|Whoopee John Wilf...|                1|      211|               polka|\n",
       "|3DnNVpLZI0vFQCYIi...|        Dieter Kropp|                2|      170|        german blues|\n",
       "|6XblJ5Nas2VsL9s5H...|Chilli Willi & Th...|                2|     1605|            pub rock|\n",
       "|4BTddjd5LzqjQ5WAV...|             Abronia|                2|     1123|      cascadia psych|\n",
       "|1o9N4cb5eZ5x2HLOO...|      Trio Fibonacci|                3|      195|classical piano trio|\n",
       "|112gcdWQhFcd3clCq...|Thomas Erak and T...|                3|     1429|            swancore|\n",
       "|2ay2iSqgCqEQHzRlf...|       Little Rachel|                3|      443|      neo-rockabilly|\n",
       "|62XaAZIhLNRc3x1KB...|         Bad Actress|                3|      761|               nwocr|\n",
       "|2DEKbExrCn2gANebr...|     Jacob Anderskov|                4|      402|         danish jazz|\n",
       "|68D0NSkqx99hNYB26...|              M1CK3Y|                4|      142|       future bounce|\n",
       "+--------------------+--------------------+-----------------+---------+--------------------+\n",
       "only showing top 20 rows"
      ]
     },
     "execution_count": 31,
     "metadata": {},
     "output_type": "execute_result"
    }
   ],
   "source": [
    "df"
   ]
  },
  {
   "cell_type": "code",
   "execution_count": 32,
   "id": "b1a19d68",
   "metadata": {},
   "outputs": [
    {
     "data": {
      "text/plain": [
       "94"
      ]
     },
     "execution_count": 32,
     "metadata": {},
     "output_type": "execute_result"
    }
   ],
   "source": [
    "df.select('artist_popularity').distinct().count()"
   ]
  },
  {
   "cell_type": "code",
   "execution_count": 33,
   "id": "922a6da3",
   "metadata": {},
   "outputs": [
    {
     "name": "stdout",
     "output_type": "stream",
     "text": [
      "+-------+------------------+------------------+\n",
      "|summary| artist_popularity|         followers|\n",
      "+-------+------------------+------------------+\n",
      "|  count|             37012|             37012|\n",
      "|   mean|15.440073489679023|222465.43015778667|\n",
      "| stddev| 18.95825607271792| 2192633.202182601|\n",
      "|    min|                 0|                 0|\n",
      "|    max|                95|              9999|\n",
      "+-------+------------------+------------------+\n",
      "\n"
     ]
    }
   ],
   "source": [
    "df.describe('artist_popularity','followers').show()"
   ]
  },
  {
   "cell_type": "code",
   "execution_count": 34,
   "id": "4a6fbda2",
   "metadata": {},
   "outputs": [
    {
     "data": {
      "text/plain": [
       "37012"
      ]
     },
     "execution_count": 34,
     "metadata": {},
     "output_type": "execute_result"
    }
   ],
   "source": [
    "df.count()"
   ]
  },
  {
   "cell_type": "code",
   "execution_count": 35,
   "id": "59fe948f",
   "metadata": {},
   "outputs": [],
   "source": [
    "duplicate=df.dropDuplicates()"
   ]
  },
  {
   "cell_type": "code",
   "execution_count": 36,
   "id": "e69edaa7",
   "metadata": {},
   "outputs": [
    {
     "data": {
      "text/plain": [
       "37012"
      ]
     },
     "execution_count": 36,
     "metadata": {},
     "output_type": "execute_result"
    }
   ],
   "source": [
    "duplicate.count()"
   ]
  },
  {
   "cell_type": "code",
   "execution_count": 37,
   "id": "53a1ccf0",
   "metadata": {},
   "outputs": [
    {
     "data": {
      "text/html": [
       "<table border='1'>\n",
       "<tr><th>artist_popularity</th><th>count</th></tr>\n",
       "<tr><td>7</td><td>667</td></tr>\n",
       "<tr><td>51</td><td>164</td></tr>\n",
       "<tr><td>15</td><td>480</td></tr>\n",
       "<tr><td>54</td><td>153</td></tr>\n",
       "<tr><td>11</td><td>562</td></tr>\n",
       "<tr><td>29</td><td>381</td></tr>\n",
       "<tr><td>69</td><td>60</td></tr>\n",
       "<tr><td>42</td><td>218</td></tr>\n",
       "<tr><td>73</td><td>46</td></tr>\n",
       "<tr><td>64</td><td>88</td></tr>\n",
       "<tr><td>3</td><td>1265</td></tr>\n",
       "<tr><td>30</td><td>324</td></tr>\n",
       "<tr><td>34</td><td>321</td></tr>\n",
       "<tr><td>59</td><td>113</td></tr>\n",
       "<tr><td>8</td><td>642</td></tr>\n",
       "<tr><td>22</td><td>442</td></tr>\n",
       "<tr><td>28</td><td>386</td></tr>\n",
       "<tr><td>16</td><td>484</td></tr>\n",
       "<tr><td>35</td><td>282</td></tr>\n",
       "<tr><td>52</td><td>153</td></tr>\n",
       "</table>\n",
       "only showing top 20 rows\n"
      ],
      "text/plain": [
       "+-----------------+-----+\n",
       "|artist_popularity|count|\n",
       "+-----------------+-----+\n",
       "|                7|  667|\n",
       "|               51|  164|\n",
       "|               15|  480|\n",
       "|               54|  153|\n",
       "|               11|  562|\n",
       "|               29|  381|\n",
       "|               69|   60|\n",
       "|               42|  218|\n",
       "|               73|   46|\n",
       "|               64|   88|\n",
       "|                3| 1265|\n",
       "|               30|  324|\n",
       "|               34|  321|\n",
       "|               59|  113|\n",
       "|                8|  642|\n",
       "|               22|  442|\n",
       "|               28|  386|\n",
       "|               16|  484|\n",
       "|               35|  282|\n",
       "|               52|  153|\n",
       "+-----------------+-----+\n",
       "only showing top 20 rows"
      ]
     },
     "execution_count": 37,
     "metadata": {},
     "output_type": "execute_result"
    }
   ],
   "source": [
    "df.groupby(\"artist_popularity\").count()"
   ]
  },
  {
   "cell_type": "code",
   "execution_count": 38,
   "id": "511b436b",
   "metadata": {},
   "outputs": [
    {
     "data": {
      "text/html": [
       "<table border='1'>\n",
       "<tr><th>artist_popularity</th><th>count</th></tr>\n",
       "<tr><td>0</td><td>10093</td></tr>\n",
       "<tr><td>1</td><td>2799</td></tr>\n",
       "<tr><td>2</td><td>1581</td></tr>\n",
       "<tr><td>3</td><td>1265</td></tr>\n",
       "<tr><td>4</td><td>1009</td></tr>\n",
       "<tr><td>5</td><td>856</td></tr>\n",
       "<tr><td>6</td><td>801</td></tr>\n",
       "<tr><td>7</td><td>667</td></tr>\n",
       "<tr><td>8</td><td>642</td></tr>\n",
       "<tr><td>9</td><td>574</td></tr>\n",
       "<tr><td>11</td><td>562</td></tr>\n",
       "<tr><td>10</td><td>552</td></tr>\n",
       "<tr><td>13</td><td>512</td></tr>\n",
       "<tr><td>12</td><td>507</td></tr>\n",
       "<tr><td>16</td><td>484</td></tr>\n",
       "<tr><td>15</td><td>480</td></tr>\n",
       "<tr><td>14</td><td>473</td></tr>\n",
       "<tr><td>18</td><td>461</td></tr>\n",
       "<tr><td>22</td><td>442</td></tr>\n",
       "<tr><td>17</td><td>434</td></tr>\n",
       "</table>\n",
       "only showing top 20 rows\n"
      ],
      "text/plain": [
       "+-----------------+-----+\n",
       "|artist_popularity|count|\n",
       "+-----------------+-----+\n",
       "|                0|10093|\n",
       "|                1| 2799|\n",
       "|                2| 1581|\n",
       "|                3| 1265|\n",
       "|                4| 1009|\n",
       "|                5|  856|\n",
       "|                6|  801|\n",
       "|                7|  667|\n",
       "|                8|  642|\n",
       "|                9|  574|\n",
       "|               11|  562|\n",
       "|               10|  552|\n",
       "|               13|  512|\n",
       "|               12|  507|\n",
       "|               16|  484|\n",
       "|               15|  480|\n",
       "|               14|  473|\n",
       "|               18|  461|\n",
       "|               22|  442|\n",
       "|               17|  434|\n",
       "+-----------------+-----+\n",
       "only showing top 20 rows"
      ]
     },
     "execution_count": 38,
     "metadata": {},
     "output_type": "execute_result"
    }
   ],
   "source": [
    "spark.sql(\"select artist_popularity,count(artist_popularity) as count from artists group by artist_popularity order by count desc\")"
   ]
  },
  {
   "cell_type": "code",
   "execution_count": 39,
   "id": "fc9e2929",
   "metadata": {},
   "outputs": [
    {
     "name": "stdout",
     "output_type": "stream",
     "text": [
      "+-----------------+-----+\n",
      "|artist_popularity|count|\n",
      "+-----------------+-----+\n",
      "|                0|10093|\n",
      "|                1| 2799|\n",
      "|                2| 1581|\n",
      "|                3| 1265|\n",
      "|                4| 1009|\n",
      "|                5|  856|\n",
      "|                6|  801|\n",
      "|                7|  667|\n",
      "|                8|  642|\n",
      "|                9|  574|\n",
      "|               11|  562|\n",
      "|               10|  552|\n",
      "|               13|  512|\n",
      "|               12|  507|\n",
      "|               16|  484|\n",
      "|               15|  480|\n",
      "|               14|  473|\n",
      "|               18|  461|\n",
      "|               22|  442|\n",
      "|               17|  434|\n",
      "|               21|  434|\n",
      "|               23|  426|\n",
      "|               20|  426|\n",
      "|               26|  415|\n",
      "|               19|  400|\n",
      "|               28|  386|\n",
      "|               29|  381|\n",
      "|               25|  361|\n",
      "|               27|  358|\n",
      "|               24|  358|\n",
      "|               32|  341|\n",
      "|               30|  324|\n",
      "|               31|  324|\n",
      "|               34|  321|\n",
      "|               33|  297|\n",
      "|               36|  286|\n",
      "|               35|  282|\n",
      "|               38|  271|\n",
      "|               37|  269|\n",
      "|               39|  267|\n",
      "|               40|  242|\n",
      "|               44|  229|\n",
      "|               45|  228|\n",
      "|               41|  223|\n",
      "|               42|  218|\n",
      "|               43|  205|\n",
      "|               48|  198|\n",
      "|               50|  191|\n",
      "|               49|  186|\n",
      "|               47|  182|\n",
      "|               51|  164|\n",
      "|               46|  159|\n",
      "|               54|  153|\n",
      "|               52|  153|\n",
      "|               53|  135|\n",
      "|               56|  130|\n",
      "|               55|  127|\n",
      "|               57|  122|\n",
      "|               60|  115|\n",
      "|               59|  113|\n",
      "|               61|  101|\n",
      "|               63|  101|\n",
      "|               58|   99|\n",
      "|               66|   99|\n",
      "|               62|   97|\n",
      "|               65|   89|\n",
      "|               64|   88|\n",
      "|               71|   70|\n",
      "|               67|   65|\n",
      "|               69|   60|\n",
      "|               70|   57|\n",
      "|               74|   55|\n",
      "|               68|   53|\n",
      "|               73|   46|\n",
      "|               75|   42|\n",
      "|               72|   41|\n",
      "|               76|   39|\n",
      "|               77|   37|\n",
      "|               79|   32|\n",
      "|               78|   25|\n",
      "|               81|   19|\n",
      "|               83|   19|\n",
      "|               80|   18|\n",
      "|               82|   12|\n",
      "|               84|   12|\n",
      "|               85|   11|\n",
      "|               86|   10|\n",
      "|               88|    8|\n",
      "|               87|    3|\n",
      "|               89|    3|\n",
      "|               90|    3|\n",
      "|               95|    2|\n",
      "|              100|    1|\n",
      "|               93|    1|\n",
      "+-----------------+-----+\n",
      "\n"
     ]
    }
   ],
   "source": [
    "spark.sql(\"select artist_popularity,count(artist_popularity) as count from artists group by artist_popularity order by count desc\").show(100)"
   ]
  },
  {
   "cell_type": "code",
   "execution_count": 40,
   "id": "062e09ce",
   "metadata": {},
   "outputs": [
    {
     "data": {
      "text/html": [
       "<table border='1'>\n",
       "<tr><th>ID</th><th>NAME</th><th>ARTIST_POPULARITY</th><th>FOLLOWERS</th><th>GENRE</th></tr>\n",
       "<tr><td>6GkSLJj5CGLIckLIb...</td><td>Late Night Fights</td><td>0</td><td>184</td><td>minneapolis punk</td></tr>\n",
       "<tr><td>1N0VwQy5PRJymrRvl...</td><td>Sub Par All Star</td><td>0</td><td>491</td><td>antiviral pop</td></tr>\n",
       "<tr><td>4Ch4BIKKwMJsiu1oV...</td><td>Nirvana Meditatio...</td><td>0</td><td>56</td><td>8d</td></tr>\n",
       "<tr><td>5h2iINTOvhghVcpIz...</td><td>Red Hot Rebellion</td><td>0</td><td>394</td><td>action rock</td></tr>\n",
       "<tr><td>7dE2MLL2SaI6MujpU...</td><td>Nirvana Tribute Band</td><td>0</td><td>230</td><td>tribute</td></tr>\n",
       "<tr><td>2cdjmWomWpKyQ0Hqg...</td><td>Wyli P</td><td>0</td><td>7479</td><td>memphis hip hop</td></tr>\n",
       "<tr><td>5g1ztx52qgchXwiRZ...</td><td>Caul</td><td>1</td><td>688</td><td>dark ambient</td></tr>\n",
       "<tr><td>3NjmnKYEuN92YZiWV...</td><td>Chicago Blues All...</td><td>1</td><td>730</td><td>chicago blues</td></tr>\n",
       "<tr><td>3hqLYpiTCdvz5lG3Y...</td><td>Lew Lewis &amp; The T...</td><td>1</td><td>500</td><td>neo-rockabilly</td></tr>\n",
       "<tr><td>06hu6DFeD2bfdBAts...</td><td>Lower Life Forms</td><td>1</td><td>169</td><td>deep east coast h...</td></tr>\n",
       "<tr><td>1DyHyc6v28ZCrA7Ql...</td><td>Whoopee John Wilf...</td><td>1</td><td>211</td><td>polka</td></tr>\n",
       "<tr><td>3DnNVpLZI0vFQCYIi...</td><td>Dieter Kropp</td><td>2</td><td>170</td><td>german blues</td></tr>\n",
       "<tr><td>6XblJ5Nas2VsL9s5H...</td><td>Chilli Willi &amp; Th...</td><td>2</td><td>1605</td><td>pub rock</td></tr>\n",
       "<tr><td>4BTddjd5LzqjQ5WAV...</td><td>Abronia</td><td>2</td><td>1123</td><td>cascadia psych</td></tr>\n",
       "<tr><td>1o9N4cb5eZ5x2HLOO...</td><td>Trio Fibonacci</td><td>3</td><td>195</td><td>classical piano trio</td></tr>\n",
       "<tr><td>112gcdWQhFcd3clCq...</td><td>Thomas Erak and T...</td><td>3</td><td>1429</td><td>swancore</td></tr>\n",
       "<tr><td>2ay2iSqgCqEQHzRlf...</td><td>Little Rachel</td><td>3</td><td>443</td><td>neo-rockabilly</td></tr>\n",
       "<tr><td>62XaAZIhLNRc3x1KB...</td><td>Bad Actress</td><td>3</td><td>761</td><td>nwocr</td></tr>\n",
       "<tr><td>2DEKbExrCn2gANebr...</td><td>Jacob Anderskov</td><td>4</td><td>402</td><td>danish jazz</td></tr>\n",
       "<tr><td>68D0NSkqx99hNYB26...</td><td>M1CK3Y</td><td>4</td><td>142</td><td>future bounce</td></tr>\n",
       "</table>\n",
       "only showing top 20 rows\n"
      ],
      "text/plain": [
       "+--------------------+--------------------+-----------------+---------+--------------------+\n",
       "|                  ID|                NAME|ARTIST_POPULARITY|FOLLOWERS|               GENRE|\n",
       "+--------------------+--------------------+-----------------+---------+--------------------+\n",
       "|6GkSLJj5CGLIckLIb...|   Late Night Fights|                0|      184|    minneapolis punk|\n",
       "|1N0VwQy5PRJymrRvl...|    Sub Par All Star|                0|      491|       antiviral pop|\n",
       "|4Ch4BIKKwMJsiu1oV...|Nirvana Meditatio...|                0|       56|                  8d|\n",
       "|5h2iINTOvhghVcpIz...|   Red Hot Rebellion|                0|      394|         action rock|\n",
       "|7dE2MLL2SaI6MujpU...|Nirvana Tribute Band|                0|      230|             tribute|\n",
       "|2cdjmWomWpKyQ0Hqg...|              Wyli P|                0|     7479|     memphis hip hop|\n",
       "|5g1ztx52qgchXwiRZ...|                Caul|                1|      688|        dark ambient|\n",
       "|3NjmnKYEuN92YZiWV...|Chicago Blues All...|                1|      730|       chicago blues|\n",
       "|3hqLYpiTCdvz5lG3Y...|Lew Lewis & The T...|                1|      500|      neo-rockabilly|\n",
       "|06hu6DFeD2bfdBAts...|    Lower Life Forms|                1|      169|deep east coast h...|\n",
       "|1DyHyc6v28ZCrA7Ql...|Whoopee John Wilf...|                1|      211|               polka|\n",
       "|3DnNVpLZI0vFQCYIi...|        Dieter Kropp|                2|      170|        german blues|\n",
       "|6XblJ5Nas2VsL9s5H...|Chilli Willi & Th...|                2|     1605|            pub rock|\n",
       "|4BTddjd5LzqjQ5WAV...|             Abronia|                2|     1123|      cascadia psych|\n",
       "|1o9N4cb5eZ5x2HLOO...|      Trio Fibonacci|                3|      195|classical piano trio|\n",
       "|112gcdWQhFcd3clCq...|Thomas Erak and T...|                3|     1429|            swancore|\n",
       "|2ay2iSqgCqEQHzRlf...|       Little Rachel|                3|      443|      neo-rockabilly|\n",
       "|62XaAZIhLNRc3x1KB...|         Bad Actress|                3|      761|               nwocr|\n",
       "|2DEKbExrCn2gANebr...|     Jacob Anderskov|                4|      402|         danish jazz|\n",
       "|68D0NSkqx99hNYB26...|              M1CK3Y|                4|      142|       future bounce|\n",
       "+--------------------+--------------------+-----------------+---------+--------------------+\n",
       "only showing top 20 rows"
      ]
     },
     "execution_count": 40,
     "metadata": {},
     "output_type": "execute_result"
    }
   ],
   "source": [
    "# Rename columns to uppercase using toDF\n",
    "#toDF(): This method renames all columns at once, making it more efficient than looping with withColumnRenamed().\n",
    "df = df.toDF(*[col.upper() for col in df.columns])\n",
    "df"
   ]
  },
  {
   "cell_type": "code",
   "execution_count": 41,
   "id": "3601b696",
   "metadata": {},
   "outputs": [],
   "source": [
    "df1 = df.withColumnRenamed(\"NAME\", \"name_1\")"
   ]
  },
  {
   "cell_type": "code",
   "execution_count": 42,
   "id": "3a90ef88",
   "metadata": {},
   "outputs": [
    {
     "data": {
      "text/html": [
       "<table border='1'>\n",
       "<tr><th>ID</th><th>NAME</th><th>ARTIST_POPULARITY</th><th>FOLLOWERS</th><th>GENRE</th></tr>\n",
       "<tr><td>6GkSLJj5CGLIckLIb...</td><td>Late Night Fights</td><td>0</td><td>184</td><td>minneapolis punk</td></tr>\n",
       "<tr><td>1N0VwQy5PRJymrRvl...</td><td>Sub Par All Star</td><td>0</td><td>491</td><td>antiviral pop</td></tr>\n",
       "<tr><td>4Ch4BIKKwMJsiu1oV...</td><td>Nirvana Meditatio...</td><td>0</td><td>56</td><td>8d</td></tr>\n",
       "<tr><td>5h2iINTOvhghVcpIz...</td><td>Red Hot Rebellion</td><td>0</td><td>394</td><td>action rock</td></tr>\n",
       "<tr><td>7dE2MLL2SaI6MujpU...</td><td>Nirvana Tribute Band</td><td>0</td><td>230</td><td>tribute</td></tr>\n",
       "<tr><td>2cdjmWomWpKyQ0Hqg...</td><td>Wyli P</td><td>0</td><td>7479</td><td>memphis hip hop</td></tr>\n",
       "<tr><td>5g1ztx52qgchXwiRZ...</td><td>Caul</td><td>1</td><td>688</td><td>dark ambient</td></tr>\n",
       "<tr><td>3NjmnKYEuN92YZiWV...</td><td>Chicago Blues All...</td><td>1</td><td>730</td><td>chicago blues</td></tr>\n",
       "<tr><td>3hqLYpiTCdvz5lG3Y...</td><td>Lew Lewis &amp; The T...</td><td>1</td><td>500</td><td>neo-rockabilly</td></tr>\n",
       "<tr><td>06hu6DFeD2bfdBAts...</td><td>Lower Life Forms</td><td>1</td><td>169</td><td>deep east coast h...</td></tr>\n",
       "<tr><td>1DyHyc6v28ZCrA7Ql...</td><td>Whoopee John Wilf...</td><td>1</td><td>211</td><td>polka</td></tr>\n",
       "<tr><td>3DnNVpLZI0vFQCYIi...</td><td>Dieter Kropp</td><td>2</td><td>170</td><td>german blues</td></tr>\n",
       "<tr><td>6XblJ5Nas2VsL9s5H...</td><td>Chilli Willi &amp; Th...</td><td>2</td><td>1605</td><td>pub rock</td></tr>\n",
       "<tr><td>4BTddjd5LzqjQ5WAV...</td><td>Abronia</td><td>2</td><td>1123</td><td>cascadia psych</td></tr>\n",
       "<tr><td>1o9N4cb5eZ5x2HLOO...</td><td>Trio Fibonacci</td><td>3</td><td>195</td><td>classical piano trio</td></tr>\n",
       "<tr><td>112gcdWQhFcd3clCq...</td><td>Thomas Erak and T...</td><td>3</td><td>1429</td><td>swancore</td></tr>\n",
       "<tr><td>2ay2iSqgCqEQHzRlf...</td><td>Little Rachel</td><td>3</td><td>443</td><td>neo-rockabilly</td></tr>\n",
       "<tr><td>62XaAZIhLNRc3x1KB...</td><td>Bad Actress</td><td>3</td><td>761</td><td>nwocr</td></tr>\n",
       "<tr><td>2DEKbExrCn2gANebr...</td><td>Jacob Anderskov</td><td>4</td><td>402</td><td>danish jazz</td></tr>\n",
       "<tr><td>68D0NSkqx99hNYB26...</td><td>M1CK3Y</td><td>4</td><td>142</td><td>future bounce</td></tr>\n",
       "</table>\n",
       "only showing top 20 rows\n"
      ],
      "text/plain": [
       "DataFrame[ID: string, NAME: string, ARTIST_POPULARITY: string, FOLLOWERS: string, GENRE: string]"
      ]
     },
     "execution_count": 42,
     "metadata": {},
     "output_type": "execute_result"
    }
   ],
   "source": [
    "df"
   ]
  },
  {
   "cell_type": "code",
   "execution_count": 48,
   "id": "136e2e1e",
   "metadata": {},
   "outputs": [
    {
     "data": {
      "text/html": [
       "<table border='1'>\n",
       "<tr><th>ID</th><th>name_1</th><th>ARTIST_POPULARITY</th><th>FOLLOWERS</th><th>GENRE</th></tr>\n",
       "<tr><td>6GkSLJj5CGLIckLIb...</td><td>Late Night Fights</td><td>0</td><td>184</td><td>minneapolis punk</td></tr>\n",
       "<tr><td>1N0VwQy5PRJymrRvl...</td><td>Sub Par All Star</td><td>0</td><td>491</td><td>antiviral pop</td></tr>\n",
       "<tr><td>4Ch4BIKKwMJsiu1oV...</td><td>Nirvana Meditatio...</td><td>0</td><td>56</td><td>8d</td></tr>\n",
       "<tr><td>5h2iINTOvhghVcpIz...</td><td>Red Hot Rebellion</td><td>0</td><td>394</td><td>action rock</td></tr>\n",
       "<tr><td>7dE2MLL2SaI6MujpU...</td><td>Nirvana Tribute Band</td><td>0</td><td>230</td><td>tribute</td></tr>\n",
       "<tr><td>2cdjmWomWpKyQ0Hqg...</td><td>Wyli P</td><td>0</td><td>7479</td><td>memphis hip hop</td></tr>\n",
       "<tr><td>5g1ztx52qgchXwiRZ...</td><td>Caul</td><td>1</td><td>688</td><td>dark ambient</td></tr>\n",
       "<tr><td>3NjmnKYEuN92YZiWV...</td><td>Chicago Blues All...</td><td>1</td><td>730</td><td>chicago blues</td></tr>\n",
       "<tr><td>3hqLYpiTCdvz5lG3Y...</td><td>Lew Lewis &amp; The T...</td><td>1</td><td>500</td><td>neo-rockabilly</td></tr>\n",
       "<tr><td>06hu6DFeD2bfdBAts...</td><td>Lower Life Forms</td><td>1</td><td>169</td><td>deep east coast h...</td></tr>\n",
       "<tr><td>1DyHyc6v28ZCrA7Ql...</td><td>Whoopee John Wilf...</td><td>1</td><td>211</td><td>polka</td></tr>\n",
       "<tr><td>3DnNVpLZI0vFQCYIi...</td><td>Dieter Kropp</td><td>2</td><td>170</td><td>german blues</td></tr>\n",
       "<tr><td>6XblJ5Nas2VsL9s5H...</td><td>Chilli Willi &amp; Th...</td><td>2</td><td>1605</td><td>pub rock</td></tr>\n",
       "<tr><td>4BTddjd5LzqjQ5WAV...</td><td>Abronia</td><td>2</td><td>1123</td><td>cascadia psych</td></tr>\n",
       "<tr><td>1o9N4cb5eZ5x2HLOO...</td><td>Trio Fibonacci</td><td>3</td><td>195</td><td>classical piano trio</td></tr>\n",
       "<tr><td>112gcdWQhFcd3clCq...</td><td>Thomas Erak and T...</td><td>3</td><td>1429</td><td>swancore</td></tr>\n",
       "<tr><td>2ay2iSqgCqEQHzRlf...</td><td>Little Rachel</td><td>3</td><td>443</td><td>neo-rockabilly</td></tr>\n",
       "<tr><td>62XaAZIhLNRc3x1KB...</td><td>Bad Actress</td><td>3</td><td>761</td><td>nwocr</td></tr>\n",
       "<tr><td>2DEKbExrCn2gANebr...</td><td>Jacob Anderskov</td><td>4</td><td>402</td><td>danish jazz</td></tr>\n",
       "<tr><td>68D0NSkqx99hNYB26...</td><td>M1CK3Y</td><td>4</td><td>142</td><td>future bounce</td></tr>\n",
       "</table>\n",
       "only showing top 20 rows\n"
      ],
      "text/plain": [
       "+--------------------+--------------------+-----------------+---------+--------------------+\n",
       "|                  ID|              name_1|ARTIST_POPULARITY|FOLLOWERS|               GENRE|\n",
       "+--------------------+--------------------+-----------------+---------+--------------------+\n",
       "|6GkSLJj5CGLIckLIb...|   Late Night Fights|                0|      184|    minneapolis punk|\n",
       "|1N0VwQy5PRJymrRvl...|    Sub Par All Star|                0|      491|       antiviral pop|\n",
       "|4Ch4BIKKwMJsiu1oV...|Nirvana Meditatio...|                0|       56|                  8d|\n",
       "|5h2iINTOvhghVcpIz...|   Red Hot Rebellion|                0|      394|         action rock|\n",
       "|7dE2MLL2SaI6MujpU...|Nirvana Tribute Band|                0|      230|             tribute|\n",
       "|2cdjmWomWpKyQ0Hqg...|              Wyli P|                0|     7479|     memphis hip hop|\n",
       "|5g1ztx52qgchXwiRZ...|                Caul|                1|      688|        dark ambient|\n",
       "|3NjmnKYEuN92YZiWV...|Chicago Blues All...|                1|      730|       chicago blues|\n",
       "|3hqLYpiTCdvz5lG3Y...|Lew Lewis & The T...|                1|      500|      neo-rockabilly|\n",
       "|06hu6DFeD2bfdBAts...|    Lower Life Forms|                1|      169|deep east coast h...|\n",
       "|1DyHyc6v28ZCrA7Ql...|Whoopee John Wilf...|                1|      211|               polka|\n",
       "|3DnNVpLZI0vFQCYIi...|        Dieter Kropp|                2|      170|        german blues|\n",
       "|6XblJ5Nas2VsL9s5H...|Chilli Willi & Th...|                2|     1605|            pub rock|\n",
       "|4BTddjd5LzqjQ5WAV...|             Abronia|                2|     1123|      cascadia psych|\n",
       "|1o9N4cb5eZ5x2HLOO...|      Trio Fibonacci|                3|      195|classical piano trio|\n",
       "|112gcdWQhFcd3clCq...|Thomas Erak and T...|                3|     1429|            swancore|\n",
       "|2ay2iSqgCqEQHzRlf...|       Little Rachel|                3|      443|      neo-rockabilly|\n",
       "|62XaAZIhLNRc3x1KB...|         Bad Actress|                3|      761|               nwocr|\n",
       "|2DEKbExrCn2gANebr...|     Jacob Anderskov|                4|      402|         danish jazz|\n",
       "|68D0NSkqx99hNYB26...|              M1CK3Y|                4|      142|       future bounce|\n",
       "+--------------------+--------------------+-----------------+---------+--------------------+\n",
       "only showing top 20 rows"
      ]
     },
     "execution_count": 48,
     "metadata": {},
     "output_type": "execute_result"
    }
   ],
   "source": [
    "df1"
   ]
  },
  {
   "cell_type": "code",
   "execution_count": 43,
   "id": "7dbcce04",
   "metadata": {},
   "outputs": [
    {
     "data": {
      "text/plain": [
       "pyspark.sql.dataframe.DataFrame"
      ]
     },
     "execution_count": 43,
     "metadata": {},
     "output_type": "execute_result"
    }
   ],
   "source": [
    "type(df)"
   ]
  },
  {
   "cell_type": "code",
   "execution_count": 44,
   "id": "cc163a25",
   "metadata": {},
   "outputs": [
    {
     "data": {
      "text/plain": [
       "pyspark.sql.dataframe.DataFrame"
      ]
     },
     "execution_count": 44,
     "metadata": {},
     "output_type": "execute_result"
    }
   ],
   "source": [
    "type(df)"
   ]
  },
  {
   "cell_type": "code",
   "execution_count": 45,
   "id": "c64fba68",
   "metadata": {},
   "outputs": [
    {
     "name": "stdout",
     "output_type": "stream",
     "text": [
      "== Parsed Logical Plan ==\n",
      "Project [id#600 AS ID#1037, name#601 AS NAME#1038, artist_popularity#602 AS ARTIST_POPULARITY#1039, followers#603 AS FOLLOWERS#1040, genre#604 AS GENRE#1041]\n",
      "+- LogicalRDD [id#600, name#601, artist_popularity#602, followers#603, genre#604], false\n",
      "\n",
      "== Analyzed Logical Plan ==\n",
      "ID: string, NAME: string, ARTIST_POPULARITY: string, FOLLOWERS: string, GENRE: string\n",
      "Project [id#600 AS ID#1037, name#601 AS NAME#1038, artist_popularity#602 AS ARTIST_POPULARITY#1039, followers#603 AS FOLLOWERS#1040, genre#604 AS GENRE#1041]\n",
      "+- LogicalRDD [id#600, name#601, artist_popularity#602, followers#603, genre#604], false\n",
      "\n",
      "== Optimized Logical Plan ==\n",
      "Project [id#600 AS ID#1037, name#601 AS NAME#1038, artist_popularity#602 AS ARTIST_POPULARITY#1039, followers#603 AS FOLLOWERS#1040, genre#604 AS GENRE#1041]\n",
      "+- LogicalRDD [id#600, name#601, artist_popularity#602, followers#603, genre#604], false\n",
      "\n",
      "== Physical Plan ==\n",
      "*(1) Project [id#600 AS ID#1037, name#601 AS NAME#1038, artist_popularity#602 AS ARTIST_POPULARITY#1039, followers#603 AS FOLLOWERS#1040, genre#604 AS GENRE#1041]\n",
      "+- *(1) Scan ExistingRDD[id#600,name#601,artist_popularity#602,followers#603,genre#604]\n",
      "\n"
     ]
    }
   ],
   "source": [
    "df.explain(True)"
   ]
  },
  {
   "cell_type": "code",
   "execution_count": 47,
   "id": "61d706aa",
   "metadata": {},
   "outputs": [
    {
     "data": {
      "text/plain": [
       "8"
      ]
     },
     "execution_count": 47,
     "metadata": {},
     "output_type": "execute_result"
    }
   ],
   "source": [
    "df.rdd.getNumPartitions()"
   ]
  },
  {
   "cell_type": "code",
   "execution_count": 64,
   "id": "055f9312",
   "metadata": {},
   "outputs": [],
   "source": [
    "df_repartitioned = df.repartition(4)"
   ]
  },
  {
   "cell_type": "code",
   "execution_count": 71,
   "id": "0eab741f",
   "metadata": {},
   "outputs": [
    {
     "data": {
      "text/html": [
       "<table border='1'>\n",
       "<tr><th>ID</th><th>NAME</th><th>ARTIST_POPULARITY</th><th>FOLLOWERS</th><th>GENRE</th></tr>\n",
       "<tr><td>6GkSLJj5CGLIckLIb...</td><td>Late Night Fights</td><td>0</td><td>184</td><td>minneapolis punk</td></tr>\n",
       "<tr><td>1N0VwQy5PRJymrRvl...</td><td>Sub Par All Star</td><td>0</td><td>491</td><td>antiviral pop</td></tr>\n",
       "<tr><td>4Ch4BIKKwMJsiu1oV...</td><td>Nirvana Meditatio...</td><td>0</td><td>56</td><td>8d</td></tr>\n",
       "<tr><td>5h2iINTOvhghVcpIz...</td><td>Red Hot Rebellion</td><td>0</td><td>394</td><td>action rock</td></tr>\n",
       "<tr><td>7dE2MLL2SaI6MujpU...</td><td>Nirvana Tribute Band</td><td>0</td><td>230</td><td>tribute</td></tr>\n",
       "<tr><td>2cdjmWomWpKyQ0Hqg...</td><td>Wyli P</td><td>0</td><td>7479</td><td>memphis hip hop</td></tr>\n",
       "<tr><td>5g1ztx52qgchXwiRZ...</td><td>Caul</td><td>1</td><td>688</td><td>dark ambient</td></tr>\n",
       "<tr><td>3NjmnKYEuN92YZiWV...</td><td>Chicago Blues All...</td><td>1</td><td>730</td><td>chicago blues</td></tr>\n",
       "<tr><td>3hqLYpiTCdvz5lG3Y...</td><td>Lew Lewis &amp; The T...</td><td>1</td><td>500</td><td>neo-rockabilly</td></tr>\n",
       "<tr><td>06hu6DFeD2bfdBAts...</td><td>Lower Life Forms</td><td>1</td><td>169</td><td>deep east coast h...</td></tr>\n",
       "<tr><td>1DyHyc6v28ZCrA7Ql...</td><td>Whoopee John Wilf...</td><td>1</td><td>211</td><td>polka</td></tr>\n",
       "<tr><td>3DnNVpLZI0vFQCYIi...</td><td>Dieter Kropp</td><td>2</td><td>170</td><td>german blues</td></tr>\n",
       "<tr><td>6XblJ5Nas2VsL9s5H...</td><td>Chilli Willi &amp; Th...</td><td>2</td><td>1605</td><td>pub rock</td></tr>\n",
       "<tr><td>4BTddjd5LzqjQ5WAV...</td><td>Abronia</td><td>2</td><td>1123</td><td>cascadia psych</td></tr>\n",
       "<tr><td>1o9N4cb5eZ5x2HLOO...</td><td>Trio Fibonacci</td><td>3</td><td>195</td><td>classical piano trio</td></tr>\n",
       "<tr><td>112gcdWQhFcd3clCq...</td><td>Thomas Erak and T...</td><td>3</td><td>1429</td><td>swancore</td></tr>\n",
       "<tr><td>2ay2iSqgCqEQHzRlf...</td><td>Little Rachel</td><td>3</td><td>443</td><td>neo-rockabilly</td></tr>\n",
       "<tr><td>62XaAZIhLNRc3x1KB...</td><td>Bad Actress</td><td>3</td><td>761</td><td>nwocr</td></tr>\n",
       "<tr><td>2DEKbExrCn2gANebr...</td><td>Jacob Anderskov</td><td>4</td><td>402</td><td>danish jazz</td></tr>\n",
       "<tr><td>68D0NSkqx99hNYB26...</td><td>M1CK3Y</td><td>4</td><td>142</td><td>future bounce</td></tr>\n",
       "</table>\n",
       "only showing top 20 rows\n"
      ],
      "text/plain": [
       "DataFrame[ID: string, NAME: string, ARTIST_POPULARITY: string, FOLLOWERS: string, GENRE: string]"
      ]
     },
     "execution_count": 71,
     "metadata": {},
     "output_type": "execute_result"
    }
   ],
   "source": [
    "df\n"
   ]
  },
  {
   "cell_type": "code",
   "execution_count": 66,
   "id": "d2037849",
   "metadata": {},
   "outputs": [],
   "source": [
    "cores = spark.sparkContext.defaultParallelism"
   ]
  },
  {
   "cell_type": "code",
   "execution_count": 74,
   "id": "bc1320d0",
   "metadata": {},
   "outputs": [
    {
     "name": "stdout",
     "output_type": "stream",
     "text": [
      "+--------------------+--------------------+-----------------+---------+-------------+\n",
      "|                  ID|                NAME|ARTIST_POPULARITY|FOLLOWERS|        GENRE|\n",
      "+--------------------+--------------------+-----------------+---------+-------------+\n",
      "|1N0VwQy5PRJymrRvl...|    Sub Par All Star|                0|      491|antiviral pop|\n",
      "|23rCpgXIJSrfDTLFX...|    Subhasish Biswas|                0|      441|         null|\n",
      "|7Jn1Ryt0eNcsUCvrE...|                 Sub|                0|       40|         null|\n",
      "|1diNjB59jGUi6J2ZO...|    Belinda Subraman|                0|       21|         null|\n",
      "|1XG6XIRAkjOJl0K0b...|       Subzero Da Yg|                0|        7|         null|\n",
      "|7Gi0KoSSJ0ayuOVP5...|       Subpar Snatch|                0|       97|  austin rock|\n",
      "|14rkUH3L4ITLnabAK...|D. Sruthilaya Sub...|                1|       10|         null|\n",
      "|4Bs9QDZQiv5rMjg0S...|      Javier Subatin|                2|      148|         null|\n",
      "|5un018zl7VOOkAHm2...|      Subodh Goswami|                2|       33|         null|\n",
      "|0Q8oGPrnyqC0F2CRL...|             Subsoul|               12|     1360|         null|\n",
      "+--------------------+--------------------+-----------------+---------+-------------+\n",
      "only showing top 10 rows\n",
      "\n"
     ]
    }
   ],
   "source": [
    "df.filter(col(\"NAME\").contains('Sub')).show(10)"
   ]
  },
  {
   "cell_type": "code",
   "execution_count": null,
   "id": "c9b68ce6",
   "metadata": {},
   "outputs": [],
   "source": []
  }
 ],
 "metadata": {
  "kernelspec": {
   "display_name": "Python 3 (ipykernel)",
   "language": "python",
   "name": "python3"
  },
  "language_info": {
   "codemirror_mode": {
    "name": "ipython",
    "version": 3
   },
   "file_extension": ".py",
   "mimetype": "text/x-python",
   "name": "python",
   "nbconvert_exporter": "python",
   "pygments_lexer": "ipython3",
   "version": "3.11.5"
  }
 },
 "nbformat": 4,
 "nbformat_minor": 5
}
