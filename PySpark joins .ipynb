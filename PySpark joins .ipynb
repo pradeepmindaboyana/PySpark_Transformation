{
 "cells": [
  {
   "cell_type": "code",
   "execution_count": 3,
   "id": "e8a7dae1",
   "metadata": {},
   "outputs": [],
   "source": [
    "import findspark\n",
    "findspark.init()\n",
    "from pyspark.sql import SparkSession"
   ]
  },
  {
   "cell_type": "code",
   "execution_count": 8,
   "id": "e32ec795",
   "metadata": {},
   "outputs": [],
   "source": [
    "spark=SparkSession.builder.getOrCreate()\n",
    "spark.conf.set('spark.sql.repl.eagerEval.enabled', True)"
   ]
  },
  {
   "cell_type": "code",
   "execution_count": 27,
   "id": "475fa58f",
   "metadata": {},
   "outputs": [],
   "source": [
    "albums=spark.read.csv('albums.csv',header=True)\n",
    "albums.createOrReplaceTempView(\"albums1\")"
   ]
  },
  {
   "cell_type": "code",
   "execution_count": 22,
   "id": "0d6ae649",
   "metadata": {},
   "outputs": [
    {
     "data": {
      "text/plain": [
       "['track_name',\n",
       " 'track_id',\n",
       " 'duration_ms',\n",
       " 'album_name',\n",
       " 'release_date',\n",
       " 'label',\n",
       " 'album_popularity',\n",
       " 'album_id',\n",
       " 'artist_id',\n",
       " 'duration_sec']"
      ]
     },
     "execution_count": 22,
     "metadata": {},
     "output_type": "execute_result"
    }
   ],
   "source": [
    "albums.columns"
   ]
  },
  {
   "cell_type": "code",
   "execution_count": 33,
   "id": "8df8de8f",
   "metadata": {},
   "outputs": [],
   "source": [
    "artists=spark.read.csv('artists.csv',header=True)\n",
    "artists.createOrReplaceTempView(\"artists1\")"
   ]
  },
  {
   "cell_type": "code",
   "execution_count": 23,
   "id": "7b08063a",
   "metadata": {},
   "outputs": [
    {
     "data": {
      "text/plain": [
       "['id', 'name', 'artist_popularity', 'followers', 'genre']"
      ]
     },
     "execution_count": 23,
     "metadata": {},
     "output_type": "execute_result"
    }
   ],
   "source": [
    "artists.columns"
   ]
  },
  {
   "cell_type": "code",
   "execution_count": 28,
   "id": "96cbff58",
   "metadata": {},
   "outputs": [],
   "source": [
    "tracks=spark.read.csv('track.csv',header=True)\n",
    "tracks.createOrReplaceTempView(\"tracks1\")"
   ]
  },
  {
   "cell_type": "code",
   "execution_count": 24,
   "id": "deefeffa",
   "metadata": {},
   "outputs": [
    {
     "data": {
      "text/plain": [
       "['track_id', 'track_popularity']"
      ]
     },
     "execution_count": 24,
     "metadata": {},
     "output_type": "execute_result"
    }
   ],
   "source": [
    "tracks.columns"
   ]
  },
  {
   "cell_type": "markdown",
   "id": "ce95c78a",
   "metadata": {},
   "source": [
    "# performing joins on the above three datasets \n"
   ]
  },
  {
   "cell_type": "code",
   "execution_count": 47,
   "id": "307e7e84",
   "metadata": {},
   "outputs": [
    {
     "data": {
      "text/html": [
       "<table border='1'>\n",
       "<tr><th>track_name</th><th>track_id</th><th>duration_ms</th><th>album_name</th><th>release_date</th><th>label</th><th>album_popularity</th><th>album_id</th><th>artist_id</th><th>duration_sec</th><th>track_id</th><th>track_popularity</th></tr>\n",
       "<tr><td>Well Beloved</td><td>0016Jwu7iPHEiMaNa...</td><td>188800</td><td>Naked</td><td>2010-09-10 00:00:...</td><td>Independent</td><td>0</td><td>0FOs1Pyp9zJ0ggiHQ...</td><td>5dh93RpwHPgebprlj...</td><td>188.8</td><td>0016Jwu7iPHEiMaNa...</td><td>0</td></tr>\n",
       "<tr><td>Umbrella Rain</td><td>0022Eu2UtAvfVgWra...</td><td>130393</td><td>50 Bright Storm S...</td><td>2023-06-07 00:00:...</td><td>Sami Springs</td><td>0</td><td>2EYKmfFsVpVYbzRtR...</td><td>6lctHtPhtXXcYdjZ1...</td><td>130.393</td><td>0022Eu2UtAvfVgWra...</td><td>0</td></tr>\n",
       "<tr><td>Chapter 2.3 - Sho...</td><td>0029VZDtHEDxeiLmX...</td><td>194900</td><td>Short Stories Col...</td><td>2018-10-08 00:00:...</td><td>Oregan Publishing</td><td>0</td><td>16FbBzfeQRW3tE6Kx...</td><td>6pcPyOpEwaoP9q7wO...</td><td>194.9</td><td>0029VZDtHEDxeiLmX...</td><td>0</td></tr>\n",
       "<tr><td>Her Favorite Jhen...</td><td>002bswHma4hktXBoP...</td><td>125915</td><td>Her Favorite Jhen...</td><td>2023-04-28 00:00:...</td><td>Good ForEver, LLC...</td><td>3</td><td>5LpX3WzIhS2hqE3Jv...</td><td>0PnrpdWmz1aJYJfNP...</td><td>125.915</td><td>002bswHma4hktXBoP...</td><td>8</td></tr>\n",
       "<tr><td>Metal Cross</td><td>003MuGj4LXAJmeWfB...</td><td>103248</td><td>Broad Is The Gate</td><td>2014-11-01 00:00:...</td><td>Armor Records</td><td>9</td><td>204uXvhoxTRbUtDYi...</td><td>0fY32zOZQBIUFh6rD...</td><td>103.248</td><td>003MuGj4LXAJmeWfB...</td><td>3</td></tr>\n",
       "<tr><td>Vs Vs</td><td>005oOiRXjWlPq0ZAl...</td><td>462940</td><td>Cause &amp; Affection</td><td>2019-04-05 00:00:...</td><td>Oginalii</td><td>4</td><td>5OBBzM3zlIaUaWhjh...</td><td>6qeuyLF8sOYKgFtG1...</td><td>462.94</td><td>005oOiRXjWlPq0ZAl...</td><td>2</td></tr>\n",
       "<tr><td>A Keeper - Instru...</td><td>005pCnVBrhyHXNSQz...</td><td>175087</td><td>A Keeper (Instrum...</td><td>2022-07-22 00:00:...</td><td>Cardo Grandz</td><td>3</td><td>2ySKxLEieyCvCvBdX...</td><td>35XjW3cHxFFqSKAvP...</td><td>175.087</td><td>005pCnVBrhyHXNSQz...</td><td>8</td></tr>\n",
       "<tr><td>Get Lucky</td><td>0065FotZCK8uABeEj...</td><td>226256</td><td>Get Lucky</td><td>2021-05-15 00:00:...</td><td>2391362 Records DK</td><td>23</td><td>1NFmU5WAqNQfghzy9...</td><td>5JN2YncFtK5ivttFG...</td><td>226.256</td><td>0065FotZCK8uABeEj...</td><td>32</td></tr>\n",
       "<tr><td>Between Inertia</td><td>006IQLethFbiBPxDt...</td><td>278638</td><td>Beyond The Exosphere</td><td>2016-04-15 00:00:...</td><td>591334 Records DK</td><td>7</td><td>2H1Wu3geHccgFx1U4...</td><td>7htuhsyjWD5kh61At...</td><td>278.638</td><td>006IQLethFbiBPxDt...</td><td>0</td></tr>\n",
       "<tr><td>Jesus Está Espera...</td><td>006tLTJ3fELYk5qcL...</td><td>152706</td><td>Jesus Está Esperando</td><td>2023-03-07 00:00:...</td><td>Gravadora Novo Tempo</td><td>7</td><td>6IH7cgrbN5ogPDvJD...</td><td>0YzJ06OIsg2qSkxhA...</td><td>152.706</td><td>006tLTJ3fELYk5qcL...</td><td>3</td></tr>\n",
       "<tr><td>Happy Birthday Yo...</td><td>006wOKIejlckE0wro...</td><td>281311</td><td>Refried - Remixes...</td><td>2019-09-27 00:00:...</td><td>Atomic Art / EMG</td><td>23</td><td>144IDQA4GrR8dDF2T...</td><td>6ZEUa75BqZkvpjhuV...</td><td>281.311</td><td>006wOKIejlckE0wro...</td><td>0</td></tr>\n",
       "<tr><td>Cyclone</td><td>007EzaTPPYcmAVdDV...</td><td>123750</td><td>Box Of Marshmallows</td><td>2022-02-08 00:00:...</td><td>Evgeny Bardyuzha</td><td>5</td><td>5dvyCLrc6Z7zDVyT9...</td><td>0t5cfyMGeJkZyUXjH...</td><td>123.75</td><td>007EzaTPPYcmAVdDV...</td><td>0</td></tr>\n",
       "<tr><td>The Eastern Way Out</td><td>008VTSvcXsmXOWWTA...</td><td>229293</td><td>Collections</td><td>2007-05-11 00:00:...</td><td>Sony BMG Music En...</td><td>19</td><td>3oUsI68ocqvpjzTsz...</td><td>7jQDCbxYM9t8bLCd2...</td><td>229.293</td><td>008VTSvcXsmXOWWTA...</td><td>5</td></tr>\n",
       "<tr><td>Jugg God 2</td><td>009Q57lppBMdNuEcr...</td><td>122540</td><td>Get Rich Or Die J...</td><td>2021-12-12 00:00:...</td><td>1876695 Records DK</td><td>9</td><td>46xWbTyrVH4gJ0FX9...</td><td>3jjZfOhykesKigL28...</td><td>122.54</td><td>009Q57lppBMdNuEcr...</td><td>4</td></tr>\n",
       "<tr><td>Relax Wellness Club</td><td>00A1yXIzC4O5Ml1qj...</td><td>354802</td><td>Spa Music Collect...</td><td>2016-05-05 00:00:...</td><td>Equilibrium</td><td>2</td><td>4LR9MPb3riuG4lOUm...</td><td>1SCcGiO55FdSBUB1E...</td><td>354.802</td><td>00A1yXIzC4O5Ml1qj...</td><td>0</td></tr>\n",
       "<tr><td>I Draw The Line</td><td>00APtT0L0lhZuP833...</td><td>209035</td><td>Boom Chicka Boom</td><td>1990-02-01 00:00:...</td><td>Mercury Nashville</td><td>44</td><td>6GUx0WxW4ZuHkWmoJ...</td><td>6kACVPfCOnqzgfEF5...</td><td>209.035</td><td>00APtT0L0lhZuP833...</td><td>10</td></tr>\n",
       "<tr><td>Reach Out</td><td>00B7SBwrjbycLMOgA...</td><td>251588</td><td>Return Of The Dre...</td><td>2022-10-14 00:00:...</td><td>Warner Records</td><td>67</td><td>0KJc9ksnoJJsdpQxV...</td><td>0L8ExT028jH3ddEcZ...</td><td>251.588</td><td>00B7SBwrjbycLMOgA...</td><td>53</td></tr>\n",
       "<tr><td>It&#x27;S Five O&#x27;Clock...</td><td>00BdoVNysIwp46QiH...</td><td>226507</td><td>Tune Robbers Play...</td><td>2013-02-10 00:00:...</td><td>Rosenklang</td><td>4</td><td>34vdIA7tYbFwk66nA...</td><td>0rpos3tdyyc5uoxMM...</td><td>226.507</td><td>00BdoVNysIwp46QiH...</td><td>0</td></tr>\n",
       "<tr><td>One Right Now (Wi...</td><td>00Blm7zeNqgYLPtW6...</td><td>193506</td><td>One Right Now</td><td>2021-11-05 00:00:...</td><td>Republic Records</td><td>66</td><td>6fgSKdHloRioPrZ9o...</td><td>246dkjvS1zLTtiykX...</td><td>193.506</td><td>00Blm7zeNqgYLPtW6...</td><td>76</td></tr>\n",
       "<tr><td>Creed</td><td>00C4O8O49LylYMEak...</td><td>95266</td><td>The Divine Liturg...</td><td>2014-09-22 00:00:...</td><td>iMusician Digital</td><td>20</td><td>2SW89qOIPgygnAWUR...</td><td>4qDtZOaZ88GIwj3vX...</td><td>95.266</td><td>00C4O8O49LylYMEak...</td><td>3</td></tr>\n",
       "</table>\n",
       "only showing top 20 rows\n"
      ],
      "text/plain": [
       "+--------------------+--------------------+-----------+--------------------+--------------------+--------------------+----------------+--------------------+--------------------+------------+--------------------+----------------+\n",
       "|          track_name|            track_id|duration_ms|          album_name|        release_date|               label|album_popularity|            album_id|           artist_id|duration_sec|            track_id|track_popularity|\n",
       "+--------------------+--------------------+-----------+--------------------+--------------------+--------------------+----------------+--------------------+--------------------+------------+--------------------+----------------+\n",
       "|        Well Beloved|0016Jwu7iPHEiMaNa...|     188800|               Naked|2010-09-10 00:00:...|         Independent|               0|0FOs1Pyp9zJ0ggiHQ...|5dh93RpwHPgebprlj...|       188.8|0016Jwu7iPHEiMaNa...|               0|\n",
       "|       Umbrella Rain|0022Eu2UtAvfVgWra...|     130393|50 Bright Storm S...|2023-06-07 00:00:...|        Sami Springs|               0|2EYKmfFsVpVYbzRtR...|6lctHtPhtXXcYdjZ1...|     130.393|0022Eu2UtAvfVgWra...|               0|\n",
       "|Chapter 2.3 - Sho...|0029VZDtHEDxeiLmX...|     194900|Short Stories Col...|2018-10-08 00:00:...|   Oregan Publishing|               0|16FbBzfeQRW3tE6Kx...|6pcPyOpEwaoP9q7wO...|       194.9|0029VZDtHEDxeiLmX...|               0|\n",
       "|Her Favorite Jhen...|002bswHma4hktXBoP...|     125915|Her Favorite Jhen...|2023-04-28 00:00:...|Good ForEver, LLC...|               3|5LpX3WzIhS2hqE3Jv...|0PnrpdWmz1aJYJfNP...|     125.915|002bswHma4hktXBoP...|               8|\n",
       "|         Metal Cross|003MuGj4LXAJmeWfB...|     103248|   Broad Is The Gate|2014-11-01 00:00:...|       Armor Records|               9|204uXvhoxTRbUtDYi...|0fY32zOZQBIUFh6rD...|     103.248|003MuGj4LXAJmeWfB...|               3|\n",
       "|               Vs Vs|005oOiRXjWlPq0ZAl...|     462940|   Cause & Affection|2019-04-05 00:00:...|            Oginalii|               4|5OBBzM3zlIaUaWhjh...|6qeuyLF8sOYKgFtG1...|      462.94|005oOiRXjWlPq0ZAl...|               2|\n",
       "|A Keeper - Instru...|005pCnVBrhyHXNSQz...|     175087|A Keeper (Instrum...|2022-07-22 00:00:...|        Cardo Grandz|               3|2ySKxLEieyCvCvBdX...|35XjW3cHxFFqSKAvP...|     175.087|005pCnVBrhyHXNSQz...|               8|\n",
       "|           Get Lucky|0065FotZCK8uABeEj...|     226256|           Get Lucky|2021-05-15 00:00:...|  2391362 Records DK|              23|1NFmU5WAqNQfghzy9...|5JN2YncFtK5ivttFG...|     226.256|0065FotZCK8uABeEj...|              32|\n",
       "|     Between Inertia|006IQLethFbiBPxDt...|     278638|Beyond The Exosphere|2016-04-15 00:00:...|   591334 Records DK|               7|2H1Wu3geHccgFx1U4...|7htuhsyjWD5kh61At...|     278.638|006IQLethFbiBPxDt...|               0|\n",
       "|Jesus Está Espera...|006tLTJ3fELYk5qcL...|     152706|Jesus Está Esperando|2023-03-07 00:00:...|Gravadora Novo Tempo|               7|6IH7cgrbN5ogPDvJD...|0YzJ06OIsg2qSkxhA...|     152.706|006tLTJ3fELYk5qcL...|               3|\n",
       "|Happy Birthday Yo...|006wOKIejlckE0wro...|     281311|Refried - Remixes...|2019-09-27 00:00:...|    Atomic Art / EMG|              23|144IDQA4GrR8dDF2T...|6ZEUa75BqZkvpjhuV...|     281.311|006wOKIejlckE0wro...|               0|\n",
       "|             Cyclone|007EzaTPPYcmAVdDV...|     123750| Box Of Marshmallows|2022-02-08 00:00:...|    Evgeny Bardyuzha|               5|5dvyCLrc6Z7zDVyT9...|0t5cfyMGeJkZyUXjH...|      123.75|007EzaTPPYcmAVdDV...|               0|\n",
       "| The Eastern Way Out|008VTSvcXsmXOWWTA...|     229293|         Collections|2007-05-11 00:00:...|Sony BMG Music En...|              19|3oUsI68ocqvpjzTsz...|7jQDCbxYM9t8bLCd2...|     229.293|008VTSvcXsmXOWWTA...|               5|\n",
       "|          Jugg God 2|009Q57lppBMdNuEcr...|     122540|Get Rich Or Die J...|2021-12-12 00:00:...|  1876695 Records DK|               9|46xWbTyrVH4gJ0FX9...|3jjZfOhykesKigL28...|      122.54|009Q57lppBMdNuEcr...|               4|\n",
       "| Relax Wellness Club|00A1yXIzC4O5Ml1qj...|     354802|Spa Music Collect...|2016-05-05 00:00:...|         Equilibrium|               2|4LR9MPb3riuG4lOUm...|1SCcGiO55FdSBUB1E...|     354.802|00A1yXIzC4O5Ml1qj...|               0|\n",
       "|     I Draw The Line|00APtT0L0lhZuP833...|     209035|    Boom Chicka Boom|1990-02-01 00:00:...|   Mercury Nashville|              44|6GUx0WxW4ZuHkWmoJ...|6kACVPfCOnqzgfEF5...|     209.035|00APtT0L0lhZuP833...|              10|\n",
       "|           Reach Out|00B7SBwrjbycLMOgA...|     251588|Return Of The Dre...|2022-10-14 00:00:...|      Warner Records|              67|0KJc9ksnoJJsdpQxV...|0L8ExT028jH3ddEcZ...|     251.588|00B7SBwrjbycLMOgA...|              53|\n",
       "|It'S Five O'Clock...|00BdoVNysIwp46QiH...|     226507|Tune Robbers Play...|2013-02-10 00:00:...|          Rosenklang|               4|34vdIA7tYbFwk66nA...|0rpos3tdyyc5uoxMM...|     226.507|00BdoVNysIwp46QiH...|               0|\n",
       "|One Right Now (Wi...|00Blm7zeNqgYLPtW6...|     193506|       One Right Now|2021-11-05 00:00:...|    Republic Records|              66|6fgSKdHloRioPrZ9o...|246dkjvS1zLTtiykX...|     193.506|00Blm7zeNqgYLPtW6...|              76|\n",
       "|               Creed|00C4O8O49LylYMEak...|      95266|The Divine Liturg...|2014-09-22 00:00:...|   iMusician Digital|              20|2SW89qOIPgygnAWUR...|4qDtZOaZ88GIwj3vX...|      95.266|00C4O8O49LylYMEak...|               3|\n",
       "+--------------------+--------------------+-----------+--------------------+--------------------+--------------------+----------------+--------------------+--------------------+------------+--------------------+----------------+\n",
       "only showing top 20 rows"
      ]
     },
     "execution_count": 47,
     "metadata": {},
     "output_type": "execute_result"
    }
   ],
   "source": [
    "albums.join(tracks,albums['track_id']==tracks['track_id'])"
   ]
  },
  {
   "cell_type": "code",
   "execution_count": 49,
   "id": "70759e2d",
   "metadata": {},
   "outputs": [
    {
     "data": {
      "text/html": [
       "<table border='1'>\n",
       "<tr><th>track_name</th><th>track_id</th><th>duration_ms</th><th>album_name</th><th>release_date</th><th>label</th><th>album_popularity</th><th>album_id</th><th>artist_id</th><th>duration_sec</th><th>track_id</th><th>track_popularity</th></tr>\n",
       "<tr><td>Well Beloved</td><td>0016Jwu7iPHEiMaNa...</td><td>188800</td><td>Naked</td><td>2010-09-10 00:00:...</td><td>Independent</td><td>0</td><td>0FOs1Pyp9zJ0ggiHQ...</td><td>5dh93RpwHPgebprlj...</td><td>188.8</td><td>0016Jwu7iPHEiMaNa...</td><td>0</td></tr>\n",
       "<tr><td>Umbrella Rain</td><td>0022Eu2UtAvfVgWra...</td><td>130393</td><td>50 Bright Storm S...</td><td>2023-06-07 00:00:...</td><td>Sami Springs</td><td>0</td><td>2EYKmfFsVpVYbzRtR...</td><td>6lctHtPhtXXcYdjZ1...</td><td>130.393</td><td>0022Eu2UtAvfVgWra...</td><td>0</td></tr>\n",
       "<tr><td>Chapter 2.3 - Sho...</td><td>0029VZDtHEDxeiLmX...</td><td>194900</td><td>Short Stories Col...</td><td>2018-10-08 00:00:...</td><td>Oregan Publishing</td><td>0</td><td>16FbBzfeQRW3tE6Kx...</td><td>6pcPyOpEwaoP9q7wO...</td><td>194.9</td><td>0029VZDtHEDxeiLmX...</td><td>0</td></tr>\n",
       "<tr><td>Her Favorite Jhen...</td><td>002bswHma4hktXBoP...</td><td>125915</td><td>Her Favorite Jhen...</td><td>2023-04-28 00:00:...</td><td>Good ForEver, LLC...</td><td>3</td><td>5LpX3WzIhS2hqE3Jv...</td><td>0PnrpdWmz1aJYJfNP...</td><td>125.915</td><td>002bswHma4hktXBoP...</td><td>8</td></tr>\n",
       "<tr><td>Metal Cross</td><td>003MuGj4LXAJmeWfB...</td><td>103248</td><td>Broad Is The Gate</td><td>2014-11-01 00:00:...</td><td>Armor Records</td><td>9</td><td>204uXvhoxTRbUtDYi...</td><td>0fY32zOZQBIUFh6rD...</td><td>103.248</td><td>003MuGj4LXAJmeWfB...</td><td>3</td></tr>\n",
       "<tr><td>Vs Vs</td><td>005oOiRXjWlPq0ZAl...</td><td>462940</td><td>Cause &amp; Affection</td><td>2019-04-05 00:00:...</td><td>Oginalii</td><td>4</td><td>5OBBzM3zlIaUaWhjh...</td><td>6qeuyLF8sOYKgFtG1...</td><td>462.94</td><td>005oOiRXjWlPq0ZAl...</td><td>2</td></tr>\n",
       "<tr><td>A Keeper - Instru...</td><td>005pCnVBrhyHXNSQz...</td><td>175087</td><td>A Keeper (Instrum...</td><td>2022-07-22 00:00:...</td><td>Cardo Grandz</td><td>3</td><td>2ySKxLEieyCvCvBdX...</td><td>35XjW3cHxFFqSKAvP...</td><td>175.087</td><td>005pCnVBrhyHXNSQz...</td><td>8</td></tr>\n",
       "<tr><td>Get Lucky</td><td>0065FotZCK8uABeEj...</td><td>226256</td><td>Get Lucky</td><td>2021-05-15 00:00:...</td><td>2391362 Records DK</td><td>23</td><td>1NFmU5WAqNQfghzy9...</td><td>5JN2YncFtK5ivttFG...</td><td>226.256</td><td>0065FotZCK8uABeEj...</td><td>32</td></tr>\n",
       "<tr><td>Between Inertia</td><td>006IQLethFbiBPxDt...</td><td>278638</td><td>Beyond The Exosphere</td><td>2016-04-15 00:00:...</td><td>591334 Records DK</td><td>7</td><td>2H1Wu3geHccgFx1U4...</td><td>7htuhsyjWD5kh61At...</td><td>278.638</td><td>006IQLethFbiBPxDt...</td><td>0</td></tr>\n",
       "<tr><td>Jesus Está Espera...</td><td>006tLTJ3fELYk5qcL...</td><td>152706</td><td>Jesus Está Esperando</td><td>2023-03-07 00:00:...</td><td>Gravadora Novo Tempo</td><td>7</td><td>6IH7cgrbN5ogPDvJD...</td><td>0YzJ06OIsg2qSkxhA...</td><td>152.706</td><td>006tLTJ3fELYk5qcL...</td><td>3</td></tr>\n",
       "<tr><td>Happy Birthday Yo...</td><td>006wOKIejlckE0wro...</td><td>281311</td><td>Refried - Remixes...</td><td>2019-09-27 00:00:...</td><td>Atomic Art / EMG</td><td>23</td><td>144IDQA4GrR8dDF2T...</td><td>6ZEUa75BqZkvpjhuV...</td><td>281.311</td><td>006wOKIejlckE0wro...</td><td>0</td></tr>\n",
       "<tr><td>Cyclone</td><td>007EzaTPPYcmAVdDV...</td><td>123750</td><td>Box Of Marshmallows</td><td>2022-02-08 00:00:...</td><td>Evgeny Bardyuzha</td><td>5</td><td>5dvyCLrc6Z7zDVyT9...</td><td>0t5cfyMGeJkZyUXjH...</td><td>123.75</td><td>007EzaTPPYcmAVdDV...</td><td>0</td></tr>\n",
       "<tr><td>The Eastern Way Out</td><td>008VTSvcXsmXOWWTA...</td><td>229293</td><td>Collections</td><td>2007-05-11 00:00:...</td><td>Sony BMG Music En...</td><td>19</td><td>3oUsI68ocqvpjzTsz...</td><td>7jQDCbxYM9t8bLCd2...</td><td>229.293</td><td>008VTSvcXsmXOWWTA...</td><td>5</td></tr>\n",
       "<tr><td>Jugg God 2</td><td>009Q57lppBMdNuEcr...</td><td>122540</td><td>Get Rich Or Die J...</td><td>2021-12-12 00:00:...</td><td>1876695 Records DK</td><td>9</td><td>46xWbTyrVH4gJ0FX9...</td><td>3jjZfOhykesKigL28...</td><td>122.54</td><td>009Q57lppBMdNuEcr...</td><td>4</td></tr>\n",
       "<tr><td>Relax Wellness Club</td><td>00A1yXIzC4O5Ml1qj...</td><td>354802</td><td>Spa Music Collect...</td><td>2016-05-05 00:00:...</td><td>Equilibrium</td><td>2</td><td>4LR9MPb3riuG4lOUm...</td><td>1SCcGiO55FdSBUB1E...</td><td>354.802</td><td>00A1yXIzC4O5Ml1qj...</td><td>0</td></tr>\n",
       "<tr><td>I Draw The Line</td><td>00APtT0L0lhZuP833...</td><td>209035</td><td>Boom Chicka Boom</td><td>1990-02-01 00:00:...</td><td>Mercury Nashville</td><td>44</td><td>6GUx0WxW4ZuHkWmoJ...</td><td>6kACVPfCOnqzgfEF5...</td><td>209.035</td><td>00APtT0L0lhZuP833...</td><td>10</td></tr>\n",
       "<tr><td>Reach Out</td><td>00B7SBwrjbycLMOgA...</td><td>251588</td><td>Return Of The Dre...</td><td>2022-10-14 00:00:...</td><td>Warner Records</td><td>67</td><td>0KJc9ksnoJJsdpQxV...</td><td>0L8ExT028jH3ddEcZ...</td><td>251.588</td><td>00B7SBwrjbycLMOgA...</td><td>53</td></tr>\n",
       "<tr><td>It&#x27;S Five O&#x27;Clock...</td><td>00BdoVNysIwp46QiH...</td><td>226507</td><td>Tune Robbers Play...</td><td>2013-02-10 00:00:...</td><td>Rosenklang</td><td>4</td><td>34vdIA7tYbFwk66nA...</td><td>0rpos3tdyyc5uoxMM...</td><td>226.507</td><td>00BdoVNysIwp46QiH...</td><td>0</td></tr>\n",
       "<tr><td>One Right Now (Wi...</td><td>00Blm7zeNqgYLPtW6...</td><td>193506</td><td>One Right Now</td><td>2021-11-05 00:00:...</td><td>Republic Records</td><td>66</td><td>6fgSKdHloRioPrZ9o...</td><td>246dkjvS1zLTtiykX...</td><td>193.506</td><td>00Blm7zeNqgYLPtW6...</td><td>76</td></tr>\n",
       "<tr><td>Creed</td><td>00C4O8O49LylYMEak...</td><td>95266</td><td>The Divine Liturg...</td><td>2014-09-22 00:00:...</td><td>iMusician Digital</td><td>20</td><td>2SW89qOIPgygnAWUR...</td><td>4qDtZOaZ88GIwj3vX...</td><td>95.266</td><td>00C4O8O49LylYMEak...</td><td>3</td></tr>\n",
       "</table>\n",
       "only showing top 20 rows\n"
      ],
      "text/plain": [
       "+--------------------+--------------------+-----------+--------------------+--------------------+--------------------+----------------+--------------------+--------------------+------------+--------------------+----------------+\n",
       "|          track_name|            track_id|duration_ms|          album_name|        release_date|               label|album_popularity|            album_id|           artist_id|duration_sec|            track_id|track_popularity|\n",
       "+--------------------+--------------------+-----------+--------------------+--------------------+--------------------+----------------+--------------------+--------------------+------------+--------------------+----------------+\n",
       "|        Well Beloved|0016Jwu7iPHEiMaNa...|     188800|               Naked|2010-09-10 00:00:...|         Independent|               0|0FOs1Pyp9zJ0ggiHQ...|5dh93RpwHPgebprlj...|       188.8|0016Jwu7iPHEiMaNa...|               0|\n",
       "|       Umbrella Rain|0022Eu2UtAvfVgWra...|     130393|50 Bright Storm S...|2023-06-07 00:00:...|        Sami Springs|               0|2EYKmfFsVpVYbzRtR...|6lctHtPhtXXcYdjZ1...|     130.393|0022Eu2UtAvfVgWra...|               0|\n",
       "|Chapter 2.3 - Sho...|0029VZDtHEDxeiLmX...|     194900|Short Stories Col...|2018-10-08 00:00:...|   Oregan Publishing|               0|16FbBzfeQRW3tE6Kx...|6pcPyOpEwaoP9q7wO...|       194.9|0029VZDtHEDxeiLmX...|               0|\n",
       "|Her Favorite Jhen...|002bswHma4hktXBoP...|     125915|Her Favorite Jhen...|2023-04-28 00:00:...|Good ForEver, LLC...|               3|5LpX3WzIhS2hqE3Jv...|0PnrpdWmz1aJYJfNP...|     125.915|002bswHma4hktXBoP...|               8|\n",
       "|         Metal Cross|003MuGj4LXAJmeWfB...|     103248|   Broad Is The Gate|2014-11-01 00:00:...|       Armor Records|               9|204uXvhoxTRbUtDYi...|0fY32zOZQBIUFh6rD...|     103.248|003MuGj4LXAJmeWfB...|               3|\n",
       "|               Vs Vs|005oOiRXjWlPq0ZAl...|     462940|   Cause & Affection|2019-04-05 00:00:...|            Oginalii|               4|5OBBzM3zlIaUaWhjh...|6qeuyLF8sOYKgFtG1...|      462.94|005oOiRXjWlPq0ZAl...|               2|\n",
       "|A Keeper - Instru...|005pCnVBrhyHXNSQz...|     175087|A Keeper (Instrum...|2022-07-22 00:00:...|        Cardo Grandz|               3|2ySKxLEieyCvCvBdX...|35XjW3cHxFFqSKAvP...|     175.087|005pCnVBrhyHXNSQz...|               8|\n",
       "|           Get Lucky|0065FotZCK8uABeEj...|     226256|           Get Lucky|2021-05-15 00:00:...|  2391362 Records DK|              23|1NFmU5WAqNQfghzy9...|5JN2YncFtK5ivttFG...|     226.256|0065FotZCK8uABeEj...|              32|\n",
       "|     Between Inertia|006IQLethFbiBPxDt...|     278638|Beyond The Exosphere|2016-04-15 00:00:...|   591334 Records DK|               7|2H1Wu3geHccgFx1U4...|7htuhsyjWD5kh61At...|     278.638|006IQLethFbiBPxDt...|               0|\n",
       "|Jesus Está Espera...|006tLTJ3fELYk5qcL...|     152706|Jesus Está Esperando|2023-03-07 00:00:...|Gravadora Novo Tempo|               7|6IH7cgrbN5ogPDvJD...|0YzJ06OIsg2qSkxhA...|     152.706|006tLTJ3fELYk5qcL...|               3|\n",
       "|Happy Birthday Yo...|006wOKIejlckE0wro...|     281311|Refried - Remixes...|2019-09-27 00:00:...|    Atomic Art / EMG|              23|144IDQA4GrR8dDF2T...|6ZEUa75BqZkvpjhuV...|     281.311|006wOKIejlckE0wro...|               0|\n",
       "|             Cyclone|007EzaTPPYcmAVdDV...|     123750| Box Of Marshmallows|2022-02-08 00:00:...|    Evgeny Bardyuzha|               5|5dvyCLrc6Z7zDVyT9...|0t5cfyMGeJkZyUXjH...|      123.75|007EzaTPPYcmAVdDV...|               0|\n",
       "| The Eastern Way Out|008VTSvcXsmXOWWTA...|     229293|         Collections|2007-05-11 00:00:...|Sony BMG Music En...|              19|3oUsI68ocqvpjzTsz...|7jQDCbxYM9t8bLCd2...|     229.293|008VTSvcXsmXOWWTA...|               5|\n",
       "|          Jugg God 2|009Q57lppBMdNuEcr...|     122540|Get Rich Or Die J...|2021-12-12 00:00:...|  1876695 Records DK|               9|46xWbTyrVH4gJ0FX9...|3jjZfOhykesKigL28...|      122.54|009Q57lppBMdNuEcr...|               4|\n",
       "| Relax Wellness Club|00A1yXIzC4O5Ml1qj...|     354802|Spa Music Collect...|2016-05-05 00:00:...|         Equilibrium|               2|4LR9MPb3riuG4lOUm...|1SCcGiO55FdSBUB1E...|     354.802|00A1yXIzC4O5Ml1qj...|               0|\n",
       "|     I Draw The Line|00APtT0L0lhZuP833...|     209035|    Boom Chicka Boom|1990-02-01 00:00:...|   Mercury Nashville|              44|6GUx0WxW4ZuHkWmoJ...|6kACVPfCOnqzgfEF5...|     209.035|00APtT0L0lhZuP833...|              10|\n",
       "|           Reach Out|00B7SBwrjbycLMOgA...|     251588|Return Of The Dre...|2022-10-14 00:00:...|      Warner Records|              67|0KJc9ksnoJJsdpQxV...|0L8ExT028jH3ddEcZ...|     251.588|00B7SBwrjbycLMOgA...|              53|\n",
       "|It'S Five O'Clock...|00BdoVNysIwp46QiH...|     226507|Tune Robbers Play...|2013-02-10 00:00:...|          Rosenklang|               4|34vdIA7tYbFwk66nA...|0rpos3tdyyc5uoxMM...|     226.507|00BdoVNysIwp46QiH...|               0|\n",
       "|One Right Now (Wi...|00Blm7zeNqgYLPtW6...|     193506|       One Right Now|2021-11-05 00:00:...|    Republic Records|              66|6fgSKdHloRioPrZ9o...|246dkjvS1zLTtiykX...|     193.506|00Blm7zeNqgYLPtW6...|              76|\n",
       "|               Creed|00C4O8O49LylYMEak...|      95266|The Divine Liturg...|2014-09-22 00:00:...|   iMusician Digital|              20|2SW89qOIPgygnAWUR...|4qDtZOaZ88GIwj3vX...|      95.266|00C4O8O49LylYMEak...|               3|\n",
       "+--------------------+--------------------+-----------+--------------------+--------------------+--------------------+----------------+--------------------+--------------------+------------+--------------------+----------------+\n",
       "only showing top 20 rows"
      ]
     },
     "execution_count": 49,
     "metadata": {},
     "output_type": "execute_result"
    }
   ],
   "source": [
    "spark.sql(\"select * from albums1 join tracks1 on albums1.track_id = tracks1.track_id \")"
   ]
  },
  {
   "cell_type": "code",
   "execution_count": 35,
   "id": "933f4f68",
   "metadata": {},
   "outputs": [
    {
     "data": {
      "text/html": [
       "<table border='1'>\n",
       "<tr><th>id</th><th>name</th><th>artist_popularity</th><th>followers</th><th>genre</th></tr>\n",
       "<tr><td>6GkSLJj5CGLIckLIb...</td><td>Late Night Fights</td><td>0</td><td>184</td><td>minneapolis punk</td></tr>\n",
       "<tr><td>1N0VwQy5PRJymrRvl...</td><td>Sub Par All Star</td><td>0</td><td>491</td><td>antiviral pop</td></tr>\n",
       "<tr><td>4Ch4BIKKwMJsiu1oV...</td><td>Nirvana Meditatio...</td><td>0</td><td>56</td><td>8d</td></tr>\n",
       "<tr><td>5h2iINTOvhghVcpIz...</td><td>Red Hot Rebellion</td><td>0</td><td>394</td><td>action rock</td></tr>\n",
       "<tr><td>7dE2MLL2SaI6MujpU...</td><td>Nirvana Tribute Band</td><td>0</td><td>230</td><td>tribute</td></tr>\n",
       "<tr><td>2cdjmWomWpKyQ0Hqg...</td><td>Wyli P</td><td>0</td><td>7479</td><td>memphis hip hop</td></tr>\n",
       "<tr><td>5g1ztx52qgchXwiRZ...</td><td>Caul</td><td>1</td><td>688</td><td>dark ambient</td></tr>\n",
       "<tr><td>3NjmnKYEuN92YZiWV...</td><td>Chicago Blues All...</td><td>1</td><td>730</td><td>chicago blues</td></tr>\n",
       "<tr><td>3hqLYpiTCdvz5lG3Y...</td><td>Lew Lewis &amp; The T...</td><td>1</td><td>500</td><td>neo-rockabilly</td></tr>\n",
       "<tr><td>06hu6DFeD2bfdBAts...</td><td>Lower Life Forms</td><td>1</td><td>169</td><td>deep east coast h...</td></tr>\n",
       "<tr><td>1DyHyc6v28ZCrA7Ql...</td><td>Whoopee John Wilf...</td><td>1</td><td>211</td><td>polka</td></tr>\n",
       "<tr><td>3DnNVpLZI0vFQCYIi...</td><td>Dieter Kropp</td><td>2</td><td>170</td><td>german blues</td></tr>\n",
       "<tr><td>6XblJ5Nas2VsL9s5H...</td><td>Chilli Willi &amp; Th...</td><td>2</td><td>1605</td><td>pub rock</td></tr>\n",
       "<tr><td>4BTddjd5LzqjQ5WAV...</td><td>Abronia</td><td>2</td><td>1123</td><td>cascadia psych</td></tr>\n",
       "<tr><td>1o9N4cb5eZ5x2HLOO...</td><td>Trio Fibonacci</td><td>3</td><td>195</td><td>classical piano trio</td></tr>\n",
       "<tr><td>112gcdWQhFcd3clCq...</td><td>Thomas Erak and T...</td><td>3</td><td>1429</td><td>swancore</td></tr>\n",
       "<tr><td>2ay2iSqgCqEQHzRlf...</td><td>Little Rachel</td><td>3</td><td>443</td><td>neo-rockabilly</td></tr>\n",
       "<tr><td>62XaAZIhLNRc3x1KB...</td><td>Bad Actress</td><td>3</td><td>761</td><td>nwocr</td></tr>\n",
       "<tr><td>2DEKbExrCn2gANebr...</td><td>Jacob Anderskov</td><td>4</td><td>402</td><td>danish jazz</td></tr>\n",
       "<tr><td>68D0NSkqx99hNYB26...</td><td>M1CK3Y</td><td>4</td><td>142</td><td>future bounce</td></tr>\n",
       "</table>\n",
       "only showing top 20 rows\n"
      ],
      "text/plain": [
       "+--------------------+--------------------+-----------------+---------+--------------------+\n",
       "|                  id|                name|artist_popularity|followers|               genre|\n",
       "+--------------------+--------------------+-----------------+---------+--------------------+\n",
       "|6GkSLJj5CGLIckLIb...|   Late Night Fights|                0|      184|    minneapolis punk|\n",
       "|1N0VwQy5PRJymrRvl...|    Sub Par All Star|                0|      491|       antiviral pop|\n",
       "|4Ch4BIKKwMJsiu1oV...|Nirvana Meditatio...|                0|       56|                  8d|\n",
       "|5h2iINTOvhghVcpIz...|   Red Hot Rebellion|                0|      394|         action rock|\n",
       "|7dE2MLL2SaI6MujpU...|Nirvana Tribute Band|                0|      230|             tribute|\n",
       "|2cdjmWomWpKyQ0Hqg...|              Wyli P|                0|     7479|     memphis hip hop|\n",
       "|5g1ztx52qgchXwiRZ...|                Caul|                1|      688|        dark ambient|\n",
       "|3NjmnKYEuN92YZiWV...|Chicago Blues All...|                1|      730|       chicago blues|\n",
       "|3hqLYpiTCdvz5lG3Y...|Lew Lewis & The T...|                1|      500|      neo-rockabilly|\n",
       "|06hu6DFeD2bfdBAts...|    Lower Life Forms|                1|      169|deep east coast h...|\n",
       "|1DyHyc6v28ZCrA7Ql...|Whoopee John Wilf...|                1|      211|               polka|\n",
       "|3DnNVpLZI0vFQCYIi...|        Dieter Kropp|                2|      170|        german blues|\n",
       "|6XblJ5Nas2VsL9s5H...|Chilli Willi & Th...|                2|     1605|            pub rock|\n",
       "|4BTddjd5LzqjQ5WAV...|             Abronia|                2|     1123|      cascadia psych|\n",
       "|1o9N4cb5eZ5x2HLOO...|      Trio Fibonacci|                3|      195|classical piano trio|\n",
       "|112gcdWQhFcd3clCq...|Thomas Erak and T...|                3|     1429|            swancore|\n",
       "|2ay2iSqgCqEQHzRlf...|       Little Rachel|                3|      443|      neo-rockabilly|\n",
       "|62XaAZIhLNRc3x1KB...|         Bad Actress|                3|      761|               nwocr|\n",
       "|2DEKbExrCn2gANebr...|     Jacob Anderskov|                4|      402|         danish jazz|\n",
       "|68D0NSkqx99hNYB26...|              M1CK3Y|                4|      142|       future bounce|\n",
       "+--------------------+--------------------+-----------------+---------+--------------------+\n",
       "only showing top 20 rows"
      ]
     },
     "execution_count": 35,
     "metadata": {},
     "output_type": "execute_result"
    }
   ],
   "source": [
    "spark.sql('select * from artists1')"
   ]
  },
  {
   "cell_type": "code",
   "execution_count": 44,
   "id": "38a0f0df",
   "metadata": {},
   "outputs": [
    {
     "data": {
      "text/html": [
       "<table border='1'>\n",
       "<tr><th>track_name</th><th>track_id</th><th>duration_ms</th><th>album_name</th><th>release_date</th><th>label</th><th>album_popularity</th><th>album_id</th><th>artist_id</th><th>duration_sec</th></tr>\n",
       "<tr><td>Amazing Grace</td><td>6mN8nzCXWUeT5LWEc...</td><td>555521</td><td>Deep Peace Experi...</td><td>2015-06-09 00:00:...</td><td>Mountain Music Inc</td><td>6</td><td>3VoHMFQzFr9v163HX...</td><td>002nyxOMwdc9EgNEo...</td><td>555.521</td></tr>\n",
       "<tr><td>Silent Night</td><td>58sgjtx3FOnBBEOd3...</td><td>535041</td><td>Deep Peace Experi...</td><td>2015-06-09 00:00:...</td><td>Mountain Music Inc</td><td>6</td><td>3VoHMFQzFr9v163HX...</td><td>002nyxOMwdc9EgNEo...</td><td>535.041</td></tr>\n",
       "<tr><td>Ancient Canyons</td><td>45tQJhm0WSk5VWMZK...</td><td>545855</td><td>Deep Peace Experi...</td><td>2015-06-09 00:00:...</td><td>Mountain Music Inc</td><td>6</td><td>3VoHMFQzFr9v163HX...</td><td>002nyxOMwdc9EgNEo...</td><td>545.855</td></tr>\n",
       "<tr><td>Pacha Mama Medicina</td><td>3VFD7QqkJSg0OR6yB...</td><td>305241</td><td>Deep Peace Experi...</td><td>2015-06-09 00:00:...</td><td>Mountain Music Inc</td><td>6</td><td>3VoHMFQzFr9v163HX...</td><td>002nyxOMwdc9EgNEo...</td><td>305.241</td></tr>\n",
       "<tr><td>Palace Of Light</td><td>7LwJV5BEIC9BQnzva...</td><td>351060</td><td>Deep Peace Experi...</td><td>2015-06-09 00:00:...</td><td>Mountain Music Inc</td><td>6</td><td>3VoHMFQzFr9v163HX...</td><td>002nyxOMwdc9EgNEo...</td><td>351.06</td></tr>\n",
       "<tr><td>Jeweled Lotus (Om...</td><td>3I9hXJVjdNYnNfJ5P...</td><td>562887</td><td>Deep Peace Experi...</td><td>2015-06-09 00:00:...</td><td>Mountain Music Inc</td><td>6</td><td>3VoHMFQzFr9v163HX...</td><td>002nyxOMwdc9EgNEo...</td><td>562.887</td></tr>\n",
       "<tr><td>Loka (May All Bei...</td><td>0K3bvVuJZTrhK8S4y...</td><td>417908</td><td>Deep Peace Experi...</td><td>2015-06-09 00:00:...</td><td>Mountain Music Inc</td><td>6</td><td>3VoHMFQzFr9v163HX...</td><td>002nyxOMwdc9EgNEo...</td><td>417.908</td></tr>\n",
       "<tr><td>Shiva Radiance (I...</td><td>3Vke9b8vKfG5evYn5...</td><td>553509</td><td>Deep Peace Experi...</td><td>2015-06-09 00:00:...</td><td>Mountain Music Inc</td><td>6</td><td>3VoHMFQzFr9v163HX...</td><td>002nyxOMwdc9EgNEo...</td><td>553.509</td></tr>\n",
       "<tr><td>Dream Healing</td><td>0z2oH4GgrXdWE0Fic...</td><td>581434</td><td>Deep Peace Experi...</td><td>2015-06-09 00:00:...</td><td>Mountain Music Inc</td><td>6</td><td>3VoHMFQzFr9v163HX...</td><td>002nyxOMwdc9EgNEo...</td><td>581.434</td></tr>\n",
       "<tr><td>See The World Burn</td><td>6cCOUBWo2uSz8Eio8...</td><td>164217</td><td>Black Sands: Offi...</td><td>2019-12-20 00:00:...</td><td>1521914 Records DK2</td><td>2</td><td>3P7ScpNUSc9xEdVPD...</td><td>005nJcjkbJcDqEDV7...</td><td>164.217</td></tr>\n",
       "<tr><td>Black Sands</td><td>6T0w8wrJhIMiBqVmC...</td><td>151287</td><td>Black Sands: Offi...</td><td>2019-12-20 00:00:...</td><td>1521914 Records DK2</td><td>2</td><td>3P7ScpNUSc9xEdVPD...</td><td>005nJcjkbJcDqEDV7...</td><td>151.287</td></tr>\n",
       "<tr><td>Squad Goals</td><td>1RDxImYrRLV8gpL5J...</td><td>257977</td><td>Black Sands: Offi...</td><td>2019-12-20 00:00:...</td><td>1521914 Records DK2</td><td>2</td><td>3P7ScpNUSc9xEdVPD...</td><td>005nJcjkbJcDqEDV7...</td><td>257.977</td></tr>\n",
       "<tr><td>All Gold</td><td>3UYPhAxyuc7XTQX0R...</td><td>130462</td><td>Black Sands: Offi...</td><td>2019-12-20 00:00:...</td><td>1521914 Records DK2</td><td>2</td><td>3P7ScpNUSc9xEdVPD...</td><td>005nJcjkbJcDqEDV7...</td><td>130.462</td></tr>\n",
       "<tr><td>Gladiators</td><td>5rVuUcCfe2SBd0I1Y...</td><td>216503</td><td>Black Sands: Offi...</td><td>2019-12-20 00:00:...</td><td>1521914 Records DK2</td><td>2</td><td>3P7ScpNUSc9xEdVPD...</td><td>005nJcjkbJcDqEDV7...</td><td>216.503</td></tr>\n",
       "<tr><td>Power</td><td>5sRZJDjMfqeGqzcf7...</td><td>213052</td><td>Black Sands: Offi...</td><td>2019-12-20 00:00:...</td><td>1521914 Records DK2</td><td>2</td><td>3P7ScpNUSc9xEdVPD...</td><td>005nJcjkbJcDqEDV7...</td><td>213.052</td></tr>\n",
       "<tr><td>Bright Side</td><td>4zpLDzxAl6ZwaeWzL...</td><td>210557</td><td>Black Sands: Offi...</td><td>2019-12-20 00:00:...</td><td>1521914 Records DK2</td><td>2</td><td>3P7ScpNUSc9xEdVPD...</td><td>005nJcjkbJcDqEDV7...</td><td>210.557</td></tr>\n",
       "<tr><td>Rumble In Kerma</td><td>62vwux2aauHam2wQK...</td><td>171977</td><td>Black Sands: Offi...</td><td>2019-12-20 00:00:...</td><td>1521914 Records DK2</td><td>2</td><td>3P7ScpNUSc9xEdVPD...</td><td>005nJcjkbJcDqEDV7...</td><td>171.977</td></tr>\n",
       "<tr><td>The Coin</td><td>1sgVXkabERazto6eP...</td><td>243664</td><td>Black Sands: Offi...</td><td>2019-12-20 00:00:...</td><td>1521914 Records DK2</td><td>2</td><td>3P7ScpNUSc9xEdVPD...</td><td>005nJcjkbJcDqEDV7...</td><td>243.664</td></tr>\n",
       "<tr><td>Kings And Queens</td><td>3yGRnVDOx6PqFjrC4...</td><td>195084</td><td>Black Sands: Offi...</td><td>2019-12-20 00:00:...</td><td>1521914 Records DK2</td><td>2</td><td>3P7ScpNUSc9xEdVPD...</td><td>005nJcjkbJcDqEDV7...</td><td>195.084</td></tr>\n",
       "<tr><td>Reign</td><td>3CqlwRGISC92ue2s9...</td><td>261256</td><td>Black Sands: Offi...</td><td>2019-12-20 00:00:...</td><td>1521914 Records DK2</td><td>2</td><td>3P7ScpNUSc9xEdVPD...</td><td>005nJcjkbJcDqEDV7...</td><td>261.256</td></tr>\n",
       "</table>\n",
       "only showing top 20 rows\n"
      ],
      "text/plain": [
       "+--------------------+--------------------+-----------+--------------------+--------------------+-------------------+----------------+--------------------+--------------------+------------+\n",
       "|          track_name|            track_id|duration_ms|          album_name|        release_date|              label|album_popularity|            album_id|           artist_id|duration_sec|\n",
       "+--------------------+--------------------+-----------+--------------------+--------------------+-------------------+----------------+--------------------+--------------------+------------+\n",
       "|       Amazing Grace|6mN8nzCXWUeT5LWEc...|     555521|Deep Peace Experi...|2015-06-09 00:00:...| Mountain Music Inc|               6|3VoHMFQzFr9v163HX...|002nyxOMwdc9EgNEo...|     555.521|\n",
       "|        Silent Night|58sgjtx3FOnBBEOd3...|     535041|Deep Peace Experi...|2015-06-09 00:00:...| Mountain Music Inc|               6|3VoHMFQzFr9v163HX...|002nyxOMwdc9EgNEo...|     535.041|\n",
       "|     Ancient Canyons|45tQJhm0WSk5VWMZK...|     545855|Deep Peace Experi...|2015-06-09 00:00:...| Mountain Music Inc|               6|3VoHMFQzFr9v163HX...|002nyxOMwdc9EgNEo...|     545.855|\n",
       "| Pacha Mama Medicina|3VFD7QqkJSg0OR6yB...|     305241|Deep Peace Experi...|2015-06-09 00:00:...| Mountain Music Inc|               6|3VoHMFQzFr9v163HX...|002nyxOMwdc9EgNEo...|     305.241|\n",
       "|     Palace Of Light|7LwJV5BEIC9BQnzva...|     351060|Deep Peace Experi...|2015-06-09 00:00:...| Mountain Music Inc|               6|3VoHMFQzFr9v163HX...|002nyxOMwdc9EgNEo...|      351.06|\n",
       "|Jeweled Lotus (Om...|3I9hXJVjdNYnNfJ5P...|     562887|Deep Peace Experi...|2015-06-09 00:00:...| Mountain Music Inc|               6|3VoHMFQzFr9v163HX...|002nyxOMwdc9EgNEo...|     562.887|\n",
       "|Loka (May All Bei...|0K3bvVuJZTrhK8S4y...|     417908|Deep Peace Experi...|2015-06-09 00:00:...| Mountain Music Inc|               6|3VoHMFQzFr9v163HX...|002nyxOMwdc9EgNEo...|     417.908|\n",
       "|Shiva Radiance (I...|3Vke9b8vKfG5evYn5...|     553509|Deep Peace Experi...|2015-06-09 00:00:...| Mountain Music Inc|               6|3VoHMFQzFr9v163HX...|002nyxOMwdc9EgNEo...|     553.509|\n",
       "|       Dream Healing|0z2oH4GgrXdWE0Fic...|     581434|Deep Peace Experi...|2015-06-09 00:00:...| Mountain Music Inc|               6|3VoHMFQzFr9v163HX...|002nyxOMwdc9EgNEo...|     581.434|\n",
       "|  See The World Burn|6cCOUBWo2uSz8Eio8...|     164217|Black Sands: Offi...|2019-12-20 00:00:...|1521914 Records DK2|               2|3P7ScpNUSc9xEdVPD...|005nJcjkbJcDqEDV7...|     164.217|\n",
       "|         Black Sands|6T0w8wrJhIMiBqVmC...|     151287|Black Sands: Offi...|2019-12-20 00:00:...|1521914 Records DK2|               2|3P7ScpNUSc9xEdVPD...|005nJcjkbJcDqEDV7...|     151.287|\n",
       "|         Squad Goals|1RDxImYrRLV8gpL5J...|     257977|Black Sands: Offi...|2019-12-20 00:00:...|1521914 Records DK2|               2|3P7ScpNUSc9xEdVPD...|005nJcjkbJcDqEDV7...|     257.977|\n",
       "|            All Gold|3UYPhAxyuc7XTQX0R...|     130462|Black Sands: Offi...|2019-12-20 00:00:...|1521914 Records DK2|               2|3P7ScpNUSc9xEdVPD...|005nJcjkbJcDqEDV7...|     130.462|\n",
       "|          Gladiators|5rVuUcCfe2SBd0I1Y...|     216503|Black Sands: Offi...|2019-12-20 00:00:...|1521914 Records DK2|               2|3P7ScpNUSc9xEdVPD...|005nJcjkbJcDqEDV7...|     216.503|\n",
       "|               Power|5sRZJDjMfqeGqzcf7...|     213052|Black Sands: Offi...|2019-12-20 00:00:...|1521914 Records DK2|               2|3P7ScpNUSc9xEdVPD...|005nJcjkbJcDqEDV7...|     213.052|\n",
       "|         Bright Side|4zpLDzxAl6ZwaeWzL...|     210557|Black Sands: Offi...|2019-12-20 00:00:...|1521914 Records DK2|               2|3P7ScpNUSc9xEdVPD...|005nJcjkbJcDqEDV7...|     210.557|\n",
       "|     Rumble In Kerma|62vwux2aauHam2wQK...|     171977|Black Sands: Offi...|2019-12-20 00:00:...|1521914 Records DK2|               2|3P7ScpNUSc9xEdVPD...|005nJcjkbJcDqEDV7...|     171.977|\n",
       "|            The Coin|1sgVXkabERazto6eP...|     243664|Black Sands: Offi...|2019-12-20 00:00:...|1521914 Records DK2|               2|3P7ScpNUSc9xEdVPD...|005nJcjkbJcDqEDV7...|     243.664|\n",
       "|    Kings And Queens|3yGRnVDOx6PqFjrC4...|     195084|Black Sands: Offi...|2019-12-20 00:00:...|1521914 Records DK2|               2|3P7ScpNUSc9xEdVPD...|005nJcjkbJcDqEDV7...|     195.084|\n",
       "|               Reign|3CqlwRGISC92ue2s9...|     261256|Black Sands: Offi...|2019-12-20 00:00:...|1521914 Records DK2|               2|3P7ScpNUSc9xEdVPD...|005nJcjkbJcDqEDV7...|     261.256|\n",
       "+--------------------+--------------------+-----------+--------------------+--------------------+-------------------+----------------+--------------------+--------------------+------------+\n",
       "only showing top 20 rows"
      ]
     },
     "execution_count": 44,
     "metadata": {},
     "output_type": "execute_result"
    }
   ],
   "source": [
    "spark.sql('select * from albums1')"
   ]
  },
  {
   "cell_type": "code",
   "execution_count": 54,
   "id": "b353b525",
   "metadata": {},
   "outputs": [],
   "source": [
    "join_table=albums.join(artists,albums['artist_id']==artists['id'])"
   ]
  },
  {
   "cell_type": "code",
   "execution_count": 53,
   "id": "ad6851f1",
   "metadata": {},
   "outputs": [
    {
     "data": {
      "text/html": [
       "<table border='1'>\n",
       "<tr><th>track_name</th><th>track_id</th><th>duration_ms</th><th>album_name</th><th>release_date</th><th>label</th><th>album_popularity</th><th>album_id</th><th>artist_id</th><th>duration_sec</th><th>id</th><th>name</th><th>artist_popularity</th><th>followers</th><th>genre</th></tr>\n",
       "<tr><td>Amazing Grace</td><td>6mN8nzCXWUeT5LWEc...</td><td>555521</td><td>Deep Peace Experi...</td><td>2015-06-09 00:00:...</td><td>Mountain Music Inc</td><td>6</td><td>3VoHMFQzFr9v163HX...</td><td>002nyxOMwdc9EgNEo...</td><td>555.521</td><td>002nyxOMwdc9EgNEo...</td><td>Radiancematrix</td><td>21</td><td>959</td><td>tibetan folk pop</td></tr>\n",
       "<tr><td>Silent Night</td><td>58sgjtx3FOnBBEOd3...</td><td>535041</td><td>Deep Peace Experi...</td><td>2015-06-09 00:00:...</td><td>Mountain Music Inc</td><td>6</td><td>3VoHMFQzFr9v163HX...</td><td>002nyxOMwdc9EgNEo...</td><td>535.041</td><td>002nyxOMwdc9EgNEo...</td><td>Radiancematrix</td><td>21</td><td>959</td><td>tibetan folk pop</td></tr>\n",
       "<tr><td>Ancient Canyons</td><td>45tQJhm0WSk5VWMZK...</td><td>545855</td><td>Deep Peace Experi...</td><td>2015-06-09 00:00:...</td><td>Mountain Music Inc</td><td>6</td><td>3VoHMFQzFr9v163HX...</td><td>002nyxOMwdc9EgNEo...</td><td>545.855</td><td>002nyxOMwdc9EgNEo...</td><td>Radiancematrix</td><td>21</td><td>959</td><td>tibetan folk pop</td></tr>\n",
       "<tr><td>Pacha Mama Medicina</td><td>3VFD7QqkJSg0OR6yB...</td><td>305241</td><td>Deep Peace Experi...</td><td>2015-06-09 00:00:...</td><td>Mountain Music Inc</td><td>6</td><td>3VoHMFQzFr9v163HX...</td><td>002nyxOMwdc9EgNEo...</td><td>305.241</td><td>002nyxOMwdc9EgNEo...</td><td>Radiancematrix</td><td>21</td><td>959</td><td>tibetan folk pop</td></tr>\n",
       "<tr><td>Palace Of Light</td><td>7LwJV5BEIC9BQnzva...</td><td>351060</td><td>Deep Peace Experi...</td><td>2015-06-09 00:00:...</td><td>Mountain Music Inc</td><td>6</td><td>3VoHMFQzFr9v163HX...</td><td>002nyxOMwdc9EgNEo...</td><td>351.06</td><td>002nyxOMwdc9EgNEo...</td><td>Radiancematrix</td><td>21</td><td>959</td><td>tibetan folk pop</td></tr>\n",
       "<tr><td>Jeweled Lotus (Om...</td><td>3I9hXJVjdNYnNfJ5P...</td><td>562887</td><td>Deep Peace Experi...</td><td>2015-06-09 00:00:...</td><td>Mountain Music Inc</td><td>6</td><td>3VoHMFQzFr9v163HX...</td><td>002nyxOMwdc9EgNEo...</td><td>562.887</td><td>002nyxOMwdc9EgNEo...</td><td>Radiancematrix</td><td>21</td><td>959</td><td>tibetan folk pop</td></tr>\n",
       "<tr><td>Loka (May All Bei...</td><td>0K3bvVuJZTrhK8S4y...</td><td>417908</td><td>Deep Peace Experi...</td><td>2015-06-09 00:00:...</td><td>Mountain Music Inc</td><td>6</td><td>3VoHMFQzFr9v163HX...</td><td>002nyxOMwdc9EgNEo...</td><td>417.908</td><td>002nyxOMwdc9EgNEo...</td><td>Radiancematrix</td><td>21</td><td>959</td><td>tibetan folk pop</td></tr>\n",
       "<tr><td>Shiva Radiance (I...</td><td>3Vke9b8vKfG5evYn5...</td><td>553509</td><td>Deep Peace Experi...</td><td>2015-06-09 00:00:...</td><td>Mountain Music Inc</td><td>6</td><td>3VoHMFQzFr9v163HX...</td><td>002nyxOMwdc9EgNEo...</td><td>553.509</td><td>002nyxOMwdc9EgNEo...</td><td>Radiancematrix</td><td>21</td><td>959</td><td>tibetan folk pop</td></tr>\n",
       "<tr><td>Dream Healing</td><td>0z2oH4GgrXdWE0Fic...</td><td>581434</td><td>Deep Peace Experi...</td><td>2015-06-09 00:00:...</td><td>Mountain Music Inc</td><td>6</td><td>3VoHMFQzFr9v163HX...</td><td>002nyxOMwdc9EgNEo...</td><td>581.434</td><td>002nyxOMwdc9EgNEo...</td><td>Radiancematrix</td><td>21</td><td>959</td><td>tibetan folk pop</td></tr>\n",
       "<tr><td>See The World Burn</td><td>6cCOUBWo2uSz8Eio8...</td><td>164217</td><td>Black Sands: Offi...</td><td>2019-12-20 00:00:...</td><td>1521914 Records DK2</td><td>2</td><td>3P7ScpNUSc9xEdVPD...</td><td>005nJcjkbJcDqEDV7...</td><td>164.217</td><td>005nJcjkbJcDqEDV7...</td><td>Ramond</td><td>4</td><td>174</td><td>null</td></tr>\n",
       "<tr><td>Black Sands</td><td>6T0w8wrJhIMiBqVmC...</td><td>151287</td><td>Black Sands: Offi...</td><td>2019-12-20 00:00:...</td><td>1521914 Records DK2</td><td>2</td><td>3P7ScpNUSc9xEdVPD...</td><td>005nJcjkbJcDqEDV7...</td><td>151.287</td><td>005nJcjkbJcDqEDV7...</td><td>Ramond</td><td>4</td><td>174</td><td>null</td></tr>\n",
       "<tr><td>Squad Goals</td><td>1RDxImYrRLV8gpL5J...</td><td>257977</td><td>Black Sands: Offi...</td><td>2019-12-20 00:00:...</td><td>1521914 Records DK2</td><td>2</td><td>3P7ScpNUSc9xEdVPD...</td><td>005nJcjkbJcDqEDV7...</td><td>257.977</td><td>005nJcjkbJcDqEDV7...</td><td>Ramond</td><td>4</td><td>174</td><td>null</td></tr>\n",
       "<tr><td>All Gold</td><td>3UYPhAxyuc7XTQX0R...</td><td>130462</td><td>Black Sands: Offi...</td><td>2019-12-20 00:00:...</td><td>1521914 Records DK2</td><td>2</td><td>3P7ScpNUSc9xEdVPD...</td><td>005nJcjkbJcDqEDV7...</td><td>130.462</td><td>005nJcjkbJcDqEDV7...</td><td>Ramond</td><td>4</td><td>174</td><td>null</td></tr>\n",
       "<tr><td>Gladiators</td><td>5rVuUcCfe2SBd0I1Y...</td><td>216503</td><td>Black Sands: Offi...</td><td>2019-12-20 00:00:...</td><td>1521914 Records DK2</td><td>2</td><td>3P7ScpNUSc9xEdVPD...</td><td>005nJcjkbJcDqEDV7...</td><td>216.503</td><td>005nJcjkbJcDqEDV7...</td><td>Ramond</td><td>4</td><td>174</td><td>null</td></tr>\n",
       "<tr><td>Power</td><td>5sRZJDjMfqeGqzcf7...</td><td>213052</td><td>Black Sands: Offi...</td><td>2019-12-20 00:00:...</td><td>1521914 Records DK2</td><td>2</td><td>3P7ScpNUSc9xEdVPD...</td><td>005nJcjkbJcDqEDV7...</td><td>213.052</td><td>005nJcjkbJcDqEDV7...</td><td>Ramond</td><td>4</td><td>174</td><td>null</td></tr>\n",
       "<tr><td>Bright Side</td><td>4zpLDzxAl6ZwaeWzL...</td><td>210557</td><td>Black Sands: Offi...</td><td>2019-12-20 00:00:...</td><td>1521914 Records DK2</td><td>2</td><td>3P7ScpNUSc9xEdVPD...</td><td>005nJcjkbJcDqEDV7...</td><td>210.557</td><td>005nJcjkbJcDqEDV7...</td><td>Ramond</td><td>4</td><td>174</td><td>null</td></tr>\n",
       "<tr><td>Rumble In Kerma</td><td>62vwux2aauHam2wQK...</td><td>171977</td><td>Black Sands: Offi...</td><td>2019-12-20 00:00:...</td><td>1521914 Records DK2</td><td>2</td><td>3P7ScpNUSc9xEdVPD...</td><td>005nJcjkbJcDqEDV7...</td><td>171.977</td><td>005nJcjkbJcDqEDV7...</td><td>Ramond</td><td>4</td><td>174</td><td>null</td></tr>\n",
       "<tr><td>The Coin</td><td>1sgVXkabERazto6eP...</td><td>243664</td><td>Black Sands: Offi...</td><td>2019-12-20 00:00:...</td><td>1521914 Records DK2</td><td>2</td><td>3P7ScpNUSc9xEdVPD...</td><td>005nJcjkbJcDqEDV7...</td><td>243.664</td><td>005nJcjkbJcDqEDV7...</td><td>Ramond</td><td>4</td><td>174</td><td>null</td></tr>\n",
       "<tr><td>Kings And Queens</td><td>3yGRnVDOx6PqFjrC4...</td><td>195084</td><td>Black Sands: Offi...</td><td>2019-12-20 00:00:...</td><td>1521914 Records DK2</td><td>2</td><td>3P7ScpNUSc9xEdVPD...</td><td>005nJcjkbJcDqEDV7...</td><td>195.084</td><td>005nJcjkbJcDqEDV7...</td><td>Ramond</td><td>4</td><td>174</td><td>null</td></tr>\n",
       "<tr><td>Reign</td><td>3CqlwRGISC92ue2s9...</td><td>261256</td><td>Black Sands: Offi...</td><td>2019-12-20 00:00:...</td><td>1521914 Records DK2</td><td>2</td><td>3P7ScpNUSc9xEdVPD...</td><td>005nJcjkbJcDqEDV7...</td><td>261.256</td><td>005nJcjkbJcDqEDV7...</td><td>Ramond</td><td>4</td><td>174</td><td>null</td></tr>\n",
       "</table>\n",
       "only showing top 20 rows\n"
      ],
      "text/plain": [
       "+--------------------+--------------------+-----------+--------------------+--------------------+-------------------+----------------+--------------------+--------------------+------------+--------------------+--------------+-----------------+---------+----------------+\n",
       "|          track_name|            track_id|duration_ms|          album_name|        release_date|              label|album_popularity|            album_id|           artist_id|duration_sec|                  id|          name|artist_popularity|followers|           genre|\n",
       "+--------------------+--------------------+-----------+--------------------+--------------------+-------------------+----------------+--------------------+--------------------+------------+--------------------+--------------+-----------------+---------+----------------+\n",
       "|       Amazing Grace|6mN8nzCXWUeT5LWEc...|     555521|Deep Peace Experi...|2015-06-09 00:00:...| Mountain Music Inc|               6|3VoHMFQzFr9v163HX...|002nyxOMwdc9EgNEo...|     555.521|002nyxOMwdc9EgNEo...|Radiancematrix|               21|      959|tibetan folk pop|\n",
       "|        Silent Night|58sgjtx3FOnBBEOd3...|     535041|Deep Peace Experi...|2015-06-09 00:00:...| Mountain Music Inc|               6|3VoHMFQzFr9v163HX...|002nyxOMwdc9EgNEo...|     535.041|002nyxOMwdc9EgNEo...|Radiancematrix|               21|      959|tibetan folk pop|\n",
       "|     Ancient Canyons|45tQJhm0WSk5VWMZK...|     545855|Deep Peace Experi...|2015-06-09 00:00:...| Mountain Music Inc|               6|3VoHMFQzFr9v163HX...|002nyxOMwdc9EgNEo...|     545.855|002nyxOMwdc9EgNEo...|Radiancematrix|               21|      959|tibetan folk pop|\n",
       "| Pacha Mama Medicina|3VFD7QqkJSg0OR6yB...|     305241|Deep Peace Experi...|2015-06-09 00:00:...| Mountain Music Inc|               6|3VoHMFQzFr9v163HX...|002nyxOMwdc9EgNEo...|     305.241|002nyxOMwdc9EgNEo...|Radiancematrix|               21|      959|tibetan folk pop|\n",
       "|     Palace Of Light|7LwJV5BEIC9BQnzva...|     351060|Deep Peace Experi...|2015-06-09 00:00:...| Mountain Music Inc|               6|3VoHMFQzFr9v163HX...|002nyxOMwdc9EgNEo...|      351.06|002nyxOMwdc9EgNEo...|Radiancematrix|               21|      959|tibetan folk pop|\n",
       "|Jeweled Lotus (Om...|3I9hXJVjdNYnNfJ5P...|     562887|Deep Peace Experi...|2015-06-09 00:00:...| Mountain Music Inc|               6|3VoHMFQzFr9v163HX...|002nyxOMwdc9EgNEo...|     562.887|002nyxOMwdc9EgNEo...|Radiancematrix|               21|      959|tibetan folk pop|\n",
       "|Loka (May All Bei...|0K3bvVuJZTrhK8S4y...|     417908|Deep Peace Experi...|2015-06-09 00:00:...| Mountain Music Inc|               6|3VoHMFQzFr9v163HX...|002nyxOMwdc9EgNEo...|     417.908|002nyxOMwdc9EgNEo...|Radiancematrix|               21|      959|tibetan folk pop|\n",
       "|Shiva Radiance (I...|3Vke9b8vKfG5evYn5...|     553509|Deep Peace Experi...|2015-06-09 00:00:...| Mountain Music Inc|               6|3VoHMFQzFr9v163HX...|002nyxOMwdc9EgNEo...|     553.509|002nyxOMwdc9EgNEo...|Radiancematrix|               21|      959|tibetan folk pop|\n",
       "|       Dream Healing|0z2oH4GgrXdWE0Fic...|     581434|Deep Peace Experi...|2015-06-09 00:00:...| Mountain Music Inc|               6|3VoHMFQzFr9v163HX...|002nyxOMwdc9EgNEo...|     581.434|002nyxOMwdc9EgNEo...|Radiancematrix|               21|      959|tibetan folk pop|\n",
       "|  See The World Burn|6cCOUBWo2uSz8Eio8...|     164217|Black Sands: Offi...|2019-12-20 00:00:...|1521914 Records DK2|               2|3P7ScpNUSc9xEdVPD...|005nJcjkbJcDqEDV7...|     164.217|005nJcjkbJcDqEDV7...|        Ramond|                4|      174|            null|\n",
       "|         Black Sands|6T0w8wrJhIMiBqVmC...|     151287|Black Sands: Offi...|2019-12-20 00:00:...|1521914 Records DK2|               2|3P7ScpNUSc9xEdVPD...|005nJcjkbJcDqEDV7...|     151.287|005nJcjkbJcDqEDV7...|        Ramond|                4|      174|            null|\n",
       "|         Squad Goals|1RDxImYrRLV8gpL5J...|     257977|Black Sands: Offi...|2019-12-20 00:00:...|1521914 Records DK2|               2|3P7ScpNUSc9xEdVPD...|005nJcjkbJcDqEDV7...|     257.977|005nJcjkbJcDqEDV7...|        Ramond|                4|      174|            null|\n",
       "|            All Gold|3UYPhAxyuc7XTQX0R...|     130462|Black Sands: Offi...|2019-12-20 00:00:...|1521914 Records DK2|               2|3P7ScpNUSc9xEdVPD...|005nJcjkbJcDqEDV7...|     130.462|005nJcjkbJcDqEDV7...|        Ramond|                4|      174|            null|\n",
       "|          Gladiators|5rVuUcCfe2SBd0I1Y...|     216503|Black Sands: Offi...|2019-12-20 00:00:...|1521914 Records DK2|               2|3P7ScpNUSc9xEdVPD...|005nJcjkbJcDqEDV7...|     216.503|005nJcjkbJcDqEDV7...|        Ramond|                4|      174|            null|\n",
       "|               Power|5sRZJDjMfqeGqzcf7...|     213052|Black Sands: Offi...|2019-12-20 00:00:...|1521914 Records DK2|               2|3P7ScpNUSc9xEdVPD...|005nJcjkbJcDqEDV7...|     213.052|005nJcjkbJcDqEDV7...|        Ramond|                4|      174|            null|\n",
       "|         Bright Side|4zpLDzxAl6ZwaeWzL...|     210557|Black Sands: Offi...|2019-12-20 00:00:...|1521914 Records DK2|               2|3P7ScpNUSc9xEdVPD...|005nJcjkbJcDqEDV7...|     210.557|005nJcjkbJcDqEDV7...|        Ramond|                4|      174|            null|\n",
       "|     Rumble In Kerma|62vwux2aauHam2wQK...|     171977|Black Sands: Offi...|2019-12-20 00:00:...|1521914 Records DK2|               2|3P7ScpNUSc9xEdVPD...|005nJcjkbJcDqEDV7...|     171.977|005nJcjkbJcDqEDV7...|        Ramond|                4|      174|            null|\n",
       "|            The Coin|1sgVXkabERazto6eP...|     243664|Black Sands: Offi...|2019-12-20 00:00:...|1521914 Records DK2|               2|3P7ScpNUSc9xEdVPD...|005nJcjkbJcDqEDV7...|     243.664|005nJcjkbJcDqEDV7...|        Ramond|                4|      174|            null|\n",
       "|    Kings And Queens|3yGRnVDOx6PqFjrC4...|     195084|Black Sands: Offi...|2019-12-20 00:00:...|1521914 Records DK2|               2|3P7ScpNUSc9xEdVPD...|005nJcjkbJcDqEDV7...|     195.084|005nJcjkbJcDqEDV7...|        Ramond|                4|      174|            null|\n",
       "|               Reign|3CqlwRGISC92ue2s9...|     261256|Black Sands: Offi...|2019-12-20 00:00:...|1521914 Records DK2|               2|3P7ScpNUSc9xEdVPD...|005nJcjkbJcDqEDV7...|     261.256|005nJcjkbJcDqEDV7...|        Ramond|                4|      174|            null|\n",
       "+--------------------+--------------------+-----------+--------------------+--------------------+-------------------+----------------+--------------------+--------------------+------------+--------------------+--------------+-----------------+---------+----------------+\n",
       "only showing top 20 rows"
      ]
     },
     "execution_count": 53,
     "metadata": {},
     "output_type": "execute_result"
    }
   ],
   "source": [
    "spark.sql(\"select * from albums1 join artists1 on albums1.artist_id = artists1.id \")"
   ]
  },
  {
   "cell_type": "markdown",
   "id": "69d4e5bd",
   "metadata": {},
   "source": [
    "# performing transformations and actions on join_table "
   ]
  },
  {
   "cell_type": "code",
   "execution_count": 68,
   "id": "831ed8d0",
   "metadata": {},
   "outputs": [
    {
     "data": {
      "text/html": [
       "<table border='1'>\n",
       "<tr><th>TRACK_NAME</th><th>TRACK_ID</th><th>DURATION_MS</th><th>ALBUM_NAME</th><th>RELEASE_DATE</th><th>LABEL</th><th>ALBUM_POPULARITY</th><th>ALBUM_ID</th><th>ARTIST_ID</th><th>DURATION_SEC</th><th>ID</th><th>NAME</th><th>ARTIST_POPULARITY</th><th>FOLLOWERS</th><th>GENRE</th></tr>\n",
       "<tr><td>Amazing Grace</td><td>6mN8nzCXWUeT5LWEc...</td><td>555521</td><td>Deep Peace Experi...</td><td>2015-06-09 00:00:...</td><td>Mountain Music Inc</td><td>6</td><td>3VoHMFQzFr9v163HX...</td><td>002nyxOMwdc9EgNEo...</td><td>555.521</td><td>002nyxOMwdc9EgNEo...</td><td>Radiancematrix</td><td>21</td><td>959</td><td>tibetan folk pop</td></tr>\n",
       "<tr><td>Silent Night</td><td>58sgjtx3FOnBBEOd3...</td><td>535041</td><td>Deep Peace Experi...</td><td>2015-06-09 00:00:...</td><td>Mountain Music Inc</td><td>6</td><td>3VoHMFQzFr9v163HX...</td><td>002nyxOMwdc9EgNEo...</td><td>535.041</td><td>002nyxOMwdc9EgNEo...</td><td>Radiancematrix</td><td>21</td><td>959</td><td>tibetan folk pop</td></tr>\n",
       "<tr><td>Ancient Canyons</td><td>45tQJhm0WSk5VWMZK...</td><td>545855</td><td>Deep Peace Experi...</td><td>2015-06-09 00:00:...</td><td>Mountain Music Inc</td><td>6</td><td>3VoHMFQzFr9v163HX...</td><td>002nyxOMwdc9EgNEo...</td><td>545.855</td><td>002nyxOMwdc9EgNEo...</td><td>Radiancematrix</td><td>21</td><td>959</td><td>tibetan folk pop</td></tr>\n",
       "<tr><td>Pacha Mama Medicina</td><td>3VFD7QqkJSg0OR6yB...</td><td>305241</td><td>Deep Peace Experi...</td><td>2015-06-09 00:00:...</td><td>Mountain Music Inc</td><td>6</td><td>3VoHMFQzFr9v163HX...</td><td>002nyxOMwdc9EgNEo...</td><td>305.241</td><td>002nyxOMwdc9EgNEo...</td><td>Radiancematrix</td><td>21</td><td>959</td><td>tibetan folk pop</td></tr>\n",
       "<tr><td>Palace Of Light</td><td>7LwJV5BEIC9BQnzva...</td><td>351060</td><td>Deep Peace Experi...</td><td>2015-06-09 00:00:...</td><td>Mountain Music Inc</td><td>6</td><td>3VoHMFQzFr9v163HX...</td><td>002nyxOMwdc9EgNEo...</td><td>351.06</td><td>002nyxOMwdc9EgNEo...</td><td>Radiancematrix</td><td>21</td><td>959</td><td>tibetan folk pop</td></tr>\n",
       "<tr><td>Jeweled Lotus (Om...</td><td>3I9hXJVjdNYnNfJ5P...</td><td>562887</td><td>Deep Peace Experi...</td><td>2015-06-09 00:00:...</td><td>Mountain Music Inc</td><td>6</td><td>3VoHMFQzFr9v163HX...</td><td>002nyxOMwdc9EgNEo...</td><td>562.887</td><td>002nyxOMwdc9EgNEo...</td><td>Radiancematrix</td><td>21</td><td>959</td><td>tibetan folk pop</td></tr>\n",
       "<tr><td>Loka (May All Bei...</td><td>0K3bvVuJZTrhK8S4y...</td><td>417908</td><td>Deep Peace Experi...</td><td>2015-06-09 00:00:...</td><td>Mountain Music Inc</td><td>6</td><td>3VoHMFQzFr9v163HX...</td><td>002nyxOMwdc9EgNEo...</td><td>417.908</td><td>002nyxOMwdc9EgNEo...</td><td>Radiancematrix</td><td>21</td><td>959</td><td>tibetan folk pop</td></tr>\n",
       "<tr><td>Shiva Radiance (I...</td><td>3Vke9b8vKfG5evYn5...</td><td>553509</td><td>Deep Peace Experi...</td><td>2015-06-09 00:00:...</td><td>Mountain Music Inc</td><td>6</td><td>3VoHMFQzFr9v163HX...</td><td>002nyxOMwdc9EgNEo...</td><td>553.509</td><td>002nyxOMwdc9EgNEo...</td><td>Radiancematrix</td><td>21</td><td>959</td><td>tibetan folk pop</td></tr>\n",
       "<tr><td>Dream Healing</td><td>0z2oH4GgrXdWE0Fic...</td><td>581434</td><td>Deep Peace Experi...</td><td>2015-06-09 00:00:...</td><td>Mountain Music Inc</td><td>6</td><td>3VoHMFQzFr9v163HX...</td><td>002nyxOMwdc9EgNEo...</td><td>581.434</td><td>002nyxOMwdc9EgNEo...</td><td>Radiancematrix</td><td>21</td><td>959</td><td>tibetan folk pop</td></tr>\n",
       "<tr><td>See The World Burn</td><td>6cCOUBWo2uSz8Eio8...</td><td>164217</td><td>Black Sands: Offi...</td><td>2019-12-20 00:00:...</td><td>1521914 Records DK2</td><td>2</td><td>3P7ScpNUSc9xEdVPD...</td><td>005nJcjkbJcDqEDV7...</td><td>164.217</td><td>005nJcjkbJcDqEDV7...</td><td>Ramond</td><td>4</td><td>174</td><td>null</td></tr>\n",
       "<tr><td>Black Sands</td><td>6T0w8wrJhIMiBqVmC...</td><td>151287</td><td>Black Sands: Offi...</td><td>2019-12-20 00:00:...</td><td>1521914 Records DK2</td><td>2</td><td>3P7ScpNUSc9xEdVPD...</td><td>005nJcjkbJcDqEDV7...</td><td>151.287</td><td>005nJcjkbJcDqEDV7...</td><td>Ramond</td><td>4</td><td>174</td><td>null</td></tr>\n",
       "<tr><td>Squad Goals</td><td>1RDxImYrRLV8gpL5J...</td><td>257977</td><td>Black Sands: Offi...</td><td>2019-12-20 00:00:...</td><td>1521914 Records DK2</td><td>2</td><td>3P7ScpNUSc9xEdVPD...</td><td>005nJcjkbJcDqEDV7...</td><td>257.977</td><td>005nJcjkbJcDqEDV7...</td><td>Ramond</td><td>4</td><td>174</td><td>null</td></tr>\n",
       "<tr><td>All Gold</td><td>3UYPhAxyuc7XTQX0R...</td><td>130462</td><td>Black Sands: Offi...</td><td>2019-12-20 00:00:...</td><td>1521914 Records DK2</td><td>2</td><td>3P7ScpNUSc9xEdVPD...</td><td>005nJcjkbJcDqEDV7...</td><td>130.462</td><td>005nJcjkbJcDqEDV7...</td><td>Ramond</td><td>4</td><td>174</td><td>null</td></tr>\n",
       "<tr><td>Gladiators</td><td>5rVuUcCfe2SBd0I1Y...</td><td>216503</td><td>Black Sands: Offi...</td><td>2019-12-20 00:00:...</td><td>1521914 Records DK2</td><td>2</td><td>3P7ScpNUSc9xEdVPD...</td><td>005nJcjkbJcDqEDV7...</td><td>216.503</td><td>005nJcjkbJcDqEDV7...</td><td>Ramond</td><td>4</td><td>174</td><td>null</td></tr>\n",
       "<tr><td>Power</td><td>5sRZJDjMfqeGqzcf7...</td><td>213052</td><td>Black Sands: Offi...</td><td>2019-12-20 00:00:...</td><td>1521914 Records DK2</td><td>2</td><td>3P7ScpNUSc9xEdVPD...</td><td>005nJcjkbJcDqEDV7...</td><td>213.052</td><td>005nJcjkbJcDqEDV7...</td><td>Ramond</td><td>4</td><td>174</td><td>null</td></tr>\n",
       "<tr><td>Bright Side</td><td>4zpLDzxAl6ZwaeWzL...</td><td>210557</td><td>Black Sands: Offi...</td><td>2019-12-20 00:00:...</td><td>1521914 Records DK2</td><td>2</td><td>3P7ScpNUSc9xEdVPD...</td><td>005nJcjkbJcDqEDV7...</td><td>210.557</td><td>005nJcjkbJcDqEDV7...</td><td>Ramond</td><td>4</td><td>174</td><td>null</td></tr>\n",
       "<tr><td>Rumble In Kerma</td><td>62vwux2aauHam2wQK...</td><td>171977</td><td>Black Sands: Offi...</td><td>2019-12-20 00:00:...</td><td>1521914 Records DK2</td><td>2</td><td>3P7ScpNUSc9xEdVPD...</td><td>005nJcjkbJcDqEDV7...</td><td>171.977</td><td>005nJcjkbJcDqEDV7...</td><td>Ramond</td><td>4</td><td>174</td><td>null</td></tr>\n",
       "<tr><td>The Coin</td><td>1sgVXkabERazto6eP...</td><td>243664</td><td>Black Sands: Offi...</td><td>2019-12-20 00:00:...</td><td>1521914 Records DK2</td><td>2</td><td>3P7ScpNUSc9xEdVPD...</td><td>005nJcjkbJcDqEDV7...</td><td>243.664</td><td>005nJcjkbJcDqEDV7...</td><td>Ramond</td><td>4</td><td>174</td><td>null</td></tr>\n",
       "<tr><td>Kings And Queens</td><td>3yGRnVDOx6PqFjrC4...</td><td>195084</td><td>Black Sands: Offi...</td><td>2019-12-20 00:00:...</td><td>1521914 Records DK2</td><td>2</td><td>3P7ScpNUSc9xEdVPD...</td><td>005nJcjkbJcDqEDV7...</td><td>195.084</td><td>005nJcjkbJcDqEDV7...</td><td>Ramond</td><td>4</td><td>174</td><td>null</td></tr>\n",
       "<tr><td>Reign</td><td>3CqlwRGISC92ue2s9...</td><td>261256</td><td>Black Sands: Offi...</td><td>2019-12-20 00:00:...</td><td>1521914 Records DK2</td><td>2</td><td>3P7ScpNUSc9xEdVPD...</td><td>005nJcjkbJcDqEDV7...</td><td>261.256</td><td>005nJcjkbJcDqEDV7...</td><td>Ramond</td><td>4</td><td>174</td><td>null</td></tr>\n",
       "</table>\n",
       "only showing top 20 rows\n"
      ],
      "text/plain": [
       "+--------------------+--------------------+-----------+--------------------+--------------------+-------------------+----------------+--------------------+--------------------+------------+--------------------+--------------+-----------------+---------+----------------+\n",
       "|          TRACK_NAME|            TRACK_ID|DURATION_MS|          ALBUM_NAME|        RELEASE_DATE|              LABEL|ALBUM_POPULARITY|            ALBUM_ID|           ARTIST_ID|DURATION_SEC|                  ID|          NAME|ARTIST_POPULARITY|FOLLOWERS|           GENRE|\n",
       "+--------------------+--------------------+-----------+--------------------+--------------------+-------------------+----------------+--------------------+--------------------+------------+--------------------+--------------+-----------------+---------+----------------+\n",
       "|       Amazing Grace|6mN8nzCXWUeT5LWEc...|     555521|Deep Peace Experi...|2015-06-09 00:00:...| Mountain Music Inc|               6|3VoHMFQzFr9v163HX...|002nyxOMwdc9EgNEo...|     555.521|002nyxOMwdc9EgNEo...|Radiancematrix|               21|      959|tibetan folk pop|\n",
       "|        Silent Night|58sgjtx3FOnBBEOd3...|     535041|Deep Peace Experi...|2015-06-09 00:00:...| Mountain Music Inc|               6|3VoHMFQzFr9v163HX...|002nyxOMwdc9EgNEo...|     535.041|002nyxOMwdc9EgNEo...|Radiancematrix|               21|      959|tibetan folk pop|\n",
       "|     Ancient Canyons|45tQJhm0WSk5VWMZK...|     545855|Deep Peace Experi...|2015-06-09 00:00:...| Mountain Music Inc|               6|3VoHMFQzFr9v163HX...|002nyxOMwdc9EgNEo...|     545.855|002nyxOMwdc9EgNEo...|Radiancematrix|               21|      959|tibetan folk pop|\n",
       "| Pacha Mama Medicina|3VFD7QqkJSg0OR6yB...|     305241|Deep Peace Experi...|2015-06-09 00:00:...| Mountain Music Inc|               6|3VoHMFQzFr9v163HX...|002nyxOMwdc9EgNEo...|     305.241|002nyxOMwdc9EgNEo...|Radiancematrix|               21|      959|tibetan folk pop|\n",
       "|     Palace Of Light|7LwJV5BEIC9BQnzva...|     351060|Deep Peace Experi...|2015-06-09 00:00:...| Mountain Music Inc|               6|3VoHMFQzFr9v163HX...|002nyxOMwdc9EgNEo...|      351.06|002nyxOMwdc9EgNEo...|Radiancematrix|               21|      959|tibetan folk pop|\n",
       "|Jeweled Lotus (Om...|3I9hXJVjdNYnNfJ5P...|     562887|Deep Peace Experi...|2015-06-09 00:00:...| Mountain Music Inc|               6|3VoHMFQzFr9v163HX...|002nyxOMwdc9EgNEo...|     562.887|002nyxOMwdc9EgNEo...|Radiancematrix|               21|      959|tibetan folk pop|\n",
       "|Loka (May All Bei...|0K3bvVuJZTrhK8S4y...|     417908|Deep Peace Experi...|2015-06-09 00:00:...| Mountain Music Inc|               6|3VoHMFQzFr9v163HX...|002nyxOMwdc9EgNEo...|     417.908|002nyxOMwdc9EgNEo...|Radiancematrix|               21|      959|tibetan folk pop|\n",
       "|Shiva Radiance (I...|3Vke9b8vKfG5evYn5...|     553509|Deep Peace Experi...|2015-06-09 00:00:...| Mountain Music Inc|               6|3VoHMFQzFr9v163HX...|002nyxOMwdc9EgNEo...|     553.509|002nyxOMwdc9EgNEo...|Radiancematrix|               21|      959|tibetan folk pop|\n",
       "|       Dream Healing|0z2oH4GgrXdWE0Fic...|     581434|Deep Peace Experi...|2015-06-09 00:00:...| Mountain Music Inc|               6|3VoHMFQzFr9v163HX...|002nyxOMwdc9EgNEo...|     581.434|002nyxOMwdc9EgNEo...|Radiancematrix|               21|      959|tibetan folk pop|\n",
       "|  See The World Burn|6cCOUBWo2uSz8Eio8...|     164217|Black Sands: Offi...|2019-12-20 00:00:...|1521914 Records DK2|               2|3P7ScpNUSc9xEdVPD...|005nJcjkbJcDqEDV7...|     164.217|005nJcjkbJcDqEDV7...|        Ramond|                4|      174|            null|\n",
       "|         Black Sands|6T0w8wrJhIMiBqVmC...|     151287|Black Sands: Offi...|2019-12-20 00:00:...|1521914 Records DK2|               2|3P7ScpNUSc9xEdVPD...|005nJcjkbJcDqEDV7...|     151.287|005nJcjkbJcDqEDV7...|        Ramond|                4|      174|            null|\n",
       "|         Squad Goals|1RDxImYrRLV8gpL5J...|     257977|Black Sands: Offi...|2019-12-20 00:00:...|1521914 Records DK2|               2|3P7ScpNUSc9xEdVPD...|005nJcjkbJcDqEDV7...|     257.977|005nJcjkbJcDqEDV7...|        Ramond|                4|      174|            null|\n",
       "|            All Gold|3UYPhAxyuc7XTQX0R...|     130462|Black Sands: Offi...|2019-12-20 00:00:...|1521914 Records DK2|               2|3P7ScpNUSc9xEdVPD...|005nJcjkbJcDqEDV7...|     130.462|005nJcjkbJcDqEDV7...|        Ramond|                4|      174|            null|\n",
       "|          Gladiators|5rVuUcCfe2SBd0I1Y...|     216503|Black Sands: Offi...|2019-12-20 00:00:...|1521914 Records DK2|               2|3P7ScpNUSc9xEdVPD...|005nJcjkbJcDqEDV7...|     216.503|005nJcjkbJcDqEDV7...|        Ramond|                4|      174|            null|\n",
       "|               Power|5sRZJDjMfqeGqzcf7...|     213052|Black Sands: Offi...|2019-12-20 00:00:...|1521914 Records DK2|               2|3P7ScpNUSc9xEdVPD...|005nJcjkbJcDqEDV7...|     213.052|005nJcjkbJcDqEDV7...|        Ramond|                4|      174|            null|\n",
       "|         Bright Side|4zpLDzxAl6ZwaeWzL...|     210557|Black Sands: Offi...|2019-12-20 00:00:...|1521914 Records DK2|               2|3P7ScpNUSc9xEdVPD...|005nJcjkbJcDqEDV7...|     210.557|005nJcjkbJcDqEDV7...|        Ramond|                4|      174|            null|\n",
       "|     Rumble In Kerma|62vwux2aauHam2wQK...|     171977|Black Sands: Offi...|2019-12-20 00:00:...|1521914 Records DK2|               2|3P7ScpNUSc9xEdVPD...|005nJcjkbJcDqEDV7...|     171.977|005nJcjkbJcDqEDV7...|        Ramond|                4|      174|            null|\n",
       "|            The Coin|1sgVXkabERazto6eP...|     243664|Black Sands: Offi...|2019-12-20 00:00:...|1521914 Records DK2|               2|3P7ScpNUSc9xEdVPD...|005nJcjkbJcDqEDV7...|     243.664|005nJcjkbJcDqEDV7...|        Ramond|                4|      174|            null|\n",
       "|    Kings And Queens|3yGRnVDOx6PqFjrC4...|     195084|Black Sands: Offi...|2019-12-20 00:00:...|1521914 Records DK2|               2|3P7ScpNUSc9xEdVPD...|005nJcjkbJcDqEDV7...|     195.084|005nJcjkbJcDqEDV7...|        Ramond|                4|      174|            null|\n",
       "|               Reign|3CqlwRGISC92ue2s9...|     261256|Black Sands: Offi...|2019-12-20 00:00:...|1521914 Records DK2|               2|3P7ScpNUSc9xEdVPD...|005nJcjkbJcDqEDV7...|     261.256|005nJcjkbJcDqEDV7...|        Ramond|                4|      174|            null|\n",
       "+--------------------+--------------------+-----------+--------------------+--------------------+-------------------+----------------+--------------------+--------------------+------------+--------------------+--------------+-----------------+---------+----------------+\n",
       "only showing top 20 rows"
      ]
     },
     "execution_count": 68,
     "metadata": {},
     "output_type": "execute_result"
    }
   ],
   "source": [
    "join_table.toDF(*[col.upper() for col in join_table.columns])"
   ]
  },
  {
   "cell_type": "code",
   "execution_count": 69,
   "id": "dc5ea8c6",
   "metadata": {},
   "outputs": [
    {
     "data": {
      "text/html": [
       "<table border='1'>\n",
       "<tr><th>track_name</th><th>track_id</th><th>duration_ms</th><th>album_name</th><th>release_date</th><th>label</th><th>album_popularity</th><th>album_id</th><th>artist_id</th><th>duration_sec</th><th>id</th><th>name</th><th>artist_popularity</th><th>followers</th><th>genre</th></tr>\n",
       "<tr><td>Amazing Grace</td><td>6mN8nzCXWUeT5LWEc...</td><td>555521</td><td>Deep Peace Experi...</td><td>2015-06-09 00:00:...</td><td>Mountain Music Inc</td><td>6</td><td>3VoHMFQzFr9v163HX...</td><td>002nyxOMwdc9EgNEo...</td><td>555.521</td><td>002nyxOMwdc9EgNEo...</td><td>Radiancematrix</td><td>21</td><td>959</td><td>tibetan folk pop</td></tr>\n",
       "<tr><td>Silent Night</td><td>58sgjtx3FOnBBEOd3...</td><td>535041</td><td>Deep Peace Experi...</td><td>2015-06-09 00:00:...</td><td>Mountain Music Inc</td><td>6</td><td>3VoHMFQzFr9v163HX...</td><td>002nyxOMwdc9EgNEo...</td><td>535.041</td><td>002nyxOMwdc9EgNEo...</td><td>Radiancematrix</td><td>21</td><td>959</td><td>tibetan folk pop</td></tr>\n",
       "<tr><td>Ancient Canyons</td><td>45tQJhm0WSk5VWMZK...</td><td>545855</td><td>Deep Peace Experi...</td><td>2015-06-09 00:00:...</td><td>Mountain Music Inc</td><td>6</td><td>3VoHMFQzFr9v163HX...</td><td>002nyxOMwdc9EgNEo...</td><td>545.855</td><td>002nyxOMwdc9EgNEo...</td><td>Radiancematrix</td><td>21</td><td>959</td><td>tibetan folk pop</td></tr>\n",
       "<tr><td>Pacha Mama Medicina</td><td>3VFD7QqkJSg0OR6yB...</td><td>305241</td><td>Deep Peace Experi...</td><td>2015-06-09 00:00:...</td><td>Mountain Music Inc</td><td>6</td><td>3VoHMFQzFr9v163HX...</td><td>002nyxOMwdc9EgNEo...</td><td>305.241</td><td>002nyxOMwdc9EgNEo...</td><td>Radiancematrix</td><td>21</td><td>959</td><td>tibetan folk pop</td></tr>\n",
       "<tr><td>Palace Of Light</td><td>7LwJV5BEIC9BQnzva...</td><td>351060</td><td>Deep Peace Experi...</td><td>2015-06-09 00:00:...</td><td>Mountain Music Inc</td><td>6</td><td>3VoHMFQzFr9v163HX...</td><td>002nyxOMwdc9EgNEo...</td><td>351.06</td><td>002nyxOMwdc9EgNEo...</td><td>Radiancematrix</td><td>21</td><td>959</td><td>tibetan folk pop</td></tr>\n",
       "<tr><td>Jeweled Lotus (Om...</td><td>3I9hXJVjdNYnNfJ5P...</td><td>562887</td><td>Deep Peace Experi...</td><td>2015-06-09 00:00:...</td><td>Mountain Music Inc</td><td>6</td><td>3VoHMFQzFr9v163HX...</td><td>002nyxOMwdc9EgNEo...</td><td>562.887</td><td>002nyxOMwdc9EgNEo...</td><td>Radiancematrix</td><td>21</td><td>959</td><td>tibetan folk pop</td></tr>\n",
       "<tr><td>Loka (May All Bei...</td><td>0K3bvVuJZTrhK8S4y...</td><td>417908</td><td>Deep Peace Experi...</td><td>2015-06-09 00:00:...</td><td>Mountain Music Inc</td><td>6</td><td>3VoHMFQzFr9v163HX...</td><td>002nyxOMwdc9EgNEo...</td><td>417.908</td><td>002nyxOMwdc9EgNEo...</td><td>Radiancematrix</td><td>21</td><td>959</td><td>tibetan folk pop</td></tr>\n",
       "<tr><td>Shiva Radiance (I...</td><td>3Vke9b8vKfG5evYn5...</td><td>553509</td><td>Deep Peace Experi...</td><td>2015-06-09 00:00:...</td><td>Mountain Music Inc</td><td>6</td><td>3VoHMFQzFr9v163HX...</td><td>002nyxOMwdc9EgNEo...</td><td>553.509</td><td>002nyxOMwdc9EgNEo...</td><td>Radiancematrix</td><td>21</td><td>959</td><td>tibetan folk pop</td></tr>\n",
       "<tr><td>Dream Healing</td><td>0z2oH4GgrXdWE0Fic...</td><td>581434</td><td>Deep Peace Experi...</td><td>2015-06-09 00:00:...</td><td>Mountain Music Inc</td><td>6</td><td>3VoHMFQzFr9v163HX...</td><td>002nyxOMwdc9EgNEo...</td><td>581.434</td><td>002nyxOMwdc9EgNEo...</td><td>Radiancematrix</td><td>21</td><td>959</td><td>tibetan folk pop</td></tr>\n",
       "<tr><td>See The World Burn</td><td>6cCOUBWo2uSz8Eio8...</td><td>164217</td><td>Black Sands: Offi...</td><td>2019-12-20 00:00:...</td><td>1521914 Records DK2</td><td>2</td><td>3P7ScpNUSc9xEdVPD...</td><td>005nJcjkbJcDqEDV7...</td><td>164.217</td><td>005nJcjkbJcDqEDV7...</td><td>Ramond</td><td>4</td><td>174</td><td>NAN</td></tr>\n",
       "<tr><td>Black Sands</td><td>6T0w8wrJhIMiBqVmC...</td><td>151287</td><td>Black Sands: Offi...</td><td>2019-12-20 00:00:...</td><td>1521914 Records DK2</td><td>2</td><td>3P7ScpNUSc9xEdVPD...</td><td>005nJcjkbJcDqEDV7...</td><td>151.287</td><td>005nJcjkbJcDqEDV7...</td><td>Ramond</td><td>4</td><td>174</td><td>NAN</td></tr>\n",
       "<tr><td>Squad Goals</td><td>1RDxImYrRLV8gpL5J...</td><td>257977</td><td>Black Sands: Offi...</td><td>2019-12-20 00:00:...</td><td>1521914 Records DK2</td><td>2</td><td>3P7ScpNUSc9xEdVPD...</td><td>005nJcjkbJcDqEDV7...</td><td>257.977</td><td>005nJcjkbJcDqEDV7...</td><td>Ramond</td><td>4</td><td>174</td><td>NAN</td></tr>\n",
       "<tr><td>All Gold</td><td>3UYPhAxyuc7XTQX0R...</td><td>130462</td><td>Black Sands: Offi...</td><td>2019-12-20 00:00:...</td><td>1521914 Records DK2</td><td>2</td><td>3P7ScpNUSc9xEdVPD...</td><td>005nJcjkbJcDqEDV7...</td><td>130.462</td><td>005nJcjkbJcDqEDV7...</td><td>Ramond</td><td>4</td><td>174</td><td>NAN</td></tr>\n",
       "<tr><td>Gladiators</td><td>5rVuUcCfe2SBd0I1Y...</td><td>216503</td><td>Black Sands: Offi...</td><td>2019-12-20 00:00:...</td><td>1521914 Records DK2</td><td>2</td><td>3P7ScpNUSc9xEdVPD...</td><td>005nJcjkbJcDqEDV7...</td><td>216.503</td><td>005nJcjkbJcDqEDV7...</td><td>Ramond</td><td>4</td><td>174</td><td>NAN</td></tr>\n",
       "<tr><td>Power</td><td>5sRZJDjMfqeGqzcf7...</td><td>213052</td><td>Black Sands: Offi...</td><td>2019-12-20 00:00:...</td><td>1521914 Records DK2</td><td>2</td><td>3P7ScpNUSc9xEdVPD...</td><td>005nJcjkbJcDqEDV7...</td><td>213.052</td><td>005nJcjkbJcDqEDV7...</td><td>Ramond</td><td>4</td><td>174</td><td>NAN</td></tr>\n",
       "<tr><td>Bright Side</td><td>4zpLDzxAl6ZwaeWzL...</td><td>210557</td><td>Black Sands: Offi...</td><td>2019-12-20 00:00:...</td><td>1521914 Records DK2</td><td>2</td><td>3P7ScpNUSc9xEdVPD...</td><td>005nJcjkbJcDqEDV7...</td><td>210.557</td><td>005nJcjkbJcDqEDV7...</td><td>Ramond</td><td>4</td><td>174</td><td>NAN</td></tr>\n",
       "<tr><td>Rumble In Kerma</td><td>62vwux2aauHam2wQK...</td><td>171977</td><td>Black Sands: Offi...</td><td>2019-12-20 00:00:...</td><td>1521914 Records DK2</td><td>2</td><td>3P7ScpNUSc9xEdVPD...</td><td>005nJcjkbJcDqEDV7...</td><td>171.977</td><td>005nJcjkbJcDqEDV7...</td><td>Ramond</td><td>4</td><td>174</td><td>NAN</td></tr>\n",
       "<tr><td>The Coin</td><td>1sgVXkabERazto6eP...</td><td>243664</td><td>Black Sands: Offi...</td><td>2019-12-20 00:00:...</td><td>1521914 Records DK2</td><td>2</td><td>3P7ScpNUSc9xEdVPD...</td><td>005nJcjkbJcDqEDV7...</td><td>243.664</td><td>005nJcjkbJcDqEDV7...</td><td>Ramond</td><td>4</td><td>174</td><td>NAN</td></tr>\n",
       "<tr><td>Kings And Queens</td><td>3yGRnVDOx6PqFjrC4...</td><td>195084</td><td>Black Sands: Offi...</td><td>2019-12-20 00:00:...</td><td>1521914 Records DK2</td><td>2</td><td>3P7ScpNUSc9xEdVPD...</td><td>005nJcjkbJcDqEDV7...</td><td>195.084</td><td>005nJcjkbJcDqEDV7...</td><td>Ramond</td><td>4</td><td>174</td><td>NAN</td></tr>\n",
       "<tr><td>Reign</td><td>3CqlwRGISC92ue2s9...</td><td>261256</td><td>Black Sands: Offi...</td><td>2019-12-20 00:00:...</td><td>1521914 Records DK2</td><td>2</td><td>3P7ScpNUSc9xEdVPD...</td><td>005nJcjkbJcDqEDV7...</td><td>261.256</td><td>005nJcjkbJcDqEDV7...</td><td>Ramond</td><td>4</td><td>174</td><td>NAN</td></tr>\n",
       "</table>\n",
       "only showing top 20 rows\n"
      ],
      "text/plain": [
       "+--------------------+--------------------+-----------+--------------------+--------------------+-------------------+----------------+--------------------+--------------------+------------+--------------------+--------------+-----------------+---------+----------------+\n",
       "|          track_name|            track_id|duration_ms|          album_name|        release_date|              label|album_popularity|            album_id|           artist_id|duration_sec|                  id|          name|artist_popularity|followers|           genre|\n",
       "+--------------------+--------------------+-----------+--------------------+--------------------+-------------------+----------------+--------------------+--------------------+------------+--------------------+--------------+-----------------+---------+----------------+\n",
       "|       Amazing Grace|6mN8nzCXWUeT5LWEc...|     555521|Deep Peace Experi...|2015-06-09 00:00:...| Mountain Music Inc|               6|3VoHMFQzFr9v163HX...|002nyxOMwdc9EgNEo...|     555.521|002nyxOMwdc9EgNEo...|Radiancematrix|               21|      959|tibetan folk pop|\n",
       "|        Silent Night|58sgjtx3FOnBBEOd3...|     535041|Deep Peace Experi...|2015-06-09 00:00:...| Mountain Music Inc|               6|3VoHMFQzFr9v163HX...|002nyxOMwdc9EgNEo...|     535.041|002nyxOMwdc9EgNEo...|Radiancematrix|               21|      959|tibetan folk pop|\n",
       "|     Ancient Canyons|45tQJhm0WSk5VWMZK...|     545855|Deep Peace Experi...|2015-06-09 00:00:...| Mountain Music Inc|               6|3VoHMFQzFr9v163HX...|002nyxOMwdc9EgNEo...|     545.855|002nyxOMwdc9EgNEo...|Radiancematrix|               21|      959|tibetan folk pop|\n",
       "| Pacha Mama Medicina|3VFD7QqkJSg0OR6yB...|     305241|Deep Peace Experi...|2015-06-09 00:00:...| Mountain Music Inc|               6|3VoHMFQzFr9v163HX...|002nyxOMwdc9EgNEo...|     305.241|002nyxOMwdc9EgNEo...|Radiancematrix|               21|      959|tibetan folk pop|\n",
       "|     Palace Of Light|7LwJV5BEIC9BQnzva...|     351060|Deep Peace Experi...|2015-06-09 00:00:...| Mountain Music Inc|               6|3VoHMFQzFr9v163HX...|002nyxOMwdc9EgNEo...|      351.06|002nyxOMwdc9EgNEo...|Radiancematrix|               21|      959|tibetan folk pop|\n",
       "|Jeweled Lotus (Om...|3I9hXJVjdNYnNfJ5P...|     562887|Deep Peace Experi...|2015-06-09 00:00:...| Mountain Music Inc|               6|3VoHMFQzFr9v163HX...|002nyxOMwdc9EgNEo...|     562.887|002nyxOMwdc9EgNEo...|Radiancematrix|               21|      959|tibetan folk pop|\n",
       "|Loka (May All Bei...|0K3bvVuJZTrhK8S4y...|     417908|Deep Peace Experi...|2015-06-09 00:00:...| Mountain Music Inc|               6|3VoHMFQzFr9v163HX...|002nyxOMwdc9EgNEo...|     417.908|002nyxOMwdc9EgNEo...|Radiancematrix|               21|      959|tibetan folk pop|\n",
       "|Shiva Radiance (I...|3Vke9b8vKfG5evYn5...|     553509|Deep Peace Experi...|2015-06-09 00:00:...| Mountain Music Inc|               6|3VoHMFQzFr9v163HX...|002nyxOMwdc9EgNEo...|     553.509|002nyxOMwdc9EgNEo...|Radiancematrix|               21|      959|tibetan folk pop|\n",
       "|       Dream Healing|0z2oH4GgrXdWE0Fic...|     581434|Deep Peace Experi...|2015-06-09 00:00:...| Mountain Music Inc|               6|3VoHMFQzFr9v163HX...|002nyxOMwdc9EgNEo...|     581.434|002nyxOMwdc9EgNEo...|Radiancematrix|               21|      959|tibetan folk pop|\n",
       "|  See The World Burn|6cCOUBWo2uSz8Eio8...|     164217|Black Sands: Offi...|2019-12-20 00:00:...|1521914 Records DK2|               2|3P7ScpNUSc9xEdVPD...|005nJcjkbJcDqEDV7...|     164.217|005nJcjkbJcDqEDV7...|        Ramond|                4|      174|             NAN|\n",
       "|         Black Sands|6T0w8wrJhIMiBqVmC...|     151287|Black Sands: Offi...|2019-12-20 00:00:...|1521914 Records DK2|               2|3P7ScpNUSc9xEdVPD...|005nJcjkbJcDqEDV7...|     151.287|005nJcjkbJcDqEDV7...|        Ramond|                4|      174|             NAN|\n",
       "|         Squad Goals|1RDxImYrRLV8gpL5J...|     257977|Black Sands: Offi...|2019-12-20 00:00:...|1521914 Records DK2|               2|3P7ScpNUSc9xEdVPD...|005nJcjkbJcDqEDV7...|     257.977|005nJcjkbJcDqEDV7...|        Ramond|                4|      174|             NAN|\n",
       "|            All Gold|3UYPhAxyuc7XTQX0R...|     130462|Black Sands: Offi...|2019-12-20 00:00:...|1521914 Records DK2|               2|3P7ScpNUSc9xEdVPD...|005nJcjkbJcDqEDV7...|     130.462|005nJcjkbJcDqEDV7...|        Ramond|                4|      174|             NAN|\n",
       "|          Gladiators|5rVuUcCfe2SBd0I1Y...|     216503|Black Sands: Offi...|2019-12-20 00:00:...|1521914 Records DK2|               2|3P7ScpNUSc9xEdVPD...|005nJcjkbJcDqEDV7...|     216.503|005nJcjkbJcDqEDV7...|        Ramond|                4|      174|             NAN|\n",
       "|               Power|5sRZJDjMfqeGqzcf7...|     213052|Black Sands: Offi...|2019-12-20 00:00:...|1521914 Records DK2|               2|3P7ScpNUSc9xEdVPD...|005nJcjkbJcDqEDV7...|     213.052|005nJcjkbJcDqEDV7...|        Ramond|                4|      174|             NAN|\n",
       "|         Bright Side|4zpLDzxAl6ZwaeWzL...|     210557|Black Sands: Offi...|2019-12-20 00:00:...|1521914 Records DK2|               2|3P7ScpNUSc9xEdVPD...|005nJcjkbJcDqEDV7...|     210.557|005nJcjkbJcDqEDV7...|        Ramond|                4|      174|             NAN|\n",
       "|     Rumble In Kerma|62vwux2aauHam2wQK...|     171977|Black Sands: Offi...|2019-12-20 00:00:...|1521914 Records DK2|               2|3P7ScpNUSc9xEdVPD...|005nJcjkbJcDqEDV7...|     171.977|005nJcjkbJcDqEDV7...|        Ramond|                4|      174|             NAN|\n",
       "|            The Coin|1sgVXkabERazto6eP...|     243664|Black Sands: Offi...|2019-12-20 00:00:...|1521914 Records DK2|               2|3P7ScpNUSc9xEdVPD...|005nJcjkbJcDqEDV7...|     243.664|005nJcjkbJcDqEDV7...|        Ramond|                4|      174|             NAN|\n",
       "|    Kings And Queens|3yGRnVDOx6PqFjrC4...|     195084|Black Sands: Offi...|2019-12-20 00:00:...|1521914 Records DK2|               2|3P7ScpNUSc9xEdVPD...|005nJcjkbJcDqEDV7...|     195.084|005nJcjkbJcDqEDV7...|        Ramond|                4|      174|             NAN|\n",
       "|               Reign|3CqlwRGISC92ue2s9...|     261256|Black Sands: Offi...|2019-12-20 00:00:...|1521914 Records DK2|               2|3P7ScpNUSc9xEdVPD...|005nJcjkbJcDqEDV7...|     261.256|005nJcjkbJcDqEDV7...|        Ramond|                4|      174|             NAN|\n",
       "+--------------------+--------------------+-----------+--------------------+--------------------+-------------------+----------------+--------------------+--------------------+------------+--------------------+--------------+-----------------+---------+----------------+\n",
       "only showing top 20 rows"
      ]
     },
     "execution_count": 69,
     "metadata": {},
     "output_type": "execute_result"
    }
   ],
   "source": [
    "join_table.fillna('NAN')"
   ]
  },
  {
   "cell_type": "code",
   "execution_count": 66,
   "id": "f2ac592c",
   "metadata": {},
   "outputs": [
    {
     "data": {
      "text/html": [
       "<table border='1'>\n",
       "<tr><th>track_name</th><th>track_id</th><th>duration_ms</th><th>album_name</th><th>release_date</th><th>label</th><th>album_popularity</th><th>album_id</th><th>artist_id</th><th>duration_sec</th><th>id</th><th>name</th><th>artist_popularity</th><th>followers</th><th>genre</th></tr>\n",
       "<tr><td>Amazing Grace</td><td>6mN8nzCXWUeT5LWEc...</td><td>555521</td><td>Deep Peace Experi...</td><td>2015-06-09 00:00:...</td><td>Mountain Music Inc</td><td>6</td><td>3VoHMFQzFr9v163HX...</td><td>002nyxOMwdc9EgNEo...</td><td>555.521</td><td>002nyxOMwdc9EgNEo...</td><td>Radiancematrix</td><td>21</td><td>959</td><td>tibetan folk pop</td></tr>\n",
       "<tr><td>Silent Night</td><td>58sgjtx3FOnBBEOd3...</td><td>535041</td><td>Deep Peace Experi...</td><td>2015-06-09 00:00:...</td><td>Mountain Music Inc</td><td>6</td><td>3VoHMFQzFr9v163HX...</td><td>002nyxOMwdc9EgNEo...</td><td>535.041</td><td>002nyxOMwdc9EgNEo...</td><td>Radiancematrix</td><td>21</td><td>959</td><td>tibetan folk pop</td></tr>\n",
       "<tr><td>Ancient Canyons</td><td>45tQJhm0WSk5VWMZK...</td><td>545855</td><td>Deep Peace Experi...</td><td>2015-06-09 00:00:...</td><td>Mountain Music Inc</td><td>6</td><td>3VoHMFQzFr9v163HX...</td><td>002nyxOMwdc9EgNEo...</td><td>545.855</td><td>002nyxOMwdc9EgNEo...</td><td>Radiancematrix</td><td>21</td><td>959</td><td>tibetan folk pop</td></tr>\n",
       "<tr><td>Pacha Mama Medicina</td><td>3VFD7QqkJSg0OR6yB...</td><td>305241</td><td>Deep Peace Experi...</td><td>2015-06-09 00:00:...</td><td>Mountain Music Inc</td><td>6</td><td>3VoHMFQzFr9v163HX...</td><td>002nyxOMwdc9EgNEo...</td><td>305.241</td><td>002nyxOMwdc9EgNEo...</td><td>Radiancematrix</td><td>21</td><td>959</td><td>tibetan folk pop</td></tr>\n",
       "<tr><td>Palace Of Light</td><td>7LwJV5BEIC9BQnzva...</td><td>351060</td><td>Deep Peace Experi...</td><td>2015-06-09 00:00:...</td><td>Mountain Music Inc</td><td>6</td><td>3VoHMFQzFr9v163HX...</td><td>002nyxOMwdc9EgNEo...</td><td>351.06</td><td>002nyxOMwdc9EgNEo...</td><td>Radiancematrix</td><td>21</td><td>959</td><td>tibetan folk pop</td></tr>\n",
       "<tr><td>Jeweled Lotus (Om...</td><td>3I9hXJVjdNYnNfJ5P...</td><td>562887</td><td>Deep Peace Experi...</td><td>2015-06-09 00:00:...</td><td>Mountain Music Inc</td><td>6</td><td>3VoHMFQzFr9v163HX...</td><td>002nyxOMwdc9EgNEo...</td><td>562.887</td><td>002nyxOMwdc9EgNEo...</td><td>Radiancematrix</td><td>21</td><td>959</td><td>tibetan folk pop</td></tr>\n",
       "<tr><td>Loka (May All Bei...</td><td>0K3bvVuJZTrhK8S4y...</td><td>417908</td><td>Deep Peace Experi...</td><td>2015-06-09 00:00:...</td><td>Mountain Music Inc</td><td>6</td><td>3VoHMFQzFr9v163HX...</td><td>002nyxOMwdc9EgNEo...</td><td>417.908</td><td>002nyxOMwdc9EgNEo...</td><td>Radiancematrix</td><td>21</td><td>959</td><td>tibetan folk pop</td></tr>\n",
       "<tr><td>Shiva Radiance (I...</td><td>3Vke9b8vKfG5evYn5...</td><td>553509</td><td>Deep Peace Experi...</td><td>2015-06-09 00:00:...</td><td>Mountain Music Inc</td><td>6</td><td>3VoHMFQzFr9v163HX...</td><td>002nyxOMwdc9EgNEo...</td><td>553.509</td><td>002nyxOMwdc9EgNEo...</td><td>Radiancematrix</td><td>21</td><td>959</td><td>tibetan folk pop</td></tr>\n",
       "<tr><td>Dream Healing</td><td>0z2oH4GgrXdWE0Fic...</td><td>581434</td><td>Deep Peace Experi...</td><td>2015-06-09 00:00:...</td><td>Mountain Music Inc</td><td>6</td><td>3VoHMFQzFr9v163HX...</td><td>002nyxOMwdc9EgNEo...</td><td>581.434</td><td>002nyxOMwdc9EgNEo...</td><td>Radiancematrix</td><td>21</td><td>959</td><td>tibetan folk pop</td></tr>\n",
       "<tr><td>See The World Burn</td><td>6cCOUBWo2uSz8Eio8...</td><td>164217</td><td>Black Sands: Offi...</td><td>2019-12-20 00:00:...</td><td>1521914 Records DK2</td><td>2</td><td>3P7ScpNUSc9xEdVPD...</td><td>005nJcjkbJcDqEDV7...</td><td>164.217</td><td>005nJcjkbJcDqEDV7...</td><td>Ramond</td><td>4</td><td>174</td><td>Nan</td></tr>\n",
       "<tr><td>Black Sands</td><td>6T0w8wrJhIMiBqVmC...</td><td>151287</td><td>Black Sands: Offi...</td><td>2019-12-20 00:00:...</td><td>1521914 Records DK2</td><td>2</td><td>3P7ScpNUSc9xEdVPD...</td><td>005nJcjkbJcDqEDV7...</td><td>151.287</td><td>005nJcjkbJcDqEDV7...</td><td>Ramond</td><td>4</td><td>174</td><td>Nan</td></tr>\n",
       "<tr><td>Squad Goals</td><td>1RDxImYrRLV8gpL5J...</td><td>257977</td><td>Black Sands: Offi...</td><td>2019-12-20 00:00:...</td><td>1521914 Records DK2</td><td>2</td><td>3P7ScpNUSc9xEdVPD...</td><td>005nJcjkbJcDqEDV7...</td><td>257.977</td><td>005nJcjkbJcDqEDV7...</td><td>Ramond</td><td>4</td><td>174</td><td>Nan</td></tr>\n",
       "<tr><td>All Gold</td><td>3UYPhAxyuc7XTQX0R...</td><td>130462</td><td>Black Sands: Offi...</td><td>2019-12-20 00:00:...</td><td>1521914 Records DK2</td><td>2</td><td>3P7ScpNUSc9xEdVPD...</td><td>005nJcjkbJcDqEDV7...</td><td>130.462</td><td>005nJcjkbJcDqEDV7...</td><td>Ramond</td><td>4</td><td>174</td><td>Nan</td></tr>\n",
       "<tr><td>Gladiators</td><td>5rVuUcCfe2SBd0I1Y...</td><td>216503</td><td>Black Sands: Offi...</td><td>2019-12-20 00:00:...</td><td>1521914 Records DK2</td><td>2</td><td>3P7ScpNUSc9xEdVPD...</td><td>005nJcjkbJcDqEDV7...</td><td>216.503</td><td>005nJcjkbJcDqEDV7...</td><td>Ramond</td><td>4</td><td>174</td><td>Nan</td></tr>\n",
       "<tr><td>Power</td><td>5sRZJDjMfqeGqzcf7...</td><td>213052</td><td>Black Sands: Offi...</td><td>2019-12-20 00:00:...</td><td>1521914 Records DK2</td><td>2</td><td>3P7ScpNUSc9xEdVPD...</td><td>005nJcjkbJcDqEDV7...</td><td>213.052</td><td>005nJcjkbJcDqEDV7...</td><td>Ramond</td><td>4</td><td>174</td><td>Nan</td></tr>\n",
       "<tr><td>Bright Side</td><td>4zpLDzxAl6ZwaeWzL...</td><td>210557</td><td>Black Sands: Offi...</td><td>2019-12-20 00:00:...</td><td>1521914 Records DK2</td><td>2</td><td>3P7ScpNUSc9xEdVPD...</td><td>005nJcjkbJcDqEDV7...</td><td>210.557</td><td>005nJcjkbJcDqEDV7...</td><td>Ramond</td><td>4</td><td>174</td><td>Nan</td></tr>\n",
       "<tr><td>Rumble In Kerma</td><td>62vwux2aauHam2wQK...</td><td>171977</td><td>Black Sands: Offi...</td><td>2019-12-20 00:00:...</td><td>1521914 Records DK2</td><td>2</td><td>3P7ScpNUSc9xEdVPD...</td><td>005nJcjkbJcDqEDV7...</td><td>171.977</td><td>005nJcjkbJcDqEDV7...</td><td>Ramond</td><td>4</td><td>174</td><td>Nan</td></tr>\n",
       "<tr><td>The Coin</td><td>1sgVXkabERazto6eP...</td><td>243664</td><td>Black Sands: Offi...</td><td>2019-12-20 00:00:...</td><td>1521914 Records DK2</td><td>2</td><td>3P7ScpNUSc9xEdVPD...</td><td>005nJcjkbJcDqEDV7...</td><td>243.664</td><td>005nJcjkbJcDqEDV7...</td><td>Ramond</td><td>4</td><td>174</td><td>Nan</td></tr>\n",
       "<tr><td>Kings And Queens</td><td>3yGRnVDOx6PqFjrC4...</td><td>195084</td><td>Black Sands: Offi...</td><td>2019-12-20 00:00:...</td><td>1521914 Records DK2</td><td>2</td><td>3P7ScpNUSc9xEdVPD...</td><td>005nJcjkbJcDqEDV7...</td><td>195.084</td><td>005nJcjkbJcDqEDV7...</td><td>Ramond</td><td>4</td><td>174</td><td>Nan</td></tr>\n",
       "<tr><td>Reign</td><td>3CqlwRGISC92ue2s9...</td><td>261256</td><td>Black Sands: Offi...</td><td>2019-12-20 00:00:...</td><td>1521914 Records DK2</td><td>2</td><td>3P7ScpNUSc9xEdVPD...</td><td>005nJcjkbJcDqEDV7...</td><td>261.256</td><td>005nJcjkbJcDqEDV7...</td><td>Ramond</td><td>4</td><td>174</td><td>Nan</td></tr>\n",
       "</table>\n",
       "only showing top 20 rows\n"
      ],
      "text/plain": [
       "+--------------------+--------------------+-----------+--------------------+--------------------+-------------------+----------------+--------------------+--------------------+------------+--------------------+--------------+-----------------+---------+----------------+\n",
       "|          track_name|            track_id|duration_ms|          album_name|        release_date|              label|album_popularity|            album_id|           artist_id|duration_sec|                  id|          name|artist_popularity|followers|           genre|\n",
       "+--------------------+--------------------+-----------+--------------------+--------------------+-------------------+----------------+--------------------+--------------------+------------+--------------------+--------------+-----------------+---------+----------------+\n",
       "|       Amazing Grace|6mN8nzCXWUeT5LWEc...|     555521|Deep Peace Experi...|2015-06-09 00:00:...| Mountain Music Inc|               6|3VoHMFQzFr9v163HX...|002nyxOMwdc9EgNEo...|     555.521|002nyxOMwdc9EgNEo...|Radiancematrix|               21|      959|tibetan folk pop|\n",
       "|        Silent Night|58sgjtx3FOnBBEOd3...|     535041|Deep Peace Experi...|2015-06-09 00:00:...| Mountain Music Inc|               6|3VoHMFQzFr9v163HX...|002nyxOMwdc9EgNEo...|     535.041|002nyxOMwdc9EgNEo...|Radiancematrix|               21|      959|tibetan folk pop|\n",
       "|     Ancient Canyons|45tQJhm0WSk5VWMZK...|     545855|Deep Peace Experi...|2015-06-09 00:00:...| Mountain Music Inc|               6|3VoHMFQzFr9v163HX...|002nyxOMwdc9EgNEo...|     545.855|002nyxOMwdc9EgNEo...|Radiancematrix|               21|      959|tibetan folk pop|\n",
       "| Pacha Mama Medicina|3VFD7QqkJSg0OR6yB...|     305241|Deep Peace Experi...|2015-06-09 00:00:...| Mountain Music Inc|               6|3VoHMFQzFr9v163HX...|002nyxOMwdc9EgNEo...|     305.241|002nyxOMwdc9EgNEo...|Radiancematrix|               21|      959|tibetan folk pop|\n",
       "|     Palace Of Light|7LwJV5BEIC9BQnzva...|     351060|Deep Peace Experi...|2015-06-09 00:00:...| Mountain Music Inc|               6|3VoHMFQzFr9v163HX...|002nyxOMwdc9EgNEo...|      351.06|002nyxOMwdc9EgNEo...|Radiancematrix|               21|      959|tibetan folk pop|\n",
       "|Jeweled Lotus (Om...|3I9hXJVjdNYnNfJ5P...|     562887|Deep Peace Experi...|2015-06-09 00:00:...| Mountain Music Inc|               6|3VoHMFQzFr9v163HX...|002nyxOMwdc9EgNEo...|     562.887|002nyxOMwdc9EgNEo...|Radiancematrix|               21|      959|tibetan folk pop|\n",
       "|Loka (May All Bei...|0K3bvVuJZTrhK8S4y...|     417908|Deep Peace Experi...|2015-06-09 00:00:...| Mountain Music Inc|               6|3VoHMFQzFr9v163HX...|002nyxOMwdc9EgNEo...|     417.908|002nyxOMwdc9EgNEo...|Radiancematrix|               21|      959|tibetan folk pop|\n",
       "|Shiva Radiance (I...|3Vke9b8vKfG5evYn5...|     553509|Deep Peace Experi...|2015-06-09 00:00:...| Mountain Music Inc|               6|3VoHMFQzFr9v163HX...|002nyxOMwdc9EgNEo...|     553.509|002nyxOMwdc9EgNEo...|Radiancematrix|               21|      959|tibetan folk pop|\n",
       "|       Dream Healing|0z2oH4GgrXdWE0Fic...|     581434|Deep Peace Experi...|2015-06-09 00:00:...| Mountain Music Inc|               6|3VoHMFQzFr9v163HX...|002nyxOMwdc9EgNEo...|     581.434|002nyxOMwdc9EgNEo...|Radiancematrix|               21|      959|tibetan folk pop|\n",
       "|  See The World Burn|6cCOUBWo2uSz8Eio8...|     164217|Black Sands: Offi...|2019-12-20 00:00:...|1521914 Records DK2|               2|3P7ScpNUSc9xEdVPD...|005nJcjkbJcDqEDV7...|     164.217|005nJcjkbJcDqEDV7...|        Ramond|                4|      174|             Nan|\n",
       "|         Black Sands|6T0w8wrJhIMiBqVmC...|     151287|Black Sands: Offi...|2019-12-20 00:00:...|1521914 Records DK2|               2|3P7ScpNUSc9xEdVPD...|005nJcjkbJcDqEDV7...|     151.287|005nJcjkbJcDqEDV7...|        Ramond|                4|      174|             Nan|\n",
       "|         Squad Goals|1RDxImYrRLV8gpL5J...|     257977|Black Sands: Offi...|2019-12-20 00:00:...|1521914 Records DK2|               2|3P7ScpNUSc9xEdVPD...|005nJcjkbJcDqEDV7...|     257.977|005nJcjkbJcDqEDV7...|        Ramond|                4|      174|             Nan|\n",
       "|            All Gold|3UYPhAxyuc7XTQX0R...|     130462|Black Sands: Offi...|2019-12-20 00:00:...|1521914 Records DK2|               2|3P7ScpNUSc9xEdVPD...|005nJcjkbJcDqEDV7...|     130.462|005nJcjkbJcDqEDV7...|        Ramond|                4|      174|             Nan|\n",
       "|          Gladiators|5rVuUcCfe2SBd0I1Y...|     216503|Black Sands: Offi...|2019-12-20 00:00:...|1521914 Records DK2|               2|3P7ScpNUSc9xEdVPD...|005nJcjkbJcDqEDV7...|     216.503|005nJcjkbJcDqEDV7...|        Ramond|                4|      174|             Nan|\n",
       "|               Power|5sRZJDjMfqeGqzcf7...|     213052|Black Sands: Offi...|2019-12-20 00:00:...|1521914 Records DK2|               2|3P7ScpNUSc9xEdVPD...|005nJcjkbJcDqEDV7...|     213.052|005nJcjkbJcDqEDV7...|        Ramond|                4|      174|             Nan|\n",
       "|         Bright Side|4zpLDzxAl6ZwaeWzL...|     210557|Black Sands: Offi...|2019-12-20 00:00:...|1521914 Records DK2|               2|3P7ScpNUSc9xEdVPD...|005nJcjkbJcDqEDV7...|     210.557|005nJcjkbJcDqEDV7...|        Ramond|                4|      174|             Nan|\n",
       "|     Rumble In Kerma|62vwux2aauHam2wQK...|     171977|Black Sands: Offi...|2019-12-20 00:00:...|1521914 Records DK2|               2|3P7ScpNUSc9xEdVPD...|005nJcjkbJcDqEDV7...|     171.977|005nJcjkbJcDqEDV7...|        Ramond|                4|      174|             Nan|\n",
       "|            The Coin|1sgVXkabERazto6eP...|     243664|Black Sands: Offi...|2019-12-20 00:00:...|1521914 Records DK2|               2|3P7ScpNUSc9xEdVPD...|005nJcjkbJcDqEDV7...|     243.664|005nJcjkbJcDqEDV7...|        Ramond|                4|      174|             Nan|\n",
       "|    Kings And Queens|3yGRnVDOx6PqFjrC4...|     195084|Black Sands: Offi...|2019-12-20 00:00:...|1521914 Records DK2|               2|3P7ScpNUSc9xEdVPD...|005nJcjkbJcDqEDV7...|     195.084|005nJcjkbJcDqEDV7...|        Ramond|                4|      174|             Nan|\n",
       "|               Reign|3CqlwRGISC92ue2s9...|     261256|Black Sands: Offi...|2019-12-20 00:00:...|1521914 Records DK2|               2|3P7ScpNUSc9xEdVPD...|005nJcjkbJcDqEDV7...|     261.256|005nJcjkbJcDqEDV7...|        Ramond|                4|      174|             Nan|\n",
       "+--------------------+--------------------+-----------+--------------------+--------------------+-------------------+----------------+--------------------+--------------------+------------+--------------------+--------------+-----------------+---------+----------------+\n",
       "only showing top 20 rows"
      ]
     },
     "execution_count": 66,
     "metadata": {},
     "output_type": "execute_result"
    }
   ],
   "source": [
    "join_table.fillna('Nan')"
   ]
  },
  {
   "cell_type": "code",
   "execution_count": 62,
   "id": "bf7804c8",
   "metadata": {},
   "outputs": [
    {
     "data": {
      "text/plain": [
       "437557"
      ]
     },
     "execution_count": 62,
     "metadata": {},
     "output_type": "execute_result"
    }
   ],
   "source": [
    "join_table.dropDuplicates().count()"
   ]
  },
  {
   "cell_type": "code",
   "execution_count": 64,
   "id": "e3ba3f3d",
   "metadata": {},
   "outputs": [
    {
     "data": {
      "text/plain": [
       "437557"
      ]
     },
     "execution_count": 64,
     "metadata": {},
     "output_type": "execute_result"
    }
   ],
   "source": [
    "join_table.count()"
   ]
  },
  {
   "cell_type": "code",
   "execution_count": 77,
   "id": "dd71c7bb",
   "metadata": {},
   "outputs": [
    {
     "data": {
      "text/html": [
       "<div>\n",
       "<style scoped>\n",
       "    .dataframe tbody tr th:only-of-type {\n",
       "        vertical-align: middle;\n",
       "    }\n",
       "\n",
       "    .dataframe tbody tr th {\n",
       "        vertical-align: top;\n",
       "    }\n",
       "\n",
       "    .dataframe thead th {\n",
       "        text-align: right;\n",
       "    }\n",
       "</style>\n",
       "<table border=\"1\" class=\"dataframe\">\n",
       "  <thead>\n",
       "    <tr style=\"text-align: right;\">\n",
       "      <th></th>\n",
       "      <th>label</th>\n",
       "      <th>count</th>\n",
       "    </tr>\n",
       "  </thead>\n",
       "  <tbody>\n",
       "    <tr>\n",
       "      <th>0</th>\n",
       "      <td>CC Entertainment</td>\n",
       "      <td>5654</td>\n",
       "    </tr>\n",
       "    <tr>\n",
       "      <th>1</th>\n",
       "      <td>Sami Springs</td>\n",
       "      <td>3400</td>\n",
       "    </tr>\n",
       "  </tbody>\n",
       "</table>\n",
       "</div>"
      ],
      "text/plain": [
       "              label  count\n",
       "0  CC Entertainment   5654\n",
       "1      Sami Springs   3400"
      ]
     },
     "execution_count": 77,
     "metadata": {},
     "output_type": "execute_result"
    }
   ],
   "source": [
    "join_table.groupBy('label').count().orderBy('count',ascending=False).toPandas().head(2)"
   ]
  },
  {
   "cell_type": "code",
   "execution_count": 80,
   "id": "a95e51a9",
   "metadata": {},
   "outputs": [
    {
     "data": {
      "text/html": [
       "<div>\n",
       "<style scoped>\n",
       "    .dataframe tbody tr th:only-of-type {\n",
       "        vertical-align: middle;\n",
       "    }\n",
       "\n",
       "    .dataframe tbody tr th {\n",
       "        vertical-align: top;\n",
       "    }\n",
       "\n",
       "    .dataframe thead th {\n",
       "        text-align: right;\n",
       "    }\n",
       "</style>\n",
       "<table border=\"1\" class=\"dataframe\">\n",
       "  <thead>\n",
       "    <tr style=\"text-align: right;\">\n",
       "      <th></th>\n",
       "      <th>track_name</th>\n",
       "      <th>track_id</th>\n",
       "      <th>duration_ms</th>\n",
       "      <th>album_name</th>\n",
       "      <th>release_date</th>\n",
       "      <th>label</th>\n",
       "      <th>album_popularity</th>\n",
       "      <th>album_id</th>\n",
       "      <th>artist_id</th>\n",
       "      <th>duration_sec</th>\n",
       "      <th>id</th>\n",
       "      <th>name</th>\n",
       "      <th>artist_popularity</th>\n",
       "      <th>followers</th>\n",
       "      <th>genre</th>\n",
       "    </tr>\n",
       "  </thead>\n",
       "  <tbody>\n",
       "    <tr>\n",
       "      <th>0</th>\n",
       "      <td>Amazing Grace</td>\n",
       "      <td>6mN8nzCXWUeT5LWEcG1Utx</td>\n",
       "      <td>555521</td>\n",
       "      <td>Deep Peace Experience</td>\n",
       "      <td>2015-06-09 00:00:00 UTC</td>\n",
       "      <td>Mountain Music Inc</td>\n",
       "      <td>6</td>\n",
       "      <td>3VoHMFQzFr9v163HXRvfo2</td>\n",
       "      <td>002nyxOMwdc9EgNEo7ETcF</td>\n",
       "      <td>555.521</td>\n",
       "      <td>002nyxOMwdc9EgNEo7ETcF</td>\n",
       "      <td>Radiancematrix</td>\n",
       "      <td>21</td>\n",
       "      <td>959</td>\n",
       "      <td>tibetan folk pop</td>\n",
       "    </tr>\n",
       "    <tr>\n",
       "      <th>1</th>\n",
       "      <td>Silent Night</td>\n",
       "      <td>58sgjtx3FOnBBEOd3BQE6C</td>\n",
       "      <td>535041</td>\n",
       "      <td>Deep Peace Experience</td>\n",
       "      <td>2015-06-09 00:00:00 UTC</td>\n",
       "      <td>Mountain Music Inc</td>\n",
       "      <td>6</td>\n",
       "      <td>3VoHMFQzFr9v163HXRvfo2</td>\n",
       "      <td>002nyxOMwdc9EgNEo7ETcF</td>\n",
       "      <td>535.041</td>\n",
       "      <td>002nyxOMwdc9EgNEo7ETcF</td>\n",
       "      <td>Radiancematrix</td>\n",
       "      <td>21</td>\n",
       "      <td>959</td>\n",
       "      <td>tibetan folk pop</td>\n",
       "    </tr>\n",
       "    <tr>\n",
       "      <th>2</th>\n",
       "      <td>Ancient Canyons</td>\n",
       "      <td>45tQJhm0WSk5VWMZK3FsLK</td>\n",
       "      <td>545855</td>\n",
       "      <td>Deep Peace Experience</td>\n",
       "      <td>2015-06-09 00:00:00 UTC</td>\n",
       "      <td>Mountain Music Inc</td>\n",
       "      <td>6</td>\n",
       "      <td>3VoHMFQzFr9v163HXRvfo2</td>\n",
       "      <td>002nyxOMwdc9EgNEo7ETcF</td>\n",
       "      <td>545.855</td>\n",
       "      <td>002nyxOMwdc9EgNEo7ETcF</td>\n",
       "      <td>Radiancematrix</td>\n",
       "      <td>21</td>\n",
       "      <td>959</td>\n",
       "      <td>tibetan folk pop</td>\n",
       "    </tr>\n",
       "    <tr>\n",
       "      <th>3</th>\n",
       "      <td>Pacha Mama Medicina</td>\n",
       "      <td>3VFD7QqkJSg0OR6yBwKl7A</td>\n",
       "      <td>305241</td>\n",
       "      <td>Deep Peace Experience</td>\n",
       "      <td>2015-06-09 00:00:00 UTC</td>\n",
       "      <td>Mountain Music Inc</td>\n",
       "      <td>6</td>\n",
       "      <td>3VoHMFQzFr9v163HXRvfo2</td>\n",
       "      <td>002nyxOMwdc9EgNEo7ETcF</td>\n",
       "      <td>305.241</td>\n",
       "      <td>002nyxOMwdc9EgNEo7ETcF</td>\n",
       "      <td>Radiancematrix</td>\n",
       "      <td>21</td>\n",
       "      <td>959</td>\n",
       "      <td>tibetan folk pop</td>\n",
       "    </tr>\n",
       "    <tr>\n",
       "      <th>4</th>\n",
       "      <td>Palace Of Light</td>\n",
       "      <td>7LwJV5BEIC9BQnzvaBSyCc</td>\n",
       "      <td>351060</td>\n",
       "      <td>Deep Peace Experience</td>\n",
       "      <td>2015-06-09 00:00:00 UTC</td>\n",
       "      <td>Mountain Music Inc</td>\n",
       "      <td>6</td>\n",
       "      <td>3VoHMFQzFr9v163HXRvfo2</td>\n",
       "      <td>002nyxOMwdc9EgNEo7ETcF</td>\n",
       "      <td>351.06</td>\n",
       "      <td>002nyxOMwdc9EgNEo7ETcF</td>\n",
       "      <td>Radiancematrix</td>\n",
       "      <td>21</td>\n",
       "      <td>959</td>\n",
       "      <td>tibetan folk pop</td>\n",
       "    </tr>\n",
       "  </tbody>\n",
       "</table>\n",
       "</div>"
      ],
      "text/plain": [
       "            track_name                track_id duration_ms  \\\n",
       "0        Amazing Grace  6mN8nzCXWUeT5LWEcG1Utx      555521   \n",
       "1         Silent Night  58sgjtx3FOnBBEOd3BQE6C      535041   \n",
       "2      Ancient Canyons  45tQJhm0WSk5VWMZK3FsLK      545855   \n",
       "3  Pacha Mama Medicina  3VFD7QqkJSg0OR6yBwKl7A      305241   \n",
       "4      Palace Of Light  7LwJV5BEIC9BQnzvaBSyCc      351060   \n",
       "\n",
       "              album_name             release_date               label  \\\n",
       "0  Deep Peace Experience  2015-06-09 00:00:00 UTC  Mountain Music Inc   \n",
       "1  Deep Peace Experience  2015-06-09 00:00:00 UTC  Mountain Music Inc   \n",
       "2  Deep Peace Experience  2015-06-09 00:00:00 UTC  Mountain Music Inc   \n",
       "3  Deep Peace Experience  2015-06-09 00:00:00 UTC  Mountain Music Inc   \n",
       "4  Deep Peace Experience  2015-06-09 00:00:00 UTC  Mountain Music Inc   \n",
       "\n",
       "  album_popularity                album_id               artist_id  \\\n",
       "0                6  3VoHMFQzFr9v163HXRvfo2  002nyxOMwdc9EgNEo7ETcF   \n",
       "1                6  3VoHMFQzFr9v163HXRvfo2  002nyxOMwdc9EgNEo7ETcF   \n",
       "2                6  3VoHMFQzFr9v163HXRvfo2  002nyxOMwdc9EgNEo7ETcF   \n",
       "3                6  3VoHMFQzFr9v163HXRvfo2  002nyxOMwdc9EgNEo7ETcF   \n",
       "4                6  3VoHMFQzFr9v163HXRvfo2  002nyxOMwdc9EgNEo7ETcF   \n",
       "\n",
       "  duration_sec                      id            name artist_popularity  \\\n",
       "0      555.521  002nyxOMwdc9EgNEo7ETcF  Radiancematrix                21   \n",
       "1      535.041  002nyxOMwdc9EgNEo7ETcF  Radiancematrix                21   \n",
       "2      545.855  002nyxOMwdc9EgNEo7ETcF  Radiancematrix                21   \n",
       "3      305.241  002nyxOMwdc9EgNEo7ETcF  Radiancematrix                21   \n",
       "4       351.06  002nyxOMwdc9EgNEo7ETcF  Radiancematrix                21   \n",
       "\n",
       "  followers             genre  \n",
       "0       959  tibetan folk pop  \n",
       "1       959  tibetan folk pop  \n",
       "2       959  tibetan folk pop  \n",
       "3       959  tibetan folk pop  \n",
       "4       959  tibetan folk pop  "
      ]
     },
     "execution_count": 80,
     "metadata": {},
     "output_type": "execute_result"
    }
   ],
   "source": [
    "join_table.toPandas().head(5)"
   ]
  },
  {
   "cell_type": "code",
   "execution_count": 81,
   "id": "1b8bd1e8",
   "metadata": {},
   "outputs": [],
   "source": [
    "spark.stop()"
   ]
  },
  {
   "cell_type": "code",
   "execution_count": null,
   "id": "c21ce218",
   "metadata": {},
   "outputs": [],
   "source": []
  }
 ],
 "metadata": {
  "kernelspec": {
   "display_name": "Python 3 (ipykernel)",
   "language": "python",
   "name": "python3"
  },
  "language_info": {
   "codemirror_mode": {
    "name": "ipython",
    "version": 3
   },
   "file_extension": ".py",
   "mimetype": "text/x-python",
   "name": "python",
   "nbconvert_exporter": "python",
   "pygments_lexer": "ipython3",
   "version": "3.11.5"
  }
 },
 "nbformat": 4,
 "nbformat_minor": 5
}
