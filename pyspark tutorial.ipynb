{
 "cells": [
  {
   "cell_type": "code",
   "execution_count": 1,
   "id": "c876c9cc",
   "metadata": {},
   "outputs": [],
   "source": [
    "#import findspark module , which is helper tool to locate and initialize the pyspark\n",
    "import findspark"
   ]
  },
  {
   "cell_type": "code",
   "execution_count": 2,
   "id": "e14488a5",
   "metadata": {},
   "outputs": [],
   "source": [
    "#call the init method of findspace to set up the environement variables for pyspark\n",
    "findspark.init()"
   ]
  },
  {
   "cell_type": "code",
   "execution_count": 3,
   "id": "36b79b45",
   "metadata": {},
   "outputs": [],
   "source": [
    "#import spark session and row classes from the pyspark.sql module which are used to create and manipulate dataframes\n",
    "from pyspark.sql import SparkSession, Row\n"
   ]
  },
  {
   "cell_type": "code",
   "execution_count": 4,
   "id": "9bbb18bb",
   "metadata": {},
   "outputs": [],
   "source": [
    "#import all functions from pyspark.sql.functions module, which are used to perform various operations on dataframes\n",
    "from pyspark.sql.functions import *"
   ]
  },
  {
   "cell_type": "code",
   "execution_count": 5,
   "id": "91d5e6f9",
   "metadata": {},
   "outputs": [],
   "source": [
    "#import datetime classes from the datatime module , used for represent date and time.\n",
    "\n",
    "from datetime import datetime, date\n",
    "import pandas as pd\n",
    "#import all types from pyspark.sql.types module , used to define the schema of our dataframe\n",
    "from pyspark.sql.types import *\n",
    "\n",
    "spark = SparkSession.builder.getOrCreate()"
   ]
  },
  {
   "cell_type": "code",
   "execution_count": 6,
   "id": "e84484b5",
   "metadata": {},
   "outputs": [],
   "source": [
    "#creating dataframe \n",
    "\n",
    "df = spark.createDataFrame([\n",
    "    Row(a=1, b=2., c='string1', d=date(2000, 1, 1), e=datetime(2000, 1, 1, 12, 0)),\n",
    "    Row(a=2, b=3., c='string2', d=date(2000, 2, 1), e=datetime(2000, 1, 2, 12, 0)),\n",
    "    Row(a=4, b=5., c='string3', d=date(2000, 3, 1), e=datetime(2000, 1, 3, 12, 0))\n",
    "])"
   ]
  },
  {
   "cell_type": "code",
   "execution_count": 7,
   "id": "2b45f3b1",
   "metadata": {},
   "outputs": [
    {
     "name": "stdout",
     "output_type": "stream",
     "text": [
      "root\n",
      " |-- a: long (nullable = true)\n",
      " |-- b: double (nullable = true)\n",
      " |-- c: string (nullable = true)\n",
      " |-- d: date (nullable = true)\n",
      " |-- e: timestamp (nullable = true)\n",
      "\n"
     ]
    }
   ],
   "source": [
    "#printing the schema \n",
    "df.printSchema()"
   ]
  },
  {
   "cell_type": "code",
   "execution_count": 8,
   "id": "d54f206a",
   "metadata": {},
   "outputs": [
    {
     "name": "stdout",
     "output_type": "stream",
     "text": [
      "+---+---+-------+----------+-------------------+\n",
      "|  a|  b|      c|         d|                  e|\n",
      "+---+---+-------+----------+-------------------+\n",
      "|  1|2.0|string1|2000-01-01|2000-01-01 12:00:00|\n",
      "+---+---+-------+----------+-------------------+\n",
      "only showing top 1 row\n",
      "\n",
      "+---+---+-------+----------+-------------------+\n",
      "|  a|  b|      c|         d|                  e|\n",
      "+---+---+-------+----------+-------------------+\n",
      "|  1|2.0|string1|2000-01-01|2000-01-01 12:00:00|\n",
      "|  2|3.0|string2|2000-02-01|2000-01-02 12:00:00|\n",
      "|  4|5.0|string3|2000-03-01|2000-01-03 12:00:00|\n",
      "+---+---+-------+----------+-------------------+\n",
      "\n"
     ]
    },
    {
     "data": {
      "text/plain": [
       "Row(a=1, b=2.0, c='string1', d=datetime.date(2000, 1, 1), e=datetime.datetime(2000, 1, 1, 12, 0))"
      ]
     },
     "execution_count": 8,
     "metadata": {},
     "output_type": "execute_result"
    }
   ],
   "source": [
    "#printing the dataframe \n",
    "df.show(1) # showing frst row in table format\n",
    "df.show()  # showing entire dataframe \n",
    "df.first() # showing frst row in line .\n"
   ]
  },
  {
   "cell_type": "code",
   "execution_count": 9,
   "id": "abab35b2",
   "metadata": {},
   "outputs": [
    {
     "name": "stdout",
     "output_type": "stream",
     "text": [
      "+---+---+-------+----------+\n",
      "|  a|  b|      c|         d|\n",
      "+---+---+-------+----------+\n",
      "|  1|2.0|string1|2000-01-01|\n",
      "|  2|3.0|string2|2000-02-01|\n",
      "|  3|4.0|string3|2000-03-01|\n",
      "+---+---+-------+----------+\n",
      "\n",
      "root\n",
      " |-- a: long (nullable = true)\n",
      " |-- b: double (nullable = true)\n",
      " |-- c: string (nullable = true)\n",
      " |-- d: date (nullable = true)\n",
      "\n"
     ]
    }
   ],
   "source": [
    "#Create a PySpark DataFrame from a pandas DataFrame\n",
    "\n",
    "pandas_df=pd.DataFrame({'a': [1, 2, 3],\n",
    "    'b': [2., 3., 4.],\n",
    "    'c': ['string1', 'string2', 'string3'],\n",
    "    'd': [date(2000, 1, 1), date(2000, 2, 1), date(2000, 3, 1)]})\n",
    "spark.createDataFrame(pandas_df).show()\n",
    "spark.createDataFrame(pandas_df).printSchema()"
   ]
  },
  {
   "cell_type": "code",
   "execution_count": 10,
   "id": "b44dd392",
   "metadata": {},
   "outputs": [
    {
     "data": {
      "text/plain": [
       "[('a', 'bigint'),\n",
       " ('b', 'double'),\n",
       " ('c', 'string'),\n",
       " ('d', 'date'),\n",
       " ('e', 'timestamp')]"
      ]
     },
     "execution_count": 10,
     "metadata": {},
     "output_type": "execute_result"
    }
   ],
   "source": [
    "df.count()\n",
    "df.dtypes\n"
   ]
  },
  {
   "cell_type": "code",
   "execution_count": 11,
   "id": "12f03620",
   "metadata": {},
   "outputs": [
    {
     "data": {
      "text/html": [
       "<table border='1'>\n",
       "<tr><th>a</th><th>b</th><th>c</th><th>d</th><th>e</th></tr>\n",
       "<tr><td>1</td><td>2.0</td><td>string1</td><td>2000-01-01</td><td>2000-01-01 12:00:00</td></tr>\n",
       "<tr><td>2</td><td>3.0</td><td>string2</td><td>2000-02-01</td><td>2000-01-02 12:00:00</td></tr>\n",
       "<tr><td>4</td><td>5.0</td><td>string3</td><td>2000-03-01</td><td>2000-01-03 12:00:00</td></tr>\n",
       "</table>\n"
      ],
      "text/plain": [
       "+---+---+-------+----------+-------------------+\n",
       "|  a|  b|      c|         d|                  e|\n",
       "+---+---+-------+----------+-------------------+\n",
       "|  1|2.0|string1|2000-01-01|2000-01-01 12:00:00|\n",
       "|  2|3.0|string2|2000-02-01|2000-01-02 12:00:00|\n",
       "|  4|5.0|string3|2000-03-01|2000-01-03 12:00:00|\n",
       "+---+---+-------+----------+-------------------+"
      ]
     },
     "execution_count": 11,
     "metadata": {},
     "output_type": "execute_result"
    }
   ],
   "source": [
    "#Alternatively, you can enable spark.sql.repl.eagerEval.enabled configuration for the eager evaluation of PySpark DataFrame in notebooks such as Jupyte\n",
    "spark.conf.set('spark.sql.repl.eagerEval.enabled', True)\n",
    "df"
   ]
  },
  {
   "cell_type": "code",
   "execution_count": 12,
   "id": "b7fe3cf1",
   "metadata": {},
   "outputs": [
    {
     "data": {
      "text/plain": [
       "['a', 'b', 'c', 'd', 'e']"
      ]
     },
     "execution_count": 12,
     "metadata": {},
     "output_type": "execute_result"
    }
   ],
   "source": [
    "df.columns "
   ]
  },
  {
   "cell_type": "code",
   "execution_count": 13,
   "id": "87d25fb4",
   "metadata": {},
   "outputs": [
    {
     "data": {
      "text/plain": [
       "[Row(a=1, b=2.0, c='string1', d=datetime.date(2000, 1, 1), e=datetime.datetime(2000, 1, 1, 12, 0)),\n",
       " Row(a=2, b=3.0, c='string2', d=datetime.date(2000, 2, 1), e=datetime.datetime(2000, 1, 2, 12, 0)),\n",
       " Row(a=4, b=5.0, c='string3', d=datetime.date(2000, 3, 1), e=datetime.datetime(2000, 1, 3, 12, 0))]"
      ]
     },
     "execution_count": 13,
     "metadata": {},
     "output_type": "execute_result"
    }
   ],
   "source": [
    "df.collect()"
   ]
  },
  {
   "cell_type": "code",
   "execution_count": 14,
   "id": "7ee94f1e",
   "metadata": {},
   "outputs": [
    {
     "name": "stdout",
     "output_type": "stream",
     "text": [
      "+-------+\n",
      "|      c|\n",
      "+-------+\n",
      "|string1|\n",
      "|string2|\n",
      "|string3|\n",
      "+-------+\n",
      "\n"
     ]
    }
   ],
   "source": [
    "df.select(df.c).show()"
   ]
  },
  {
   "cell_type": "code",
   "execution_count": 15,
   "id": "fc3cd432",
   "metadata": {},
   "outputs": [
    {
     "name": "stdout",
     "output_type": "stream",
     "text": [
      "+---+\n",
      "|  a|\n",
      "+---+\n",
      "|  1|\n",
      "|  2|\n",
      "|  4|\n",
      "+---+\n",
      "\n"
     ]
    }
   ],
   "source": [
    "df.select(df.a).show()"
   ]
  },
  {
   "cell_type": "code",
   "execution_count": 16,
   "id": "ef0afba7",
   "metadata": {},
   "outputs": [],
   "source": [
    "#reading data \n",
    "df=spark.read.csv('amazon.csv', header=True)"
   ]
  },
  {
   "cell_type": "code",
   "execution_count": 17,
   "id": "cb7a5a37",
   "metadata": {},
   "outputs": [
    {
     "data": {
      "text/html": [
       "<table border='1'>\n",
       "<tr><th>product_id</th><th>product_name</th><th>category</th><th>discounted_price</th><th>actual_price</th><th>discount_percentage</th><th>rating</th><th>rating_count</th><th>about_product</th><th>user_id</th><th>user_name</th><th>review_id</th><th>review_title</th><th>review_content</th><th>img_link</th><th>product_link</th></tr>\n",
       "<tr><td>B07JW9H4J1</td><td>Wayona Nylon Brai...</td><td>Computers&amp;Accesso...</td><td>₹399</td><td>₹1,099</td><td>64%</td><td>4.2</td><td>24,269</td><td>High Compatibilit...</td><td>AG3D6O4STAQKAY2UV...</td><td>Manav,Adarsh gupt...</td><td>R3HXWT0LRP0NMF,R2...</td><td>Satisfied,Chargin...</td><td>Looks durable Cha...</td><td>https://m.media-a...</td><td>https://www.amazo...</td></tr>\n",
       "<tr><td>B098NS6PVG</td><td>Ambrane Unbreakab...</td><td>Computers&amp;Accesso...</td><td>₹199</td><td>₹349</td><td>43%</td><td>4.0</td><td>43,994</td><td>Compatible with a...</td><td>AECPFYFQVRUWC3KGN...</td><td>ArdKn,Nirbhay kum...</td><td>RGIQEG07R9HS2,R1S...</td><td>A Good Braided Ca...</td><td>I ordered this ca...</td><td>https://m.media-a...</td><td>https://www.amazo...</td></tr>\n",
       "<tr><td>B096MSW6CT</td><td>Sounce Fast Phone...</td><td>Computers&amp;Accesso...</td><td>₹199</td><td>₹1,899</td><td>90%</td><td>3.9</td><td>7,928</td><td>【 Fast Charger&amp; D...</td><td>AGU3BBQ2V2DDAMOAK...</td><td>Kunal,Himanshu,vi...</td><td>R3J3EQQ9TZI5ZJ,R3...</td><td>Good speed for ea...</td><td>Not quite durable...</td><td>https://m.media-a...</td><td>https://www.amazo...</td></tr>\n",
       "<tr><td>B08HDJ86NZ</td><td>boAt Deuce USB 30...</td><td>Computers&amp;Accesso...</td><td>₹329</td><td>₹699</td><td>53%</td><td>4.2</td><td>94,363</td><td>The boAt Deuce US...</td><td>AEWAZDZZJLQUYVOVG...</td><td>Omkar dhale,JD,HE...</td><td>R3EEUZKKK9J36I,R3...</td><td>Good product,Good...</td><td>Good product,long...</td><td>https://m.media-a...</td><td>https://www.amazo...</td></tr>\n",
       "<tr><td>B08CF3B7N1</td><td>Portronics Konnec...</td><td>Computers&amp;Accesso...</td><td>₹154</td><td>₹399</td><td>61%</td><td>4.2</td><td>16,905</td><td>[CHARGE &amp; SYNC FU...</td><td>AE3Q6KSUK5P75D5HF...</td><td>rahuls6099,Swasat...</td><td>R1BP4L2HH9TFUP,R1...</td><td>As good as origin...</td><td>Bought this inste...</td><td>https://m.media-a...</td><td>https://www.amazo...</td></tr>\n",
       "<tr><td>B08Y1TFSP6</td><td>pTron Solero TB30...</td><td>Computers&amp;Accesso...</td><td>₹149</td><td>₹1,000</td><td>85%</td><td>3.9</td><td>24,871</td><td>Fast Charging &amp; D...</td><td>AEQ2YMXSZWEOHK2EH...</td><td>Jayesh,Rajesh k.,...</td><td>R7S8ANNSDPR40,R3C...</td><td>It&#x27;s pretty good,...</td><td>It&#x27;s a good produ...</td><td>https://m.media-a...</td><td>https://www.amazo...</td></tr>\n",
       "<tr><td>B08WRWPM22</td><td>boAt Micro USB 55...</td><td>Computers&amp;Accesso...</td><td>₹176.63</td><td>₹499</td><td>65%</td><td>4.1</td><td>15,188</td><td>It Ensures High S...</td><td>AG7C6DAADCTRQJG2B...</td><td>Vivek kumar,Amazo...</td><td>R8E73K2KWJRDS,RSD...</td><td>Long durable.,goo...</td><td>Build quality is ...</td><td>https://m.media-a...</td><td>https://www.amazo...</td></tr>\n",
       "<tr><td>B08DDRGWTJ</td><td>MI Usb Type-C Cab...</td><td>Computers&amp;Accesso...</td><td>₹229</td><td>₹299</td><td>23%</td><td>4.3</td><td>30,411</td><td>1m long Type-C US...</td><td>AHW6E5LQ2BDYOIVLA...</td><td>Pavan A H,Jayesh ...</td><td>R2X090D1YHACKR,R3...</td><td>Worth for money -...</td><td>Worth for money -...</td><td>https://m.media-a...</td><td>https://www.amazo...</td></tr>\n",
       "<tr><td>B008IFXQFU</td><td>TP-Link USB WiFi ...</td><td>Computers&amp;Accesso...</td><td>₹499</td><td>₹999</td><td>50%</td><td>4.2</td><td>1,79,691</td><td>USB WiFi Adapter ...</td><td>AGV3IEFANZCKECFGU...</td><td>Azhar JuMan,Aniru...</td><td>R1LW6NWSVTVZ2H,R3...</td><td>Works on linux fo...</td><td>I use this to con...</td><td>https://m.media-a...</td><td>https://www.amazo...</td></tr>\n",
       "<tr><td>B082LZGK39</td><td>Ambrane Unbreakab...</td><td>Computers&amp;Accesso...</td><td>₹199</td><td>₹299</td><td>33%</td><td>4.0</td><td>43,994</td><td>Universal Compati...</td><td>AECPFYFQVRUWC3KGN...</td><td>ArdKn,Nirbhay kum...</td><td>RGIQEG07R9HS2,R1S...</td><td>A Good Braided Ca...</td><td>I ordered this ca...</td><td>https://m.media-a...</td><td>https://www.amazo...</td></tr>\n",
       "<tr><td>B08CF3D7QR</td><td>Portronics Konnec...</td><td>Computers&amp;Accesso...</td><td>₹154</td><td>₹339</td><td>55%</td><td>4.3</td><td>13,391</td><td>[CHARGE &amp; SYNC FU...</td><td>AGYLPKPZHVYKKZHOT...</td><td>Tanya,Anu,Akshay,...</td><td>R11MQS7WD9C3I0,R2...</td><td>Good for fast cha...</td><td>The cable is effi...</td><td>https://m.media-a...</td><td>https://www.amazo...</td></tr>\n",
       "<tr><td>B0789LZTCJ</td><td>boAt Rugged v3 Ex...</td><td>Computers&amp;Accesso...</td><td>₹299</td><td>₹799</td><td>63%</td><td>4.2</td><td>94,363</td><td>The boAt rugged c...</td><td>AEWAZDZZJLQUYVOVG...</td><td>Omkar dhale,JD,HE...</td><td>R3EEUZKKK9J36I,R3...</td><td>Good product,Good...</td><td>Good product,long...</td><td>https://m.media-a...</td><td>https://www.amazo...</td></tr>\n",
       "<tr><td>B07KSMBL2H</td><td>AmazonBasics Flex...</td><td>Electronics|HomeT...</td><td>₹219</td><td>₹700</td><td>69%</td><td>4.4</td><td>4,26,973</td><td>Flexible, lightwe...</td><td>AEYJ5I6JZZPOJB6MG...</td><td>Rishav Gossain,Sh...</td><td>R1FKOKZ3HHKJBZ,R2...</td><td>It&#x27;s quite good a...</td><td>I am using it for...</td><td>https://m.media-a...</td><td>https://www.amazo...</td></tr>\n",
       "<tr><td>B085DTN6R2</td><td>Portronics Konnec...</td><td>Computers&amp;Accesso...</td><td>₹350</td><td>₹899</td><td>61%</td><td>4.2</td><td>2,262</td><td>[20W PD FAST CHAR...</td><td>AGUAYQHARAKR2VZTR...</td><td>Priya,Mansi,Plaba...</td><td>R1QETDIPRCX4S0,RA...</td><td>Works,Nice Produc...</td><td>Definitely isn’t ...</td><td>https://m.media-a...</td><td>https://www.amazo...</td></tr>\n",
       "<tr><td>B09KLVMZ3B</td><td>Portronics Konnec...</td><td>Computers&amp;Accesso...</td><td>₹159</td><td>₹399</td><td>60%</td><td>4.1</td><td>4,768</td><td>[CHARGE &amp; SYNC FU...</td><td>AF2XXVO7JUBUVAOBT...</td><td>Deepaak Singh,siv...</td><td>R20XIOU25HEX80,R2...</td><td>Great but,Worked ...</td><td>Loosing charging ...</td><td>https://m.media-a...</td><td>https://www.amazo...</td></tr>\n",
       "<tr><td>B083342NKJ</td><td>MI Braided USB Ty...</td><td>Computers&amp;Accesso...</td><td>₹349</td><td>₹399</td><td>13%</td><td>4.4</td><td>18,757</td><td>1M Long Cable. Us...</td><td>AGSGSRTEZBQY64WO2...</td><td>Birendra ku Dash,...</td><td>R2JPQNKCOE10UK,RQ...</td><td>Good product,usin...</td><td>I like it 👍👍,Be...</td><td>https://m.media-a...</td><td>https://www.amazo...</td></tr>\n",
       "<tr><td>B0B6F7LX4C</td><td>MI 80 cm (32 inch...</td><td>Electronics|HomeT...</td><td>₹13,999</td><td>₹24,999</td><td>44%</td><td>4.2</td><td>32,840</td><td>Note : The brands...</td><td>AHEVOQADJSSRX7DS3...</td><td>Manoj maddheshiya...</td><td>R13UTIA6KOF6QV,R2...</td><td>It is the best tv...</td><td>Pros- xiomi 5a is...</td><td>https://m.media-a...</td><td>https://www.amazo...</td></tr>\n",
       "<tr><td>B082LSVT4B</td><td>Ambrane Unbreakab...</td><td>Computers&amp;Accesso...</td><td>₹249</td><td>₹399</td><td>38%</td><td>4.0</td><td>43,994</td><td>Compatible with a...</td><td>AECPFYFQVRUWC3KGN...</td><td>ArdKn,Nirbhay kum...</td><td>RGIQEG07R9HS2,R1S...</td><td>A Good Braided Ca...</td><td>I ordered this ca...</td><td>https://m.media-a...</td><td>https://www.amazo...</td></tr>\n",
       "<tr><td>B08WRBG3XW</td><td>boAt Type C A325 ...</td><td>Computers&amp;Accesso...</td><td>₹199</td><td>₹499</td><td>60%</td><td>4.1</td><td>13,045</td><td>Type C A 325 Cabl...</td><td>AFB5KJR4Q5FICAHBO...</td><td>Rohan Narkar,JAGW...</td><td>R2BP8Y5OJXKJLF,R2...</td><td>Good for charging...</td><td>Check for offera ...</td><td>https://m.media-a...</td><td>https://www.amazo...</td></tr>\n",
       "<tr><td>B08DPLCM6T</td><td>LG 80 cm (32 inch...</td><td>Electronics|HomeT...</td><td>₹13,490</td><td>₹21,990</td><td>39%</td><td>4.3</td><td>11,976</td><td>Resolution: HD Re...</td><td>AHBNKB74LGTYUOKPA...</td><td>NIRMAL.N,Manoj ku...</td><td>R2PNR69G0BQG2F,R3...</td><td>Sound quality,Ver...</td><td>LG was always Goo...</td><td>https://m.media-a...</td><td>https://www.amazo...</td></tr>\n",
       "</table>\n",
       "only showing top 20 rows\n"
      ],
      "text/plain": [
       "+----------+--------------------+--------------------+----------------+------------+-------------------+------+------------+---------------------+--------------------+--------------------+--------------------+--------------------+--------------------+--------------------+--------------------+\n",
       "|product_id|        product_name|            category|discounted_price|actual_price|discount_percentage|rating|rating_count|        about_product|             user_id|           user_name|           review_id|        review_title|      review_content|            img_link|        product_link|\n",
       "+----------+--------------------+--------------------+----------------+------------+-------------------+------+------------+---------------------+--------------------+--------------------+--------------------+--------------------+--------------------+--------------------+--------------------+\n",
       "|B07JW9H4J1|Wayona Nylon Brai...|Computers&Accesso...|            ₹399|      ₹1,099|                64%|   4.2|      24,269| High Compatibilit...|AG3D6O4STAQKAY2UV...|Manav,Adarsh gupt...|R3HXWT0LRP0NMF,R2...|Satisfied,Chargin...|Looks durable Cha...|https://m.media-a...|https://www.amazo...|\n",
       "|B098NS6PVG|Ambrane Unbreakab...|Computers&Accesso...|            ₹199|        ₹349|                43%|   4.0|      43,994| Compatible with a...|AECPFYFQVRUWC3KGN...|ArdKn,Nirbhay kum...|RGIQEG07R9HS2,R1S...|A Good Braided Ca...|I ordered this ca...|https://m.media-a...|https://www.amazo...|\n",
       "|B096MSW6CT|Sounce Fast Phone...|Computers&Accesso...|            ₹199|      ₹1,899|                90%|   3.9|       7,928|【 Fast Charger& D...|AGU3BBQ2V2DDAMOAK...|Kunal,Himanshu,vi...|R3J3EQQ9TZI5ZJ,R3...|Good speed for ea...|Not quite durable...|https://m.media-a...|https://www.amazo...|\n",
       "|B08HDJ86NZ|boAt Deuce USB 30...|Computers&Accesso...|            ₹329|        ₹699|                53%|   4.2|      94,363| The boAt Deuce US...|AEWAZDZZJLQUYVOVG...|Omkar dhale,JD,HE...|R3EEUZKKK9J36I,R3...|Good product,Good...|Good product,long...|https://m.media-a...|https://www.amazo...|\n",
       "|B08CF3B7N1|Portronics Konnec...|Computers&Accesso...|            ₹154|        ₹399|                61%|   4.2|      16,905| [CHARGE & SYNC FU...|AE3Q6KSUK5P75D5HF...|rahuls6099,Swasat...|R1BP4L2HH9TFUP,R1...|As good as origin...|Bought this inste...|https://m.media-a...|https://www.amazo...|\n",
       "|B08Y1TFSP6|pTron Solero TB30...|Computers&Accesso...|            ₹149|      ₹1,000|                85%|   3.9|      24,871| Fast Charging & D...|AEQ2YMXSZWEOHK2EH...|Jayesh,Rajesh k.,...|R7S8ANNSDPR40,R3C...|It's pretty good,...|It's a good produ...|https://m.media-a...|https://www.amazo...|\n",
       "|B08WRWPM22|boAt Micro USB 55...|Computers&Accesso...|         ₹176.63|        ₹499|                65%|   4.1|      15,188| It Ensures High S...|AG7C6DAADCTRQJG2B...|Vivek kumar,Amazo...|R8E73K2KWJRDS,RSD...|Long durable.,goo...|Build quality is ...|https://m.media-a...|https://www.amazo...|\n",
       "|B08DDRGWTJ|MI Usb Type-C Cab...|Computers&Accesso...|            ₹229|        ₹299|                23%|   4.3|      30,411| 1m long Type-C US...|AHW6E5LQ2BDYOIVLA...|Pavan A H,Jayesh ...|R2X090D1YHACKR,R3...|Worth for money -...|Worth for money -...|https://m.media-a...|https://www.amazo...|\n",
       "|B008IFXQFU|TP-Link USB WiFi ...|Computers&Accesso...|            ₹499|        ₹999|                50%|   4.2|    1,79,691| USB WiFi Adapter ...|AGV3IEFANZCKECFGU...|Azhar JuMan,Aniru...|R1LW6NWSVTVZ2H,R3...|Works on linux fo...|I use this to con...|https://m.media-a...|https://www.amazo...|\n",
       "|B082LZGK39|Ambrane Unbreakab...|Computers&Accesso...|            ₹199|        ₹299|                33%|   4.0|      43,994| Universal Compati...|AECPFYFQVRUWC3KGN...|ArdKn,Nirbhay kum...|RGIQEG07R9HS2,R1S...|A Good Braided Ca...|I ordered this ca...|https://m.media-a...|https://www.amazo...|\n",
       "|B08CF3D7QR|Portronics Konnec...|Computers&Accesso...|            ₹154|        ₹339|                55%|   4.3|      13,391| [CHARGE & SYNC FU...|AGYLPKPZHVYKKZHOT...|Tanya,Anu,Akshay,...|R11MQS7WD9C3I0,R2...|Good for fast cha...|The cable is effi...|https://m.media-a...|https://www.amazo...|\n",
       "|B0789LZTCJ|boAt Rugged v3 Ex...|Computers&Accesso...|            ₹299|        ₹799|                63%|   4.2|      94,363| The boAt rugged c...|AEWAZDZZJLQUYVOVG...|Omkar dhale,JD,HE...|R3EEUZKKK9J36I,R3...|Good product,Good...|Good product,long...|https://m.media-a...|https://www.amazo...|\n",
       "|B07KSMBL2H|AmazonBasics Flex...|Electronics|HomeT...|            ₹219|        ₹700|                69%|   4.4|    4,26,973| Flexible, lightwe...|AEYJ5I6JZZPOJB6MG...|Rishav Gossain,Sh...|R1FKOKZ3HHKJBZ,R2...|It's quite good a...|I am using it for...|https://m.media-a...|https://www.amazo...|\n",
       "|B085DTN6R2|Portronics Konnec...|Computers&Accesso...|            ₹350|        ₹899|                61%|   4.2|       2,262| [20W PD FAST CHAR...|AGUAYQHARAKR2VZTR...|Priya,Mansi,Plaba...|R1QETDIPRCX4S0,RA...|Works,Nice Produc...|Definitely isn’t ...|https://m.media-a...|https://www.amazo...|\n",
       "|B09KLVMZ3B|Portronics Konnec...|Computers&Accesso...|            ₹159|        ₹399|                60%|   4.1|       4,768| [CHARGE & SYNC FU...|AF2XXVO7JUBUVAOBT...|Deepaak Singh,siv...|R20XIOU25HEX80,R2...|Great but,Worked ...|Loosing charging ...|https://m.media-a...|https://www.amazo...|\n",
       "|B083342NKJ|MI Braided USB Ty...|Computers&Accesso...|            ₹349|        ₹399|                13%|   4.4|      18,757| 1M Long Cable. Us...|AGSGSRTEZBQY64WO2...|Birendra ku Dash,...|R2JPQNKCOE10UK,RQ...|Good product,usin...|I like it 👍👍,Be...|https://m.media-a...|https://www.amazo...|\n",
       "|B0B6F7LX4C|MI 80 cm (32 inch...|Electronics|HomeT...|         ₹13,999|     ₹24,999|                44%|   4.2|      32,840| Note : The brands...|AHEVOQADJSSRX7DS3...|Manoj maddheshiya...|R13UTIA6KOF6QV,R2...|It is the best tv...|Pros- xiomi 5a is...|https://m.media-a...|https://www.amazo...|\n",
       "|B082LSVT4B|Ambrane Unbreakab...|Computers&Accesso...|            ₹249|        ₹399|                38%|   4.0|      43,994| Compatible with a...|AECPFYFQVRUWC3KGN...|ArdKn,Nirbhay kum...|RGIQEG07R9HS2,R1S...|A Good Braided Ca...|I ordered this ca...|https://m.media-a...|https://www.amazo...|\n",
       "|B08WRBG3XW|boAt Type C A325 ...|Computers&Accesso...|            ₹199|        ₹499|                60%|   4.1|      13,045| Type C A 325 Cabl...|AFB5KJR4Q5FICAHBO...|Rohan Narkar,JAGW...|R2BP8Y5OJXKJLF,R2...|Good for charging...|Check for offera ...|https://m.media-a...|https://www.amazo...|\n",
       "|B08DPLCM6T|LG 80 cm (32 inch...|Electronics|HomeT...|         ₹13,490|     ₹21,990|                39%|   4.3|      11,976| Resolution: HD Re...|AHBNKB74LGTYUOKPA...|NIRMAL.N,Manoj ku...|R2PNR69G0BQG2F,R3...|Sound quality,Ver...|LG was always Goo...|https://m.media-a...|https://www.amazo...|\n",
       "+----------+--------------------+--------------------+----------------+------------+-------------------+------+------------+---------------------+--------------------+--------------------+--------------------+--------------------+--------------------+--------------------+--------------------+\n",
       "only showing top 20 rows"
      ]
     },
     "execution_count": 17,
     "metadata": {},
     "output_type": "execute_result"
    }
   ],
   "source": [
    "df"
   ]
  },
  {
   "cell_type": "code",
   "execution_count": 18,
   "id": "fac6c5ef",
   "metadata": {},
   "outputs": [
    {
     "name": "stdout",
     "output_type": "stream",
     "text": [
      "+--------+\n",
      "|count(1)|\n",
      "+--------+\n",
      "|    1465|\n",
      "+--------+\n",
      "\n"
     ]
    }
   ],
   "source": [
    "#registering dataframe as a table.\n",
    "df.createOrReplaceTempView(\"amazon\")\n",
    "#runnig spark sql  to print the number of rows.\n",
    "spark.sql(\"SELECT count(*) from amazon\").show()"
   ]
  },
  {
   "cell_type": "code",
   "execution_count": 19,
   "id": "b64752f0",
   "metadata": {},
   "outputs": [
    {
     "data": {
      "text/plain": [
       "pyspark.sql.dataframe.DataFrame"
      ]
     },
     "execution_count": 19,
     "metadata": {},
     "output_type": "execute_result"
    }
   ],
   "source": [
    "type(df)"
   ]
  },
  {
   "cell_type": "code",
   "execution_count": 20,
   "id": "7e6de83f",
   "metadata": {},
   "outputs": [],
   "source": [
    "spark.stop()"
   ]
  },
  {
   "cell_type": "code",
   "execution_count": 21,
   "id": "02c073cb",
   "metadata": {},
   "outputs": [],
   "source": [
    "from pyspark.sql import SparkSession"
   ]
  },
  {
   "cell_type": "code",
   "execution_count": 22,
   "id": "dfe4ae75",
   "metadata": {},
   "outputs": [],
   "source": [
    "sc = SparkSession.builder.getOrCreate()"
   ]
  },
  {
   "cell_type": "code",
   "execution_count": 23,
   "id": "b27d2549",
   "metadata": {},
   "outputs": [
    {
     "name": "stdout",
     "output_type": "stream",
     "text": [
      "+---+\n",
      "|  a|\n",
      "+---+\n",
      "|  1|\n",
      "|  2|\n",
      "|  3|\n",
      "|  4|\n",
      "|  5|\n",
      "+---+\n",
      "\n"
     ]
    },
    {
     "data": {
      "text/plain": [
       "pyspark.sql.dataframe.DataFrame"
      ]
     },
     "execution_count": 23,
     "metadata": {},
     "output_type": "execute_result"
    }
   ],
   "source": [
    "df=pd.DataFrame({'a':[1,2,3,4,5]})\n",
    "df=sc.createDataFrame(df)\n",
    "df.show()\n",
    "type(df)"
   ]
  },
  {
   "cell_type": "code",
   "execution_count": 24,
   "id": "16ef756e",
   "metadata": {},
   "outputs": [],
   "source": [
    "sc.stop()"
   ]
  },
  {
   "cell_type": "code",
   "execution_count": 25,
   "id": "782b6215",
   "metadata": {},
   "outputs": [
    {
     "data": {
      "text/plain": [
       "pyspark.rdd.RDD"
      ]
     },
     "execution_count": 25,
     "metadata": {},
     "output_type": "execute_result"
    }
   ],
   "source": [
    "# Initialize SparkSession and sparksession\n",
    "from pyspark.sql import SparkSession\n",
    "from pyspark.sql import *\n",
    "\n",
    "spark = SparkSession.builder.getOrCreate()\n",
    "\n",
    "# Create an RDD using SparkSession\n",
    "rdd = spark.sparkContext.parallelize([1, 2, 3, 4, 5])\n",
    "\n",
    "# Perform an action to collect the RDD\n",
    "type(rdd)"
   ]
  },
  {
   "cell_type": "code",
   "execution_count": 26,
   "id": "bc7fcd28",
   "metadata": {},
   "outputs": [
    {
     "data": {
      "text/plain": [
       "[2, 4]"
      ]
     },
     "execution_count": 26,
     "metadata": {},
     "output_type": "execute_result"
    }
   ],
   "source": [
    "rdd.map(lambda a:2*a ).collect()\n",
    "rdd.map(lambda a:2*a ).take(2)"
   ]
  },
  {
   "cell_type": "code",
   "execution_count": 27,
   "id": "cd545604",
   "metadata": {},
   "outputs": [
    {
     "data": {
      "text/plain": [
       "[1, 2]"
      ]
     },
     "execution_count": 27,
     "metadata": {},
     "output_type": "execute_result"
    }
   ],
   "source": [
    "type(rdd)\n",
    "rdd.take(2)"
   ]
  },
  {
   "cell_type": "code",
   "execution_count": 28,
   "id": "48663973",
   "metadata": {},
   "outputs": [
    {
     "data": {
      "text/plain": [
       "DataFrame[a: bigint]"
      ]
     },
     "execution_count": 28,
     "metadata": {},
     "output_type": "execute_result"
    }
   ],
   "source": [
    "df"
   ]
  },
  {
   "cell_type": "code",
   "execution_count": 29,
   "id": "750a778d",
   "metadata": {},
   "outputs": [
    {
     "name": "stdout",
     "output_type": "stream",
     "text": [
      "+---+\n",
      "|  a|\n",
      "+---+\n",
      "|  1|\n",
      "|  2|\n",
      "|  3|\n",
      "|  4|\n",
      "|  5|\n",
      "|  6|\n",
      "|  7|\n",
      "|  8|\n",
      "+---+\n",
      "\n"
     ]
    }
   ],
   "source": [
    "df=pd.DataFrame({'a':[1,2,3,4,5,6,7,8]})\n",
    "df=spark.createDataFrame(df)\n",
    "df.show()\n"
   ]
  },
  {
   "cell_type": "code",
   "execution_count": 30,
   "id": "91be6251",
   "metadata": {},
   "outputs": [
    {
     "name": "stdout",
     "output_type": "stream",
     "text": [
      "+------+---------+\n",
      "|number|number_x2|\n",
      "+------+---------+\n",
      "|     1|        2|\n",
      "|     2|        4|\n",
      "|     3|        6|\n",
      "+------+---------+\n",
      "\n"
     ]
    }
   ],
   "source": [
    "df1 = spark.createDataFrame([(1,), (2,), (3,)], [\"number\"])\n",
    "df_map = df1.withColumn(\"number_x2\", df1[\"number\"] * 2)\n",
    "df_map.show()"
   ]
  },
  {
   "cell_type": "code",
   "execution_count": 31,
   "id": "6b50a792",
   "metadata": {},
   "outputs": [],
   "source": [
    "sc.stop()\n"
   ]
  },
  {
   "cell_type": "code",
   "execution_count": null,
   "id": "80748b07",
   "metadata": {},
   "outputs": [],
   "source": []
  },
  {
   "cell_type": "code",
   "execution_count": null,
   "id": "f8e77594",
   "metadata": {},
   "outputs": [],
   "source": []
  }
 ],
 "metadata": {
  "kernelspec": {
   "display_name": "Python 3 (ipykernel)",
   "language": "python",
   "name": "python3"
  },
  "language_info": {
   "codemirror_mode": {
    "name": "ipython",
    "version": 3
   },
   "file_extension": ".py",
   "mimetype": "text/x-python",
   "name": "python",
   "nbconvert_exporter": "python",
   "pygments_lexer": "ipython3",
   "version": "3.11.5"
  }
 },
 "nbformat": 4,
 "nbformat_minor": 5
}
